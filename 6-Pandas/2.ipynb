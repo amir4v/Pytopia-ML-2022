{
 "cells": [
  {
   "cell_type": "code",
   "execution_count": 4,
   "metadata": {},
   "outputs": [],
   "source": [
    "import numpy as np\n",
    "import pandas as pd"
   ]
  },
  {
   "cell_type": "code",
   "execution_count": 5,
   "metadata": {},
   "outputs": [],
   "source": [
    "# Project, gender prediction"
   ]
  },
  {
   "cell_type": "code",
   "execution_count": 6,
   "metadata": {},
   "outputs": [
    {
     "name": "stdout",
     "output_type": "stream",
     "text": [
      "Requirement already satisfied: Faker in d:\\dev\\venv\\lib\\site-packages (19.13.0)\n",
      "Requirement already satisfied: python-dateutil>=2.4 in d:\\dev\\venv\\lib\\site-packages (from Faker) (2.8.2)\n",
      "Requirement already satisfied: six>=1.5 in d:\\dev\\venv\\lib\\site-packages (from python-dateutil>=2.4->Faker) (1.16.0)\n"
     ]
    },
    {
     "name": "stderr",
     "output_type": "stream",
     "text": [
      "\n",
      "[notice] A new release of pip is available: 23.2.1 -> 23.3.1\n",
      "[notice] To update, run: python.exe -m pip install --upgrade pip\n"
     ]
    }
   ],
   "source": [
    "!pip install Faker"
   ]
  },
  {
   "cell_type": "code",
   "execution_count": 7,
   "metadata": {},
   "outputs": [
    {
     "name": "stdout",
     "output_type": "stream",
     "text": [
      "Requirement already satisfied: names-dataset in d:\\dev\\venv\\lib\\site-packages (3.1.0)\n",
      "Requirement already satisfied: pycountry in d:\\dev\\venv\\lib\\site-packages (from names-dataset) (22.3.5)\n",
      "Requirement already satisfied: setuptools in d:\\dev\\venv\\lib\\site-packages (from pycountry->names-dataset) (68.2.2)\n"
     ]
    },
    {
     "name": "stderr",
     "output_type": "stream",
     "text": [
      "\n",
      "[notice] A new release of pip is available: 23.2.1 -> 23.3.1\n",
      "[notice] To update, run: python.exe -m pip install --upgrade pip\n"
     ]
    }
   ],
   "source": [
    "!pip install names-dataset"
   ]
  },
  {
   "cell_type": "code",
   "execution_count": 8,
   "metadata": {},
   "outputs": [],
   "source": [
    "# EDA -> Explorary Data Analysis"
   ]
  },
  {
   "cell_type": "code",
   "execution_count": 9,
   "metadata": {},
   "outputs": [],
   "source": [
    "from faker import Faker\n",
    "en_faker = Faker()\n",
    "fa_faker = Faker('Fa')"
   ]
  },
  {
   "cell_type": "code",
   "execution_count": 10,
   "metadata": {},
   "outputs": [],
   "source": [
    "from names_dataset import NameDataset"
   ]
  },
  {
   "cell_type": "code",
   "execution_count": 11,
   "metadata": {},
   "outputs": [],
   "source": [
    "nd = NameDataset()"
   ]
  },
  {
   "cell_type": "code",
   "execution_count": 12,
   "metadata": {},
   "outputs": [
    {
     "data": {
      "text/plain": [
       "{'first_name': {'country': {'United Arab Emirates': 0.06,\n",
       "   'Algeria': 0.096,\n",
       "   'Egypt': 0.176,\n",
       "   'Israel': 0.035,\n",
       "   'Iran, Islamic Republic of': 0.168,\n",
       "   'Morocco': 0.085,\n",
       "   'Malaysia': 0.093,\n",
       "   'Oman': 0.035,\n",
       "   'Saudi Arabia': 0.182,\n",
       "   'Tunisia': 0.07},\n",
       "  'gender': {'Female': 0.031, 'Male': 0.969},\n",
       "  'rank': {'United Arab Emirates': 27,\n",
       "   'Algeria': 61,\n",
       "   'Egypt': 187,\n",
       "   'Israel': 32,\n",
       "   'Iran, Islamic Republic of': 7,\n",
       "   'Morocco': 167,\n",
       "   'Malaysia': 23,\n",
       "   'Oman': 33,\n",
       "   'Saudi Arabia': 63,\n",
       "   'Tunisia': 62}},\n",
       " 'last_name': {'country': {'United Arab Emirates': 0.052,\n",
       "   'Algeria': 0.123,\n",
       "   'Egypt': 0.197,\n",
       "   'Israel': 0.024,\n",
       "   'Iraq': 0.027,\n",
       "   'Morocco': 0.184,\n",
       "   'Malaysia': 0.159,\n",
       "   'Oman': 0.036,\n",
       "   'Saudi Arabia': 0.153,\n",
       "   'Tunisia': 0.045},\n",
       "  'gender': {},\n",
       "  'rank': {'United Arab Emirates': 164,\n",
       "   'Algeria': 66,\n",
       "   'Egypt': 466,\n",
       "   'Israel': 120,\n",
       "   'Iraq': 1129,\n",
       "   'Morocco': 86,\n",
       "   'Malaysia': 93,\n",
       "   'Oman': 213,\n",
       "   'Saudi Arabia': 238,\n",
       "   'Tunisia': 253}}}"
      ]
     },
     "execution_count": 12,
     "metadata": {},
     "output_type": "execute_result"
    }
   ],
   "source": [
    "nd.search('Amir')"
   ]
  },
  {
   "cell_type": "code",
   "execution_count": 13,
   "metadata": {},
   "outputs": [
    {
     "data": {
      "text/html": [
       "<div>\n",
       "<style scoped>\n",
       "    .dataframe tbody tr th:only-of-type {\n",
       "        vertical-align: middle;\n",
       "    }\n",
       "\n",
       "    .dataframe tbody tr th {\n",
       "        vertical-align: top;\n",
       "    }\n",
       "\n",
       "    .dataframe thead th {\n",
       "        text-align: right;\n",
       "    }\n",
       "</style>\n",
       "<table border=\"1\" class=\"dataframe\">\n",
       "  <thead>\n",
       "    <tr style=\"text-align: right;\">\n",
       "      <th></th>\n",
       "      <th>names</th>\n",
       "    </tr>\n",
       "  </thead>\n",
       "  <tbody>\n",
       "    <tr>\n",
       "      <th>0</th>\n",
       "      <td>Randy Schultz</td>\n",
       "    </tr>\n",
       "    <tr>\n",
       "      <th>1</th>\n",
       "      <td>Tyler Martin</td>\n",
       "    </tr>\n",
       "    <tr>\n",
       "      <th>2</th>\n",
       "      <td>Jennifer Crawford</td>\n",
       "    </tr>\n",
       "    <tr>\n",
       "      <th>3</th>\n",
       "      <td>Erin Harris</td>\n",
       "    </tr>\n",
       "    <tr>\n",
       "      <th>4</th>\n",
       "      <td>Russell Dominguez</td>\n",
       "    </tr>\n",
       "    <tr>\n",
       "      <th>...</th>\n",
       "      <td>...</td>\n",
       "    </tr>\n",
       "    <tr>\n",
       "      <th>95</th>\n",
       "      <td>John Watts</td>\n",
       "    </tr>\n",
       "    <tr>\n",
       "      <th>96</th>\n",
       "      <td>Mark Woodard</td>\n",
       "    </tr>\n",
       "    <tr>\n",
       "      <th>97</th>\n",
       "      <td>Patrick Ramos</td>\n",
       "    </tr>\n",
       "    <tr>\n",
       "      <th>98</th>\n",
       "      <td>Megan Alexander</td>\n",
       "    </tr>\n",
       "    <tr>\n",
       "      <th>99</th>\n",
       "      <td>Melinda Johnson</td>\n",
       "    </tr>\n",
       "  </tbody>\n",
       "</table>\n",
       "<p>100 rows × 1 columns</p>\n",
       "</div>"
      ],
      "text/plain": [
       "                names\n",
       "0       Randy Schultz\n",
       "1        Tyler Martin\n",
       "2   Jennifer Crawford\n",
       "3         Erin Harris\n",
       "4   Russell Dominguez\n",
       "..                ...\n",
       "95         John Watts\n",
       "96       Mark Woodard\n",
       "97      Patrick Ramos\n",
       "98    Megan Alexander\n",
       "99    Melinda Johnson\n",
       "\n",
       "[100 rows x 1 columns]"
      ]
     },
     "execution_count": 13,
     "metadata": {},
     "output_type": "execute_result"
    }
   ],
   "source": [
    "df = pd.DataFrame(\n",
    "    {\n",
    "        'names': [en_faker.name() for i in range(100)]\n",
    "    }\n",
    ")\n",
    "df"
   ]
  },
  {
   "cell_type": "markdown",
   "metadata": {},
   "source": [
    "# Comment\n",
    "## Sub-Comment\n",
    "normal text"
   ]
  },
  {
   "cell_type": "code",
   "execution_count": 14,
   "metadata": {},
   "outputs": [],
   "source": [
    "df['first name'] = df['names'].apply(lambda name: name.split()[0])"
   ]
  },
  {
   "cell_type": "code",
   "execution_count": 15,
   "metadata": {},
   "outputs": [],
   "source": [
    "df['last name'] = df['names'].apply(lambda name: name.split()[-1])"
   ]
  },
  {
   "cell_type": "code",
   "execution_count": 16,
   "metadata": {},
   "outputs": [
    {
     "data": {
      "text/html": [
       "<div>\n",
       "<style scoped>\n",
       "    .dataframe tbody tr th:only-of-type {\n",
       "        vertical-align: middle;\n",
       "    }\n",
       "\n",
       "    .dataframe tbody tr th {\n",
       "        vertical-align: top;\n",
       "    }\n",
       "\n",
       "    .dataframe thead th {\n",
       "        text-align: right;\n",
       "    }\n",
       "</style>\n",
       "<table border=\"1\" class=\"dataframe\">\n",
       "  <thead>\n",
       "    <tr style=\"text-align: right;\">\n",
       "      <th></th>\n",
       "      <th>names</th>\n",
       "      <th>first name</th>\n",
       "      <th>last name</th>\n",
       "    </tr>\n",
       "  </thead>\n",
       "  <tbody>\n",
       "    <tr>\n",
       "      <th>0</th>\n",
       "      <td>Randy Schultz</td>\n",
       "      <td>Randy</td>\n",
       "      <td>Schultz</td>\n",
       "    </tr>\n",
       "    <tr>\n",
       "      <th>1</th>\n",
       "      <td>Tyler Martin</td>\n",
       "      <td>Tyler</td>\n",
       "      <td>Martin</td>\n",
       "    </tr>\n",
       "    <tr>\n",
       "      <th>2</th>\n",
       "      <td>Jennifer Crawford</td>\n",
       "      <td>Jennifer</td>\n",
       "      <td>Crawford</td>\n",
       "    </tr>\n",
       "    <tr>\n",
       "      <th>3</th>\n",
       "      <td>Erin Harris</td>\n",
       "      <td>Erin</td>\n",
       "      <td>Harris</td>\n",
       "    </tr>\n",
       "    <tr>\n",
       "      <th>4</th>\n",
       "      <td>Russell Dominguez</td>\n",
       "      <td>Russell</td>\n",
       "      <td>Dominguez</td>\n",
       "    </tr>\n",
       "    <tr>\n",
       "      <th>...</th>\n",
       "      <td>...</td>\n",
       "      <td>...</td>\n",
       "      <td>...</td>\n",
       "    </tr>\n",
       "    <tr>\n",
       "      <th>95</th>\n",
       "      <td>John Watts</td>\n",
       "      <td>John</td>\n",
       "      <td>Watts</td>\n",
       "    </tr>\n",
       "    <tr>\n",
       "      <th>96</th>\n",
       "      <td>Mark Woodard</td>\n",
       "      <td>Mark</td>\n",
       "      <td>Woodard</td>\n",
       "    </tr>\n",
       "    <tr>\n",
       "      <th>97</th>\n",
       "      <td>Patrick Ramos</td>\n",
       "      <td>Patrick</td>\n",
       "      <td>Ramos</td>\n",
       "    </tr>\n",
       "    <tr>\n",
       "      <th>98</th>\n",
       "      <td>Megan Alexander</td>\n",
       "      <td>Megan</td>\n",
       "      <td>Alexander</td>\n",
       "    </tr>\n",
       "    <tr>\n",
       "      <th>99</th>\n",
       "      <td>Melinda Johnson</td>\n",
       "      <td>Melinda</td>\n",
       "      <td>Johnson</td>\n",
       "    </tr>\n",
       "  </tbody>\n",
       "</table>\n",
       "<p>100 rows × 3 columns</p>\n",
       "</div>"
      ],
      "text/plain": [
       "                names first name  last name\n",
       "0       Randy Schultz      Randy    Schultz\n",
       "1        Tyler Martin      Tyler     Martin\n",
       "2   Jennifer Crawford   Jennifer   Crawford\n",
       "3         Erin Harris       Erin     Harris\n",
       "4   Russell Dominguez    Russell  Dominguez\n",
       "..                ...        ...        ...\n",
       "95         John Watts       John      Watts\n",
       "96       Mark Woodard       Mark    Woodard\n",
       "97      Patrick Ramos    Patrick      Ramos\n",
       "98    Megan Alexander      Megan  Alexander\n",
       "99    Melinda Johnson    Melinda    Johnson\n",
       "\n",
       "[100 rows x 3 columns]"
      ]
     },
     "execution_count": 16,
     "metadata": {},
     "output_type": "execute_result"
    }
   ],
   "source": [
    "df"
   ]
  },
  {
   "cell_type": "code",
   "execution_count": 17,
   "metadata": {},
   "outputs": [
    {
     "data": {
      "text/plain": [
       "0         [Randy, Schultz]\n",
       "1          [Tyler, Martin]\n",
       "2     [Jennifer, Crawford]\n",
       "3           [Erin, Harris]\n",
       "4     [Russell, Dominguez]\n",
       "              ...         \n",
       "95           [John, Watts]\n",
       "96         [Mark, Woodard]\n",
       "97        [Patrick, Ramos]\n",
       "98      [Megan, Alexander]\n",
       "99      [Melinda, Johnson]\n",
       "Name: names, Length: 100, dtype: object"
      ]
     },
     "execution_count": 17,
     "metadata": {},
     "output_type": "execute_result"
    }
   ],
   "source": [
    "df['names'].str.split()"
   ]
  },
  {
   "cell_type": "code",
   "execution_count": 18,
   "metadata": {},
   "outputs": [
    {
     "data": {
      "text/plain": [
       "{'Female': 0.502, 'Male': 0.498}"
      ]
     },
     "execution_count": 18,
     "metadata": {},
     "output_type": "execute_result"
    }
   ],
   "source": [
    "name = 'Amire'\n",
    "amire_gender = nd.search(name)['first_name']['gender']\n",
    "amire_gender"
   ]
  },
  {
   "cell_type": "code",
   "execution_count": 19,
   "metadata": {},
   "outputs": [
    {
     "data": {
      "text/plain": [
       "3"
      ]
     },
     "execution_count": 19,
     "metadata": {},
     "output_type": "execute_result"
    }
   ],
   "source": [
    "max([1,2,3])"
   ]
  },
  {
   "cell_type": "code",
   "execution_count": 20,
   "metadata": {},
   "outputs": [
    {
     "data": {
      "text/plain": [
       "1"
      ]
     },
     "execution_count": 20,
     "metadata": {},
     "output_type": "execute_result"
    }
   ],
   "source": [
    "max([1,2,3], key=lambda x: -x)"
   ]
  },
  {
   "cell_type": "code",
   "execution_count": 21,
   "metadata": {},
   "outputs": [
    {
     "data": {
      "text/plain": [
       "'Female'"
      ]
     },
     "execution_count": 21,
     "metadata": {},
     "output_type": "execute_result"
    }
   ],
   "source": [
    "max(amire_gender, key=amire_gender.get)"
   ]
  },
  {
   "cell_type": "code",
   "execution_count": 22,
   "metadata": {},
   "outputs": [
    {
     "name": "stdout",
     "output_type": "stream",
     "text": [
      "Female\n",
      "Male\n"
     ]
    }
   ],
   "source": [
    "for p in amire_gender:\n",
    "    print(p)"
   ]
  },
  {
   "cell_type": "code",
   "execution_count": 25,
   "metadata": {},
   "outputs": [
    {
     "data": {
      "text/plain": [
       "'Male'"
      ]
     },
     "execution_count": 25,
     "metadata": {},
     "output_type": "execute_result"
    }
   ],
   "source": [
    "max(amire_gender) # 'M' > 'F'"
   ]
  },
  {
   "cell_type": "code",
   "execution_count": 26,
   "metadata": {},
   "outputs": [
    {
     "data": {
      "text/plain": [
       "'Female'"
      ]
     },
     "execution_count": 26,
     "metadata": {},
     "output_type": "execute_result"
    }
   ],
   "source": [
    "max(amire_gender, key=amire_gender.get)"
   ]
  },
  {
   "cell_type": "code",
   "execution_count": 28,
   "metadata": {},
   "outputs": [
    {
     "data": {
      "text/plain": [
       "[6, 7, 8, 9, 90]"
      ]
     },
     "execution_count": 28,
     "metadata": {},
     "output_type": "execute_result"
    }
   ],
   "source": [
    "list(filter(lambda x: x>5, [1,2,3,4,5,6,7,8,9,90]))"
   ]
  },
  {
   "cell_type": "code",
   "execution_count": 29,
   "metadata": {},
   "outputs": [
    {
     "data": {
      "text/html": [
       "<div>\n",
       "<style scoped>\n",
       "    .dataframe tbody tr th:only-of-type {\n",
       "        vertical-align: middle;\n",
       "    }\n",
       "\n",
       "    .dataframe tbody tr th {\n",
       "        vertical-align: top;\n",
       "    }\n",
       "\n",
       "    .dataframe thead th {\n",
       "        text-align: right;\n",
       "    }\n",
       "</style>\n",
       "<table border=\"1\" class=\"dataframe\">\n",
       "  <thead>\n",
       "    <tr style=\"text-align: right;\">\n",
       "      <th></th>\n",
       "      <th>names</th>\n",
       "      <th>first name</th>\n",
       "      <th>last name</th>\n",
       "    </tr>\n",
       "  </thead>\n",
       "  <tbody>\n",
       "    <tr>\n",
       "      <th>0</th>\n",
       "      <td>Randy Schultz</td>\n",
       "      <td>Randy</td>\n",
       "      <td>Schultz</td>\n",
       "    </tr>\n",
       "    <tr>\n",
       "      <th>1</th>\n",
       "      <td>Tyler Martin</td>\n",
       "      <td>Tyler</td>\n",
       "      <td>Martin</td>\n",
       "    </tr>\n",
       "    <tr>\n",
       "      <th>2</th>\n",
       "      <td>Jennifer Crawford</td>\n",
       "      <td>Jennifer</td>\n",
       "      <td>Crawford</td>\n",
       "    </tr>\n",
       "    <tr>\n",
       "      <th>3</th>\n",
       "      <td>Erin Harris</td>\n",
       "      <td>Erin</td>\n",
       "      <td>Harris</td>\n",
       "    </tr>\n",
       "    <tr>\n",
       "      <th>4</th>\n",
       "      <td>Russell Dominguez</td>\n",
       "      <td>Russell</td>\n",
       "      <td>Dominguez</td>\n",
       "    </tr>\n",
       "    <tr>\n",
       "      <th>...</th>\n",
       "      <td>...</td>\n",
       "      <td>...</td>\n",
       "      <td>...</td>\n",
       "    </tr>\n",
       "    <tr>\n",
       "      <th>95</th>\n",
       "      <td>John Watts</td>\n",
       "      <td>John</td>\n",
       "      <td>Watts</td>\n",
       "    </tr>\n",
       "    <tr>\n",
       "      <th>96</th>\n",
       "      <td>Mark Woodard</td>\n",
       "      <td>Mark</td>\n",
       "      <td>Woodard</td>\n",
       "    </tr>\n",
       "    <tr>\n",
       "      <th>97</th>\n",
       "      <td>Patrick Ramos</td>\n",
       "      <td>Patrick</td>\n",
       "      <td>Ramos</td>\n",
       "    </tr>\n",
       "    <tr>\n",
       "      <th>98</th>\n",
       "      <td>Megan Alexander</td>\n",
       "      <td>Megan</td>\n",
       "      <td>Alexander</td>\n",
       "    </tr>\n",
       "    <tr>\n",
       "      <th>99</th>\n",
       "      <td>Melinda Johnson</td>\n",
       "      <td>Melinda</td>\n",
       "      <td>Johnson</td>\n",
       "    </tr>\n",
       "  </tbody>\n",
       "</table>\n",
       "<p>100 rows × 3 columns</p>\n",
       "</div>"
      ],
      "text/plain": [
       "                names first name  last name\n",
       "0       Randy Schultz      Randy    Schultz\n",
       "1        Tyler Martin      Tyler     Martin\n",
       "2   Jennifer Crawford   Jennifer   Crawford\n",
       "3         Erin Harris       Erin     Harris\n",
       "4   Russell Dominguez    Russell  Dominguez\n",
       "..                ...        ...        ...\n",
       "95         John Watts       John      Watts\n",
       "96       Mark Woodard       Mark    Woodard\n",
       "97      Patrick Ramos    Patrick      Ramos\n",
       "98    Megan Alexander      Megan  Alexander\n",
       "99    Melinda Johnson    Melinda    Johnson\n",
       "\n",
       "[100 rows x 3 columns]"
      ]
     },
     "execution_count": 29,
     "metadata": {},
     "output_type": "execute_result"
    }
   ],
   "source": [
    "df"
   ]
  },
  {
   "cell_type": "code",
   "execution_count": 30,
   "metadata": {},
   "outputs": [],
   "source": [
    "df['v'] = np.random.randint(0, 100, 100)"
   ]
  },
  {
   "cell_type": "code",
   "execution_count": 31,
   "metadata": {},
   "outputs": [
    {
     "data": {
      "text/html": [
       "<div>\n",
       "<style scoped>\n",
       "    .dataframe tbody tr th:only-of-type {\n",
       "        vertical-align: middle;\n",
       "    }\n",
       "\n",
       "    .dataframe tbody tr th {\n",
       "        vertical-align: top;\n",
       "    }\n",
       "\n",
       "    .dataframe thead th {\n",
       "        text-align: right;\n",
       "    }\n",
       "</style>\n",
       "<table border=\"1\" class=\"dataframe\">\n",
       "  <thead>\n",
       "    <tr style=\"text-align: right;\">\n",
       "      <th></th>\n",
       "      <th>names</th>\n",
       "      <th>first name</th>\n",
       "      <th>last name</th>\n",
       "      <th>v</th>\n",
       "    </tr>\n",
       "  </thead>\n",
       "  <tbody>\n",
       "    <tr>\n",
       "      <th>0</th>\n",
       "      <td>Randy Schultz</td>\n",
       "      <td>Randy</td>\n",
       "      <td>Schultz</td>\n",
       "      <td>45</td>\n",
       "    </tr>\n",
       "    <tr>\n",
       "      <th>1</th>\n",
       "      <td>Tyler Martin</td>\n",
       "      <td>Tyler</td>\n",
       "      <td>Martin</td>\n",
       "      <td>7</td>\n",
       "    </tr>\n",
       "    <tr>\n",
       "      <th>2</th>\n",
       "      <td>Jennifer Crawford</td>\n",
       "      <td>Jennifer</td>\n",
       "      <td>Crawford</td>\n",
       "      <td>14</td>\n",
       "    </tr>\n",
       "    <tr>\n",
       "      <th>3</th>\n",
       "      <td>Erin Harris</td>\n",
       "      <td>Erin</td>\n",
       "      <td>Harris</td>\n",
       "      <td>35</td>\n",
       "    </tr>\n",
       "    <tr>\n",
       "      <th>4</th>\n",
       "      <td>Russell Dominguez</td>\n",
       "      <td>Russell</td>\n",
       "      <td>Dominguez</td>\n",
       "      <td>9</td>\n",
       "    </tr>\n",
       "    <tr>\n",
       "      <th>...</th>\n",
       "      <td>...</td>\n",
       "      <td>...</td>\n",
       "      <td>...</td>\n",
       "      <td>...</td>\n",
       "    </tr>\n",
       "    <tr>\n",
       "      <th>95</th>\n",
       "      <td>John Watts</td>\n",
       "      <td>John</td>\n",
       "      <td>Watts</td>\n",
       "      <td>14</td>\n",
       "    </tr>\n",
       "    <tr>\n",
       "      <th>96</th>\n",
       "      <td>Mark Woodard</td>\n",
       "      <td>Mark</td>\n",
       "      <td>Woodard</td>\n",
       "      <td>39</td>\n",
       "    </tr>\n",
       "    <tr>\n",
       "      <th>97</th>\n",
       "      <td>Patrick Ramos</td>\n",
       "      <td>Patrick</td>\n",
       "      <td>Ramos</td>\n",
       "      <td>1</td>\n",
       "    </tr>\n",
       "    <tr>\n",
       "      <th>98</th>\n",
       "      <td>Megan Alexander</td>\n",
       "      <td>Megan</td>\n",
       "      <td>Alexander</td>\n",
       "      <td>12</td>\n",
       "    </tr>\n",
       "    <tr>\n",
       "      <th>99</th>\n",
       "      <td>Melinda Johnson</td>\n",
       "      <td>Melinda</td>\n",
       "      <td>Johnson</td>\n",
       "      <td>4</td>\n",
       "    </tr>\n",
       "  </tbody>\n",
       "</table>\n",
       "<p>100 rows × 4 columns</p>\n",
       "</div>"
      ],
      "text/plain": [
       "                names first name  last name   v\n",
       "0       Randy Schultz      Randy    Schultz  45\n",
       "1        Tyler Martin      Tyler     Martin   7\n",
       "2   Jennifer Crawford   Jennifer   Crawford  14\n",
       "3         Erin Harris       Erin     Harris  35\n",
       "4   Russell Dominguez    Russell  Dominguez   9\n",
       "..                ...        ...        ...  ..\n",
       "95         John Watts       John      Watts  14\n",
       "96       Mark Woodard       Mark    Woodard  39\n",
       "97      Patrick Ramos    Patrick      Ramos   1\n",
       "98    Megan Alexander      Megan  Alexander  12\n",
       "99    Melinda Johnson    Melinda    Johnson   4\n",
       "\n",
       "[100 rows x 4 columns]"
      ]
     },
     "execution_count": 31,
     "metadata": {},
     "output_type": "execute_result"
    }
   ],
   "source": [
    "df"
   ]
  },
  {
   "cell_type": "code",
   "execution_count": 35,
   "metadata": {},
   "outputs": [
    {
     "data": {
      "text/plain": [
       "array([45,  7, 14, 35,  9, 15, 54, 22, 20, 38, 44, 19, 65,  4, 44, 36, 93,\n",
       "       27, 19, 81, 49, 84, 11,  5, 44, 50, 84, 11, 63, 17, 98, 21, 94, 11,\n",
       "       14, 21, 49, 20, 44,  5, 11, 81, 77, 47, 78, 56, 82, 77,  0, 60, 18,\n",
       "       16, 72, 12, 13, 95, 94, 61, 88,  7, 73, 74, 62, 21, 87, 85, 86, 72,\n",
       "       36, 10,  1, 64, 10, 25,  1, 26, 58, 93, 83, 38, 92, 75, 75, 41, 58,\n",
       "        6, 72, 84, 69, 43, 23, 92, 95, 90, 93, 14, 39,  1, 12,  4])"
      ]
     },
     "execution_count": 35,
     "metadata": {},
     "output_type": "execute_result"
    }
   ],
   "source": [
    "df['v'].values"
   ]
  },
  {
   "cell_type": "code",
   "execution_count": 37,
   "metadata": {},
   "outputs": [
    {
     "data": {
      "text/plain": [
       "v\n",
       "11    4\n",
       "44    4\n",
       "93    3\n",
       "72    3\n",
       "21    3\n",
       "     ..\n",
       "60    1\n",
       "18    1\n",
       "16    1\n",
       "13    1\n",
       "39    1\n",
       "Name: count, Length: 65, dtype: int64"
      ]
     },
     "execution_count": 37,
     "metadata": {},
     "output_type": "execute_result"
    }
   ],
   "source": [
    "df['v'].value_counts() # without null values"
   ]
  },
  {
   "cell_type": "code",
   "execution_count": 38,
   "metadata": {},
   "outputs": [
    {
     "data": {
      "text/plain": [
       "0     False\n",
       "1     False\n",
       "2     False\n",
       "3     False\n",
       "4     False\n",
       "      ...  \n",
       "95    False\n",
       "96    False\n",
       "97    False\n",
       "98    False\n",
       "99    False\n",
       "Name: v, Length: 100, dtype: bool"
      ]
     },
     "execution_count": 38,
     "metadata": {},
     "output_type": "execute_result"
    }
   ],
   "source": [
    "df.v.isna()"
   ]
  },
  {
   "cell_type": "code",
   "execution_count": 39,
   "metadata": {},
   "outputs": [
    {
     "data": {
      "text/plain": [
       "0     False\n",
       "1     False\n",
       "2     False\n",
       "3     False\n",
       "4     False\n",
       "      ...  \n",
       "95    False\n",
       "96    False\n",
       "97    False\n",
       "98    False\n",
       "99    False\n",
       "Name: v, Length: 100, dtype: bool"
      ]
     },
     "execution_count": 39,
     "metadata": {},
     "output_type": "execute_result"
    }
   ],
   "source": [
    "df['v'].isna() # isNotANumber"
   ]
  },
  {
   "cell_type": "code",
   "execution_count": 40,
   "metadata": {},
   "outputs": [
    {
     "data": {
      "text/plain": [
       "0"
      ]
     },
     "execution_count": 40,
     "metadata": {},
     "output_type": "execute_result"
    }
   ],
   "source": [
    "df.v.isna().sum()"
   ]
  },
  {
   "cell_type": "code",
   "execution_count": 41,
   "metadata": {},
   "outputs": [
    {
     "name": "stdout",
     "output_type": "stream",
     "text": [
      "<class 'pandas.core.series.Series'>\n",
      "RangeIndex: 100 entries, 0 to 99\n",
      "Series name: v\n",
      "Non-Null Count  Dtype\n",
      "--------------  -----\n",
      "100 non-null    int32\n",
      "dtypes: int32(1)\n",
      "memory usage: 528.0 bytes\n"
     ]
    }
   ],
   "source": [
    "df.v.info()"
   ]
  },
  {
   "cell_type": "code",
   "execution_count": 42,
   "metadata": {},
   "outputs": [
    {
     "name": "stdout",
     "output_type": "stream",
     "text": [
      "<class 'pandas.core.frame.DataFrame'>\n",
      "RangeIndex: 100 entries, 0 to 99\n",
      "Data columns (total 4 columns):\n",
      " #   Column      Non-Null Count  Dtype \n",
      "---  ------      --------------  ----- \n",
      " 0   names       100 non-null    object\n",
      " 1   first name  100 non-null    object\n",
      " 2   last name   100 non-null    object\n",
      " 3   v           100 non-null    int32 \n",
      "dtypes: int32(1), object(3)\n",
      "memory usage: 2.9+ KB\n"
     ]
    }
   ],
   "source": [
    "df.info()"
   ]
  },
  {
   "cell_type": "code",
   "execution_count": null,
   "metadata": {},
   "outputs": [],
   "source": []
  }
 ],
 "metadata": {
  "kernelspec": {
   "display_name": "venv",
   "language": "python",
   "name": "python3"
  },
  "language_info": {
   "codemirror_mode": {
    "name": "ipython",
    "version": 3
   },
   "file_extension": ".py",
   "mimetype": "text/x-python",
   "name": "python",
   "nbconvert_exporter": "python",
   "pygments_lexer": "ipython3",
   "version": "3.11.0"
  }
 },
 "nbformat": 4,
 "nbformat_minor": 2
}
