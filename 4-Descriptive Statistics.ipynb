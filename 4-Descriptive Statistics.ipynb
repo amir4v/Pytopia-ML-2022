{
 "cells": [
  {
   "cell_type": "code",
   "execution_count": 1,
   "metadata": {},
   "outputs": [],
   "source": [
    "# Frequency Ditribution and Averages"
   ]
  },
  {
   "cell_type": "code",
   "execution_count": 1,
   "metadata": {},
   "outputs": [],
   "source": [
    "import numpy as np"
   ]
  },
  {
   "cell_type": "code",
   "execution_count": 2,
   "metadata": {},
   "outputs": [],
   "source": [
    "# Variablity"
   ]
  },
  {
   "cell_type": "code",
   "execution_count": 5,
   "metadata": {},
   "outputs": [
    {
     "data": {
      "text/plain": [
       "array([  0.4,  17.1,  37.5,  74.5, 100. ])"
      ]
     },
     "execution_count": 5,
     "metadata": {},
     "output_type": "execute_result"
    }
   ],
   "source": [
    "np.cumsum([0.4, 16.7, 20.4, 37, 25.5]) # darsad haye tajamoee"
   ]
  },
  {
   "cell_type": "code",
   "execution_count": 6,
   "metadata": {},
   "outputs": [],
   "source": [
    "# Variability"
   ]
  },
  {
   "cell_type": "code",
   "execution_count": 7,
   "metadata": {},
   "outputs": [
    {
     "data": {
      "text/plain": [
       "'\\nSigma( (Xi - Mean/Average)^2 )\\n/\\nn\\n'"
      ]
     },
     "execution_count": 7,
     "metadata": {},
     "output_type": "execute_result"
    }
   ],
   "source": [
    "# Variance\n",
    "# Mean - Median - Mode\n",
    "\"\"\"\n",
    "Sigma( (Xi - Mean/Average)^2 )\n",
    "/\n",
    "n\n",
    "\"\"\""
   ]
  },
  {
   "cell_type": "code",
   "execution_count": 18,
   "metadata": {},
   "outputs": [
    {
     "data": {
      "text/plain": [
       "array([3, 7, 6, 6, 5, 7, 1, 4, 3, 2])"
      ]
     },
     "execution_count": 18,
     "metadata": {},
     "output_type": "execute_result"
    }
   ],
   "source": [
    "a = np.random.randint(10, size=10)\n",
    "a"
   ]
  },
  {
   "cell_type": "code",
   "execution_count": 19,
   "metadata": {},
   "outputs": [
    {
     "data": {
      "text/plain": [
       "4.4"
      ]
     },
     "execution_count": 19,
     "metadata": {},
     "output_type": "execute_result"
    }
   ],
   "source": [
    "a.mean()"
   ]
  },
  {
   "cell_type": "code",
   "execution_count": 22,
   "metadata": {},
   "outputs": [
    {
     "data": {
      "text/plain": [
       "4.039999999999999"
      ]
     },
     "execution_count": 22,
     "metadata": {},
     "output_type": "execute_result"
    }
   ],
   "source": [
    "# Variance\n",
    "v = ((a - a.mean()) ** 2).sum() / len(a)\n",
    "v"
   ]
  },
  {
   "cell_type": "code",
   "execution_count": 21,
   "metadata": {},
   "outputs": [],
   "source": [
    "# Stanard Deviation\n",
    "# the problem with Variance is that it's squared so we do a square root on it\n",
    "# S = ./V"
   ]
  },
  {
   "cell_type": "code",
   "execution_count": 23,
   "metadata": {},
   "outputs": [
    {
     "data": {
      "text/plain": [
       "2.009975124224178"
      ]
     },
     "execution_count": 23,
     "metadata": {},
     "output_type": "execute_result"
    }
   ],
   "source": [
    "v ** 0.5"
   ]
  },
  {
   "cell_type": "code",
   "execution_count": 26,
   "metadata": {},
   "outputs": [
    {
     "data": {
      "text/plain": [
       "2.009975124224178"
      ]
     },
     "execution_count": 26,
     "metadata": {},
     "output_type": "execute_result"
    }
   ],
   "source": [
    "a.std() # Enheraf Meiar - Standard Deviation"
   ]
  },
  {
   "cell_type": "code",
   "execution_count": 30,
   "metadata": {},
   "outputs": [
    {
     "data": {
      "text/plain": [
       "2.1186998109427604"
      ]
     },
     "execution_count": 30,
     "metadata": {},
     "output_type": "execute_result"
    }
   ],
   "source": [
    "a.std(ddof=1) # DOF - Degree of Freedom\n",
    "# ddof = delta dof"
   ]
  },
  {
   "cell_type": "code",
   "execution_count": 29,
   "metadata": {},
   "outputs": [
    {
     "data": {
      "text/plain": [
       "'std for poppulation or sample\\nfor population divide by n\\nfor sample divide by n-1 (or n in diffrent cases)'"
      ]
     },
     "execution_count": 29,
     "metadata": {},
     "output_type": "execute_result"
    }
   ],
   "source": [
    "\"\"\"std for poppulation or sample\n",
    "for population divide by n\n",
    "for sample divide by n-1 (or n in diffrent cases)\"\"\""
   ]
  },
  {
   "cell_type": "code",
   "execution_count": 31,
   "metadata": {},
   "outputs": [],
   "source": [
    "# IQR = Interquartile Range, fasele beine charak ha"
   ]
  },
  {
   "cell_type": "code",
   "execution_count": 32,
   "metadata": {},
   "outputs": [],
   "source": [
    "# Normal Distributation\n",
    "# Z Scores"
   ]
  },
  {
   "cell_type": "code",
   "execution_count": 33,
   "metadata": {},
   "outputs": [],
   "source": [
    "# Z Score = yek scaling roye data anjam mide ke \n",
    "# z = (X - mean) / std"
   ]
  },
  {
   "cell_type": "code",
   "execution_count": 36,
   "metadata": {},
   "outputs": [
    {
     "data": {
      "text/plain": [
       "array([ 4,  6,  8,  1, 16, 16, 12,  2,  1, 19,  7, 10, 12,  9, 19,  1,  7,\n",
       "       15, 17, 14,  7, 17,  8, 16, 13,  0,  9,  6,  9,  1])"
      ]
     },
     "execution_count": 36,
     "metadata": {},
     "output_type": "execute_result"
    }
   ],
   "source": [
    "a = np.random.randint(20, size=30)\n",
    "a"
   ]
  },
  {
   "cell_type": "code",
   "execution_count": 37,
   "metadata": {},
   "outputs": [
    {
     "data": {
      "text/plain": [
       "9.4"
      ]
     },
     "execution_count": 37,
     "metadata": {},
     "output_type": "execute_result"
    }
   ],
   "source": [
    "a.mean()"
   ]
  },
  {
   "cell_type": "code",
   "execution_count": 38,
   "metadata": {},
   "outputs": [
    {
     "data": {
      "text/plain": [
       "5.8"
      ]
     },
     "execution_count": 38,
     "metadata": {},
     "output_type": "execute_result"
    }
   ],
   "source": [
    "a.std()"
   ]
  },
  {
   "cell_type": "code",
   "execution_count": 39,
   "metadata": {},
   "outputs": [
    {
     "data": {
      "text/plain": [
       "0.10344827586206891"
      ]
     },
     "execution_count": 39,
     "metadata": {},
     "output_type": "execute_result"
    }
   ],
   "source": [
    "# Z Score of 10\n",
    "(10 - a.mean()) / a.std()"
   ]
  },
  {
   "cell_type": "code",
   "execution_count": 40,
   "metadata": {},
   "outputs": [
    {
     "data": {
      "text/plain": [
       "1.8275862068965518"
      ]
     },
     "execution_count": 40,
     "metadata": {},
     "output_type": "execute_result"
    }
   ],
   "source": [
    "# Z Score of 20\n",
    "(20 - a.mean()) / a.std()"
   ]
  },
  {
   "cell_type": "code",
   "execution_count": 41,
   "metadata": {},
   "outputs": [],
   "source": [
    "# Standard Normal Table"
   ]
  },
  {
   "cell_type": "code",
   "execution_count": 1,
   "metadata": {},
   "outputs": [],
   "source": [
    "# Relationship Correlation"
   ]
  },
  {
   "cell_type": "code",
   "execution_count": 2,
   "metadata": {},
   "outputs": [],
   "source": [
    "# Perfect Relashionship # 100% linear relashionship"
   ]
  },
  {
   "cell_type": "code",
   "execution_count": 3,
   "metadata": {},
   "outputs": [],
   "source": [
    "# Curvilinear Relashionship = mesle tole omr ba ghodrat ke masalan mire bala vali na ta abad balke miad paeen kam kam"
   ]
  },
  {
   "cell_type": "code",
   "execution_count": 4,
   "metadata": {},
   "outputs": [],
   "source": [
    "# Correlation Coefficient"
   ]
  },
  {
   "cell_type": "code",
   "execution_count": 5,
   "metadata": {},
   "outputs": [
    {
     "data": {
      "text/plain": [
       "'\\nr = SPxy / ./(SSx SSy)\\ncovariance of two feature divided by enheraf meiareshon (std)\\n'"
      ]
     },
     "execution_count": 5,
     "metadata": {},
     "output_type": "execute_result"
    }
   ],
   "source": [
    "# Correlation Coeficient Pearson Formula\n",
    "\"\"\"\n",
    "r = SPxy / ./(SSx SSy)\n",
    "covariance of two feature divided by enheraf meiareshon (std)\n",
    "\"\"\""
   ]
  },
  {
   "cell_type": "code",
   "execution_count": 6,
   "metadata": {},
   "outputs": [],
   "source": [
    "# Covariance hamon Variance ast bar asase do moteghaier"
   ]
  },
  {
   "cell_type": "code",
   "execution_count": 7,
   "metadata": {},
   "outputs": [
    {
     "name": "stderr",
     "output_type": "stream",
     "text": [
      "C:\\Users\\Amir\\AppData\\Local\\Temp\\ipykernel_6940\\1454588952.py:2: DeprecationWarning: Please use `pearsonr` from the `scipy.stats` namespace, the `scipy.stats.stats` namespace is deprecated.\n",
      "  from scipy.stats.stats import pearsonr\n"
     ]
    }
   ],
   "source": [
    "# scipy.stats.stats.pearsonr\n",
    "from scipy.stats.stats import pearsonr"
   ]
  },
  {
   "cell_type": "code",
   "execution_count": 8,
   "metadata": {},
   "outputs": [
    {
     "data": {
      "text/plain": [
       "PearsonRResult(statistic=0.9999999999999998, pvalue=1.3415758552508148e-08)"
      ]
     },
     "execution_count": 8,
     "metadata": {},
     "output_type": "execute_result"
    }
   ],
   "source": [
    "pearsonr([1,2,3], [1,2,3])"
   ]
  },
  {
   "cell_type": "code",
   "execution_count": 9,
   "metadata": {},
   "outputs": [
    {
     "data": {
      "text/plain": [
       "PearsonRResult(statistic=0.9999999999999998, pvalue=1.3415758552508148e-08)"
      ]
     },
     "execution_count": 9,
     "metadata": {},
     "output_type": "execute_result"
    }
   ],
   "source": [
    "pearsonr([1,2,3], [4,5,6])"
   ]
  },
  {
   "cell_type": "code",
   "execution_count": 10,
   "metadata": {},
   "outputs": [
    {
     "data": {
      "text/plain": [
       "PearsonRResult(statistic=0.9999999999999998, pvalue=1.3415758552508148e-08)"
      ]
     },
     "execution_count": 10,
     "metadata": {},
     "output_type": "execute_result"
    }
   ],
   "source": [
    "pearsonr([1,2,3], [10,20,30])"
   ]
  },
  {
   "cell_type": "code",
   "execution_count": 1,
   "metadata": {},
   "outputs": [],
   "source": [
    "# Least Square Regression Line"
   ]
  },
  {
   "cell_type": "code",
   "execution_count": 2,
   "metadata": {},
   "outputs": [],
   "source": [
    "# if two variables are correlated, description (describing one of them) can lead to prediction"
   ]
  },
  {
   "cell_type": "code",
   "execution_count": 3,
   "metadata": {},
   "outputs": [],
   "source": [
    "# Correlation Analysis"
   ]
  },
  {
   "cell_type": "code",
   "execution_count": 4,
   "metadata": {},
   "outputs": [],
   "source": [
    "# Least Squared Regression Equation\n",
    "\n",
    "# Y' = bX+a\n",
    "\n",
    "# b = r ./( SSY / SSx )\n",
    "\n",
    "# a = Y(bar) - bX(bar)"
   ]
  },
  {
   "cell_type": "code",
   "execution_count": 7,
   "metadata": {},
   "outputs": [],
   "source": [
    "# Correlation between two vector/series\n",
    "\n",
    "# SPxy / ./( SSx SSy )"
   ]
  },
  {
   "cell_type": "code",
   "execution_count": 8,
   "metadata": {},
   "outputs": [],
   "source": [
    "# SS = Sum of Squared"
   ]
  },
  {
   "cell_type": "code",
   "execution_count": 9,
   "metadata": {},
   "outputs": [],
   "source": [
    "# Descriptive Square Regression Predictive Error"
   ]
  },
  {
   "cell_type": "code",
   "execution_count": 11,
   "metadata": {},
   "outputs": [],
   "source": [
    "# * Least Squares Regression Line *"
   ]
  },
  {
   "cell_type": "code",
   "execution_count": 17,
   "metadata": {},
   "outputs": [],
   "source": [
    "import numpy as np\n",
    "import seaborn as sns\n",
    "import matplotlib.pyplot as plt"
   ]
  },
  {
   "cell_type": "code",
   "execution_count": 13,
   "metadata": {},
   "outputs": [
    {
     "data": {
      "text/plain": [
       "array([24, 92, 45, 16, 33, 37, 24, 52, 60, 61, 59, 58, 65, 77, 98, 43, 57,\n",
       "       66, 26, 97, 83, 13, 74, 80, 79, 91, 34, 47, 89, 78,  9, 36, 86, 99,\n",
       "       50, 62, 32, 11, 87, 36, 98, 67, 95, 62, 80, 37, 90, 58, 79,  6, 41,\n",
       "       24, 36, 97, 75,  1, 89,  7, 30, 77, 96, 52,  3, 31, 12, 64, 81, 64,\n",
       "       42, 34, 54, 67, 31, 56, 66, 74, 97, 72, 35, 69, 53, 49, 21, 84, 68,\n",
       "       99, 61,  8, 62, 30, 88, 88, 39, 49, 79, 41, 67,  1, 30, 10])"
      ]
     },
     "execution_count": 13,
     "metadata": {},
     "output_type": "execute_result"
    }
   ],
   "source": [
    "x = np.random.randint(0, 100, size=100)\n",
    "x"
   ]
  },
  {
   "cell_type": "code",
   "execution_count": 24,
   "metadata": {},
   "outputs": [
    {
     "data": {
      "text/plain": [
       "array([ 53, 189,  95,  37,  71,  79,  53, 109, 125, 127, 123, 121, 135,\n",
       "       159, 201,  91, 119, 137,  57, 199, 171,  31, 153, 165, 163, 187,\n",
       "        73,  99, 183, 161,  23,  77, 177, 203, 105, 129,  69,  27, 179,\n",
       "        77, 201, 139, 195, 129, 165,  79, 185, 121, 163,  17,  87,  53,\n",
       "        77, 199, 155,   7, 183,  19,  65, 159, 197, 109,  11,  67,  29,\n",
       "       133, 167, 133,  89,  73, 113, 139,  67, 117, 137, 153, 199, 149,\n",
       "        75, 143, 111, 103,  47, 173, 141, 203, 127,  21, 129,  65, 181,\n",
       "       181,  83, 103, 163,  87, 139,   7,  65,  25])"
      ]
     },
     "execution_count": 24,
     "metadata": {},
     "output_type": "execute_result"
    }
   ],
   "source": [
    "y_p = 2 * x + 5\n",
    "y_p"
   ]
  },
  {
   "cell_type": "code",
   "execution_count": 18,
   "metadata": {},
   "outputs": [],
   "source": [
    "%matplotlib inline"
   ]
  },
  {
   "cell_type": "code",
   "execution_count": 25,
   "metadata": {},
   "outputs": [
    {
     "data": {
      "text/plain": [
       "<Axes: >"
      ]
     },
     "execution_count": 25,
     "metadata": {},
     "output_type": "execute_result"
    },
    {
     "data": {
      "image/png": "[encoded data removed]",
      "text/plain": [
       "<Figure size 640x480 with 1 Axes>"
      ]
     },
     "metadata": {},
     "output_type": "display_data"
    }
   ],
   "source": [
    "sns.scatterplot(x=x, y=y_p)"
   ]
  },
  {
   "cell_type": "code",
   "execution_count": 26,
   "metadata": {},
   "outputs": [
    {
     "data": {
      "text/plain": [
       "array([ 61.54311327, 181.24621772, 102.74722501,  33.0613459 ,\n",
       "        63.88579948,  70.29553147,  62.14455927, 115.97531218,\n",
       "       122.00382938, 134.10762773, 115.87463728, 117.0788794 ,\n",
       "       128.55987872, 154.42542746, 191.83698136,  99.56269822,\n",
       "       128.51995641, 142.3890999 ,  61.75842615, 197.32749675,\n",
       "       173.95341653,  25.92728602, 147.69682018, 163.78126137,\n",
       "       171.15622957, 178.59713548,  68.20665381,  92.1797131 ,\n",
       "       181.59203782, 160.04871681,  26.05251699,  78.18448194,\n",
       "       186.99115535, 206.63275547, 100.51658357, 120.3996598 ,\n",
       "        64.6691382 ,  19.03414811, 187.8608565 ,  75.03112504,\n",
       "       207.06058585, 146.72643089, 202.17736801, 132.1078695 ,\n",
       "       163.10812613,  71.94276203, 177.94785454, 112.33244145,\n",
       "       158.23391453,  17.94948882,  80.950973  ,  55.837998  ,\n",
       "        69.09111947, 197.05473993, 148.76331633,  -1.16880182,\n",
       "       186.97717842,  27.08982881,  55.80098599, 158.18412521,\n",
       "       193.38679288, 108.33527641,   9.07035042,  65.70087969,\n",
       "        33.62816348, 136.67285252, 171.58143094, 126.10154666,\n",
       "        84.17977395,  82.91967273, 115.03446325, 131.3490995 ,\n",
       "        62.41822236, 113.16479673, 129.66701438, 160.66870757,\n",
       "       207.71570227, 155.740289  ,  75.57632049, 145.9877573 ,\n",
       "       118.51871373,  93.16689259,  48.91228204, 163.25555983,\n",
       "       139.35764901, 212.97812199, 136.35002623,  30.12829972,\n",
       "       119.97790817,  64.04191115, 179.6734326 , 187.51894485,\n",
       "        75.11723002,  97.38831691, 171.01944816,  94.85612157,\n",
       "       129.94897043,  14.81765451,  59.55154411,  26.82424895])"
      ]
     },
     "execution_count": 26,
     "metadata": {},
     "output_type": "execute_result"
    }
   ],
   "source": [
    "y = y_p + (np.random.rand(100) - 0.5) * 20\n",
    "y"
   ]
  },
  {
   "cell_type": "code",
   "execution_count": 27,
   "metadata": {},
   "outputs": [
    {
     "data": {
      "text/plain": [
       "<Axes: >"
      ]
     },
     "execution_count": 27,
     "metadata": {},
     "output_type": "execute_result"
    },
    {
     "data": {
      "image/png": "[encoded data removed]",
      "text/plain": [
       "<Figure size 640x480 with 1 Axes>"
      ]
     },
     "metadata": {},
     "output_type": "display_data"
    }
   ],
   "source": [
    "axis = sns.scatterplot(x=x, y=y_p)\n",
    "sns.scatterplot(x=x, y=y, ax=axis)"
   ]
  },
  {
   "cell_type": "code",
   "execution_count": 28,
   "metadata": {},
   "outputs": [
    {
     "data": {
      "text/plain": [
       "array([8.54311327, 7.75378228, 7.74722501, 3.9386541 , 7.11420052,\n",
       "       8.70446853, 9.14455927, 6.97531218, 2.99617062, 7.10762773,\n",
       "       7.12536272, 3.9211206 , 6.44012128, 4.57457254, 9.16301864,\n",
       "       8.56269822, 9.51995641, 5.3890999 , 4.75842615, 1.67250325,\n",
       "       2.95341653, 5.07271398, 5.30317982, 1.21873863, 8.15622957,\n",
       "       8.40286452, 4.79334619, 6.8202869 , 1.40796218, 0.95128319,\n",
       "       3.05251699, 1.18448194, 9.99115535, 3.63275547, 4.48341643,\n",
       "       8.6003402 , 4.3308618 , 7.96585189, 8.8608565 , 1.96887496,\n",
       "       6.06058585, 7.72643089, 7.17736801, 3.1078695 , 1.89187387,\n",
       "       7.05723797, 7.05214546, 8.66755855, 4.76608547, 0.94948882,\n",
       "       6.049027  , 2.837998  , 7.90888053, 1.94526007, 6.23668367,\n",
       "       8.16880182, 3.97717842, 8.08982881, 9.19901401, 0.81587479,\n",
       "       3.61320712, 0.66472359, 1.92964958, 1.29912031, 4.62816348,\n",
       "       3.67285252, 4.58143094, 6.89845334, 4.82022605, 9.91967273,\n",
       "       2.03446325, 7.6509005 , 4.58177764, 3.83520327, 7.33298562,\n",
       "       7.66870757, 8.71570227, 6.740289  , 0.57632049, 2.9877573 ,\n",
       "       7.51871373, 9.83310741, 1.91228204, 9.74444017, 1.64235099,\n",
       "       9.97812199, 9.35002623, 9.12829972, 9.02209183, 0.95808885,\n",
       "       1.3265674 , 6.51894485, 7.88276998, 5.61168309, 8.01944816,\n",
       "       7.85612157, 9.05102957, 7.81765451, 5.44845589, 1.82424895])"
      ]
     },
     "execution_count": 28,
     "metadata": {},
     "output_type": "execute_result"
    }
   ],
   "source": [
    "error = abs(y - y_p)\n",
    "error"
   ]
  },
  {
   "cell_type": "code",
   "execution_count": 29,
   "metadata": {},
   "outputs": [
    {
     "data": {
      "text/plain": [
       "<Axes: ylabel='Count'>"
      ]
     },
     "execution_count": 29,
     "metadata": {},
     "output_type": "execute_result"
    },
    {
     "data": {
      "image/png": "[encoded data removed]",
      "text/plain": [
       "<Figure size 640x480 with 1 Axes>"
      ]
     },
     "metadata": {},
     "output_type": "display_data"
    }
   ],
   "source": [
    "sns.histplot(error)"
   ]
  },
  {
   "cell_type": "code",
   "execution_count": 31,
   "metadata": {},
   "outputs": [
    {
     "data": {
      "text/plain": [
       "<function RandomState.randn>"
      ]
     },
     "execution_count": 31,
     "metadata": {},
     "output_type": "execute_result"
    }
   ],
   "source": [
    "# Standard Normal\n",
    "np.random.randn"
   ]
  },
  {
   "cell_type": "code",
   "execution_count": 32,
   "metadata": {},
   "outputs": [
    {
     "data": {
      "text/plain": [
       "array([ 0.70292629, -0.29262518,  0.64295317,  0.33310201, -1.39702338,\n",
       "       -0.92618343, -0.64274302,  0.46031753,  1.29247105, -0.80285094,\n",
       "        0.81970122, -0.53195174, -0.18576146,  0.24911748,  0.18198615,\n",
       "       -0.20338095, -1.28607487,  0.73058924, -0.53309222, -0.13967757,\n",
       "       -0.65551206,  0.14622413,  0.22597796, -0.89803458, -1.7840468 ,\n",
       "        0.19120625,  2.7389968 , -0.54279019, -1.15644126, -0.7013774 ,\n",
       "       -1.09829397, -0.91649115,  0.97058985,  1.25363048,  0.66107745,\n",
       "        1.14228261, -0.38289673, -1.0128967 ,  2.03621601, -0.55132759,\n",
       "        0.04601424,  1.71818549,  0.93566211, -0.11288893,  0.06940284,\n",
       "        1.62530494, -0.28617609, -1.26145827,  1.61907261, -1.2464272 ,\n",
       "        0.00753884, -0.07570004, -0.16971155,  0.42275614, -0.55370614,\n",
       "       -0.46707636,  0.46343701, -1.05922648, -1.05998104,  0.24067177,\n",
       "        1.4073414 , -0.91855057,  0.04674268, -0.33000763, -0.58217371,\n",
       "       -1.04396654, -0.23704294,  0.30332643, -0.09716415, -0.65849724,\n",
       "       -1.76352165, -0.75485427, -1.64699013,  0.88682848, -0.20204448,\n",
       "       -0.02635177,  0.75866354, -0.24655195,  0.01488853, -1.57580372,\n",
       "        1.06914377,  0.56741903,  1.45229603, -1.18813448,  0.06615581,\n",
       "        0.55689218,  1.04448977,  0.80882542, -0.30969595,  1.2692653 ,\n",
       "       -1.0910692 ,  1.18792011, -0.60219627,  1.99196127, -0.21434751,\n",
       "       -2.30234334, -0.26394643, -0.06570182,  0.6290127 ,  0.7336831 ])"
      ]
     },
     "execution_count": 32,
     "metadata": {},
     "output_type": "execute_result"
    }
   ],
   "source": [
    "np.random.randn(100)"
   ]
  },
  {
   "cell_type": "code",
   "execution_count": 33,
   "metadata": {},
   "outputs": [
    {
     "data": {
      "text/plain": [
       "\"\\nS|    = ./( SSx|y / n-2 ) = ./( Sigma (Y-Y')^2 / n-2 )\\n  x|y\\n\""
      ]
     },
     "execution_count": 33,
     "metadata": {},
     "output_type": "execute_result"
    }
   ],
   "source": [
    "# Standard Error Of Estimate\n",
    "\"\"\"\n",
    "S|    = ./( SSx|y / n-2 ) = ./( Sigma (Y-Y')^2 / n-2 )\n",
    "  x|y\n",
    "\"\"\""
   ]
  },
  {
   "cell_type": "code",
   "execution_count": 34,
   "metadata": {},
   "outputs": [],
   "source": [
    "# r = correlation = zaribe hambastegi"
   ]
  },
  {
   "cell_type": "code",
   "execution_count": 35,
   "metadata": {},
   "outputs": [],
   "source": [
    "# Assumption:\n",
    "#     Linearity\n",
    "#     Homoscedasticity"
   ]
  },
  {
   "cell_type": "code",
   "execution_count": 36,
   "metadata": {},
   "outputs": [],
   "source": [
    "# Prediction of the Mean"
   ]
  },
  {
   "cell_type": "code",
   "execution_count": 37,
   "metadata": {},
   "outputs": [],
   "source": [
    "# Base Line"
   ]
  },
  {
   "cell_type": "code",
   "execution_count": 38,
   "metadata": {},
   "outputs": [],
   "source": [
    "# r^2 = The sqaure of the correlation coefficient"
   ]
  },
  {
   "cell_type": "code",
   "execution_count": 39,
   "metadata": {},
   "outputs": [],
   "source": [
    "# Regression Toward the Mean = tamaiole shrink shodane data be samte mean"
   ]
  },
  {
   "cell_type": "code",
   "execution_count": 40,
   "metadata": {},
   "outputs": [],
   "source": [
    "# Bar ya hamon khate balaye yek moteghaier yani Mean ya Average ya miangin"
   ]
  },
  {
   "cell_type": "code",
   "execution_count": 41,
   "metadata": {},
   "outputs": [],
   "source": [
    "# Intuition = binesh"
   ]
  },
  {
   "cell_type": "code",
   "execution_count": null,
   "metadata": {},
   "outputs": [],
   "source": []
  }
 ],
 "metadata": {
  "kernelspec": {
   "display_name": "venv",
   "language": "python",
   "name": "python3"
  },
  "language_info": {
   "codemirror_mode": {
    "name": "ipython",
    "version": 3
   },
   "file_extension": ".py",
   "mimetype": "text/x-python",
   "name": "python",
   "nbconvert_exporter": "python",
   "pygments_lexer": "ipython3",
   "version": "3.11.0"
  }
 },
 "nbformat": 4,
 "nbformat_minor": 2
}
