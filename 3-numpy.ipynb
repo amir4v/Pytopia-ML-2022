{
 "cells": [
  {
   "cell_type": "code",
   "execution_count": 2,
   "metadata": {},
   "outputs": [],
   "source": [
    "import numpy as np"
   ]
  },
  {
   "cell_type": "code",
   "execution_count": 5,
   "metadata": {},
   "outputs": [],
   "source": [
    "# Memory Management in numpy"
   ]
  },
  {
   "cell_type": "code",
   "execution_count": 6,
   "metadata": {},
   "outputs": [],
   "source": [
    "x = np.array([1, 2, 3])"
   ]
  },
  {
   "cell_type": "code",
   "execution_count": 7,
   "metadata": {},
   "outputs": [
    {
     "data": {
      "text/plain": [
       "(3,)"
      ]
     },
     "execution_count": 7,
     "metadata": {},
     "output_type": "execute_result"
    }
   ],
   "source": [
    "x.shape"
   ]
  },
  {
   "cell_type": "code",
   "execution_count": 8,
   "metadata": {},
   "outputs": [],
   "source": [
    "x = np.array([[1, 2], [3, 4]])"
   ]
  },
  {
   "cell_type": "code",
   "execution_count": 9,
   "metadata": {},
   "outputs": [
    {
     "data": {
      "text/plain": [
       "(2, 2)"
      ]
     },
     "execution_count": 9,
     "metadata": {},
     "output_type": "execute_result"
    }
   ],
   "source": [
    "x.shape"
   ]
  },
  {
   "cell_type": "code",
   "execution_count": 10,
   "metadata": {},
   "outputs": [
    {
     "data": {
      "text/plain": [
       "  C_CONTIGUOUS : True\n",
       "  F_CONTIGUOUS : False\n",
       "  OWNDATA : True\n",
       "  WRITEABLE : True\n",
       "  ALIGNED : True\n",
       "  WRITEBACKIFCOPY : False"
      ]
     },
     "execution_count": 10,
     "metadata": {},
     "output_type": "execute_result"
    }
   ],
   "source": [
    "x.flags"
   ]
  },
  {
   "cell_type": "code",
   "execution_count": 11,
   "metadata": {},
   "outputs": [
    {
     "data": {
      "text/plain": [
       "array([1, 2])"
      ]
     },
     "execution_count": 11,
     "metadata": {},
     "output_type": "execute_result"
    }
   ],
   "source": [
    "x[0]"
   ]
  },
  {
   "cell_type": "code",
   "execution_count": 12,
   "metadata": {},
   "outputs": [
    {
     "data": {
      "text/plain": [
       "1"
      ]
     },
     "execution_count": 12,
     "metadata": {},
     "output_type": "execute_result"
    }
   ],
   "source": [
    "x[0, 0]"
   ]
  },
  {
   "cell_type": "code",
   "execution_count": 13,
   "metadata": {},
   "outputs": [
    {
     "data": {
      "text/plain": [
       "1"
      ]
     },
     "execution_count": 13,
     "metadata": {},
     "output_type": "execute_result"
    }
   ],
   "source": [
    "x[0][0]"
   ]
  },
  {
   "cell_type": "code",
   "execution_count": 14,
   "metadata": {},
   "outputs": [
    {
     "data": {
      "text/plain": [
       "dtype('int32')"
      ]
     },
     "execution_count": 14,
     "metadata": {},
     "output_type": "execute_result"
    }
   ],
   "source": [
    "x.dtype"
   ]
  },
  {
   "cell_type": "code",
   "execution_count": 15,
   "metadata": {},
   "outputs": [
    {
     "data": {
      "text/plain": [
       "(8, 4)"
      ]
     },
     "execution_count": 15,
     "metadata": {},
     "output_type": "execute_result"
    }
   ],
   "source": [
    "x.strides # (8, 4) -> means: for relocating between dimensions(rows) you have to jump 8 bytes and for moving forward in columns you have to jump 4 bytes"
   ]
  },
  {
   "cell_type": "code",
   "execution_count": 16,
   "metadata": {},
   "outputs": [],
   "source": [
    "y = np.random.rand(2, 3, 4)"
   ]
  },
  {
   "cell_type": "code",
   "execution_count": 17,
   "metadata": {},
   "outputs": [
    {
     "data": {
      "text/plain": [
       "array([[[0.32786753, 0.58186823, 0.67282297, 0.58967309],\n",
       "        [0.25079152, 0.40079787, 0.58993408, 0.62120799],\n",
       "        [0.13958301, 0.81171232, 0.03383139, 0.22564327]],\n",
       "\n",
       "       [[0.688716  , 0.46247001, 0.91622889, 0.84389652],\n",
       "        [0.63547055, 0.34713489, 0.35679328, 0.3115104 ],\n",
       "        [0.47405084, 0.27702918, 0.73916668, 0.06758137]]])"
      ]
     },
     "execution_count": 17,
     "metadata": {},
     "output_type": "execute_result"
    }
   ],
   "source": [
    "y"
   ]
  },
  {
   "cell_type": "code",
   "execution_count": 18,
   "metadata": {},
   "outputs": [
    {
     "data": {
      "text/plain": [
       "(96, 32, 8)"
      ]
     },
     "execution_count": 18,
     "metadata": {},
     "output_type": "execute_result"
    }
   ],
   "source": [
    "y.strides"
   ]
  },
  {
   "cell_type": "code",
   "execution_count": 19,
   "metadata": {},
   "outputs": [
    {
     "data": {
      "text/plain": [
       "(2, 3, 4)"
      ]
     },
     "execution_count": 19,
     "metadata": {},
     "output_type": "execute_result"
    }
   ],
   "source": [
    "y.shape"
   ]
  },
  {
   "cell_type": "code",
   "execution_count": 20,
   "metadata": {},
   "outputs": [],
   "source": [
    "c_array = np.random.rand(2, 3, 4)\n",
    "fortran_array = np.asfortranarray(c_array)"
   ]
  },
  {
   "cell_type": "code",
   "execution_count": 33,
   "metadata": {},
   "outputs": [
    {
     "name": "stdout",
     "output_type": "stream",
     "text": [
      "(96, 32, 8) \n",
      " (8, 16, 48) \n",
      " [[[ True  True  True  True]\n",
      "  [ True  True  True  True]\n",
      "  [ True  True  True  True]]\n",
      "\n",
      " [[ True  True  True  True]\n",
      "  [ True  True  True  True]\n",
      "  [ True  True  True  True]]]\n",
      "[[[0.67392346 0.27975914 0.08218809 0.42933062]\n",
      "  [0.79619623 0.51924339 0.91677166 0.08390137]\n",
      "  [0.27323639 0.77371775 0.81488363 0.72299162]]\n",
      "\n",
      " [[0.17320389 0.41963338 0.00171298 0.30057247]\n",
      "  [0.48236198 0.71276354 0.31749991 0.2768147 ]\n",
      "  [0.56003043 0.8521723  0.90920139 0.30854972]]]\n",
      "[[[0.67392346 0.27975914 0.08218809 0.42933062]\n",
      "  [0.79619623 0.51924339 0.91677166 0.08390137]\n",
      "  [0.27323639 0.77371775 0.81488363 0.72299162]]\n",
      "\n",
      " [[0.17320389 0.41963338 0.00171298 0.30057247]\n",
      "  [0.48236198 0.71276354 0.31749991 0.2768147 ]\n",
      "  [0.56003043 0.8521723  0.90920139 0.30854972]]]\n"
     ]
    }
   ],
   "source": [
    "print(\n",
    "    c_array.strides\n",
    "    ,'\\n',\n",
    "    fortran_array.strides\n",
    "    ,'\\n',\n",
    "    c_array == fortran_array\n",
    ")\n",
    "print(c_array)\n",
    "print(fortran_array)"
   ]
  },
  {
   "cell_type": "code",
   "execution_count": 3,
   "metadata": {},
   "outputs": [],
   "source": [
    "x = np.array([\n",
    "    [1, 2],\n",
    "    [5, 6]\n",
    "])"
   ]
  },
  {
   "cell_type": "code",
   "execution_count": 31,
   "metadata": {},
   "outputs": [
    {
     "data": {
      "text/plain": [
       "10"
      ]
     },
     "execution_count": 31,
     "metadata": {},
     "output_type": "execute_result"
    }
   ],
   "source": [
    "# Row sum\n",
    "np.sum(x[0, :])"
   ]
  },
  {
   "cell_type": "code",
   "execution_count": 32,
   "metadata": {},
   "outputs": [
    {
     "data": {
      "text/plain": [
       "6"
      ]
     },
     "execution_count": 32,
     "metadata": {},
     "output_type": "execute_result"
    }
   ],
   "source": [
    "# Column sum\n",
    "np.sum(x[:, 0])"
   ]
  },
  {
   "cell_type": "code",
   "execution_count": 47,
   "metadata": {},
   "outputs": [
    {
     "data": {
      "text/plain": [
       "array([[1, 2, 3, 4],\n",
       "       [5, 6, 7, 8]])"
      ]
     },
     "execution_count": 47,
     "metadata": {},
     "output_type": "execute_result"
    }
   ],
   "source": [
    "# First two rows and all (its) columns\n",
    "y = x[:2, :] # It's a view (a perspective)\n",
    "y"
   ]
  },
  {
   "cell_type": "code",
   "execution_count": 48,
   "metadata": {},
   "outputs": [
    {
     "data": {
      "text/plain": [
       "True"
      ]
     },
     "execution_count": 48,
     "metadata": {},
     "output_type": "execute_result"
    }
   ],
   "source": [
    "# Are these two array sharing the same memory\n",
    "np.may_share_memory(x, y)"
   ]
  },
  {
   "cell_type": "code",
   "execution_count": 53,
   "metadata": {},
   "outputs": [
    {
     "data": {
      "text/plain": [
       "False"
      ]
     },
     "execution_count": 53,
     "metadata": {},
     "output_type": "execute_result"
    }
   ],
   "source": [
    "y = np.empty((2, 2)) # randomly fill\n",
    "y[:] = x[:2, :]\n",
    "np.may_share_memory(x, y)"
   ]
  },
  {
   "cell_type": "code",
   "execution_count": 58,
   "metadata": {},
   "outputs": [],
   "source": [
    "xr = np.arange(10, dtype='int8')"
   ]
  },
  {
   "cell_type": "code",
   "execution_count": 59,
   "metadata": {},
   "outputs": [
    {
     "data": {
      "text/plain": [
       "(10,)"
      ]
     },
     "execution_count": 59,
     "metadata": {},
     "output_type": "execute_result"
    }
   ],
   "source": [
    "xr.shape"
   ]
  },
  {
   "cell_type": "code",
   "execution_count": 60,
   "metadata": {},
   "outputs": [],
   "source": [
    "xr.shape = (2, 5)"
   ]
  },
  {
   "cell_type": "code",
   "execution_count": 61,
   "metadata": {},
   "outputs": [
    {
     "data": {
      "text/plain": [
       "array([[0, 1, 2, 3, 4],\n",
       "       [5, 6, 7, 8, 9]], dtype=int8)"
      ]
     },
     "execution_count": 61,
     "metadata": {},
     "output_type": "execute_result"
    }
   ],
   "source": [
    "xr"
   ]
  },
  {
   "cell_type": "code",
   "execution_count": 62,
   "metadata": {},
   "outputs": [
    {
     "data": {
      "text/plain": [
       "array([[0, 1],\n",
       "       [2, 3],\n",
       "       [4, 5],\n",
       "       [6, 7],\n",
       "       [8, 9]], dtype=int8)"
      ]
     },
     "execution_count": 62,
     "metadata": {},
     "output_type": "execute_result"
    }
   ],
   "source": [
    "xr.reshape((5, 2))"
   ]
  },
  {
   "cell_type": "code",
   "execution_count": 63,
   "metadata": {},
   "outputs": [
    {
     "data": {
      "text/plain": [
       "array([[ True,  True,  True,  True,  True],\n",
       "       [ True,  True,  True,  True,  True]])"
      ]
     },
     "execution_count": 63,
     "metadata": {},
     "output_type": "execute_result"
    }
   ],
   "source": [
    "xr == xr"
   ]
  },
  {
   "cell_type": "code",
   "execution_count": 64,
   "metadata": {},
   "outputs": [
    {
     "data": {
      "text/plain": [
       "True"
      ]
     },
     "execution_count": 64,
     "metadata": {},
     "output_type": "execute_result"
    }
   ],
   "source": [
    "(xr == xr).all()"
   ]
  },
  {
   "cell_type": "code",
   "execution_count": 72,
   "metadata": {},
   "outputs": [],
   "source": [
    "x = np.ones((10000,))\n",
    "y_temp = np.ones((10000*100,))\n",
    "y = y_temp[::100]"
   ]
  },
  {
   "cell_type": "code",
   "execution_count": 68,
   "metadata": {},
   "outputs": [
    {
     "data": {
      "text/plain": [
       "(8,)"
      ]
     },
     "execution_count": 68,
     "metadata": {},
     "output_type": "execute_result"
    }
   ],
   "source": [
    "x.strides"
   ]
  },
  {
   "cell_type": "code",
   "execution_count": 69,
   "metadata": {},
   "outputs": [
    {
     "data": {
      "text/plain": [
       "(800,)"
      ]
     },
     "execution_count": 69,
     "metadata": {},
     "output_type": "execute_result"
    }
   ],
   "source": [
    "y.strides"
   ]
  },
  {
   "cell_type": "code",
   "execution_count": 70,
   "metadata": {},
   "outputs": [
    {
     "data": {
      "text/plain": [
       "False"
      ]
     },
     "execution_count": 70,
     "metadata": {},
     "output_type": "execute_result"
    }
   ],
   "source": [
    "np.may_share_memory(x, y)"
   ]
  },
  {
   "cell_type": "code",
   "execution_count": 71,
   "metadata": {},
   "outputs": [
    {
     "data": {
      "text/plain": [
       "True"
      ]
     },
     "execution_count": 71,
     "metadata": {},
     "output_type": "execute_result"
    }
   ],
   "source": [
    "(x == y).all()"
   ]
  },
  {
   "cell_type": "code",
   "execution_count": 73,
   "metadata": {},
   "outputs": [
    {
     "data": {
      "text/plain": [
       "True"
      ]
     },
     "execution_count": 73,
     "metadata": {},
     "output_type": "execute_result"
    }
   ],
   "source": [
    "np.may_share_memory(y_temp, y)"
   ]
  },
  {
   "cell_type": "code",
   "execution_count": 74,
   "metadata": {},
   "outputs": [],
   "source": [
    "# Shapes and axes"
   ]
  },
  {
   "cell_type": "code",
   "execution_count": 77,
   "metadata": {},
   "outputs": [
    {
     "data": {
      "text/plain": [
       "array([1, 2, 3], dtype=int8)"
      ]
     },
     "execution_count": 77,
     "metadata": {},
     "output_type": "execute_result"
    }
   ],
   "source": [
    "np.array([1, 2, 3], dtype=np.int8)"
   ]
  },
  {
   "cell_type": "code",
   "execution_count": 40,
   "metadata": {},
   "outputs": [],
   "source": [
    "x = np.random.randint(5, size=(3, 3))"
   ]
  },
  {
   "cell_type": "code",
   "execution_count": 36,
   "metadata": {},
   "outputs": [
    {
     "data": {
      "text/plain": [
       "array([[9, 9, 4],\n",
       "       [1, 6, 7],\n",
       "       [6, 7, 8]])"
      ]
     },
     "execution_count": 36,
     "metadata": {},
     "output_type": "execute_result"
    }
   ],
   "source": [
    "x"
   ]
  },
  {
   "cell_type": "code",
   "execution_count": 11,
   "metadata": {},
   "outputs": [
    {
     "name": "stdout",
     "output_type": "stream",
     "text": [
      "\n",
      "        randint(low, high=None, size=None, dtype=int)\n",
      "\n",
      "        Return random integers from `low` (inclusive) to `high` (exclusive).\n",
      "\n",
      "        Return random integers from the \"discrete uniform\" distribution of\n",
      "        the s\n"
     ]
    }
   ],
   "source": [
    "print(np.random.randint.__doc__[:222])"
   ]
  },
  {
   "cell_type": "code",
   "execution_count": 30,
   "metadata": {},
   "outputs": [
    {
     "data": {
      "text/plain": [
       "9"
      ]
     },
     "execution_count": 30,
     "metadata": {},
     "output_type": "execute_result"
    }
   ],
   "source": [
    "x.max()"
   ]
  },
  {
   "cell_type": "code",
   "execution_count": 31,
   "metadata": {},
   "outputs": [
    {
     "data": {
      "text/plain": [
       "1"
      ]
     },
     "execution_count": 31,
     "metadata": {},
     "output_type": "execute_result"
    }
   ],
   "source": [
    "x.min()"
   ]
  },
  {
   "cell_type": "code",
   "execution_count": 32,
   "metadata": {},
   "outputs": [
    {
     "data": {
      "text/plain": [
       "4.444444444444445"
      ]
     },
     "execution_count": 32,
     "metadata": {},
     "output_type": "execute_result"
    }
   ],
   "source": [
    "x.mean()"
   ]
  },
  {
   "cell_type": "code",
   "execution_count": 33,
   "metadata": {},
   "outputs": [
    {
     "data": {
      "text/plain": [
       "array([6, 8, 9])"
      ]
     },
     "execution_count": 33,
     "metadata": {},
     "output_type": "execute_result"
    }
   ],
   "source": [
    "x.max(axis=0) # maxes in 0 dimensions"
   ]
  },
  {
   "cell_type": "code",
   "execution_count": 34,
   "metadata": {},
   "outputs": [
    {
     "data": {
      "text/plain": [
       "array([1, 2, 2])"
      ]
     },
     "execution_count": 34,
     "metadata": {},
     "output_type": "execute_result"
    }
   ],
   "source": [
    "x.min(axis=1)"
   ]
  },
  {
   "cell_type": "code",
   "execution_count": 70,
   "metadata": {},
   "outputs": [
    {
     "data": {
      "text/plain": [
       "array([[[4, 4, 0, 2],\n",
       "        [4, 0, 3, 2],\n",
       "        [4, 4, 0, 3]],\n",
       "\n",
       "       [[1, 1, 1, 2],\n",
       "        [2, 0, 2, 0],\n",
       "        [2, 4, 2, 4]]])"
      ]
     },
     "execution_count": 70,
     "metadata": {},
     "output_type": "execute_result"
    }
   ],
   "source": [
    "x = np.random.randint(5, size=(2, 3, 4))\n",
    "x"
   ]
  },
  {
   "cell_type": "code",
   "execution_count": 71,
   "metadata": {},
   "outputs": [
    {
     "name": "stdout",
     "output_type": "stream",
     "text": [
      "[[5 5 1 4]\n",
      " [6 0 5 2]\n",
      " [6 8 2 7]] \n",
      "\n",
      " [[12  8  3  7]\n",
      " [ 5  5  5  6]] \n",
      "\n",
      " [[10  9 11]\n",
      " [ 5  4 12]]\n"
     ]
    }
   ],
   "source": [
    "print(\n",
    "    x.sum(axis=0), # First dimension\n",
    "    '\\n\\n',\n",
    "    x.sum(axis=1), # Second dimension\n",
    "    '\\n\\n',\n",
    "    x.sum(axis=2), # Third dimension\n",
    ")"
   ]
  },
  {
   "cell_type": "code",
   "execution_count": 68,
   "metadata": {},
   "outputs": [],
   "source": [
    "# x.shape = 2, 2, 3 # Inplace\n",
    "# x.reshape(4, 3, 2) # Inplace or if couldn't makes a copy"
   ]
  },
  {
   "cell_type": "code",
   "execution_count": 72,
   "metadata": {},
   "outputs": [
    {
     "data": {
      "text/plain": [
       "array([[[4, 1],\n",
       "        [4, 2],\n",
       "        [4, 2]],\n",
       "\n",
       "       [[4, 1],\n",
       "        [0, 0],\n",
       "        [4, 4]],\n",
       "\n",
       "       [[0, 1],\n",
       "        [3, 2],\n",
       "        [0, 2]],\n",
       "\n",
       "       [[2, 2],\n",
       "        [2, 0],\n",
       "        [3, 4]]])"
      ]
     },
     "execution_count": 72,
     "metadata": {},
     "output_type": "execute_result"
    }
   ],
   "source": [
    "x.T # Transpose -> will reverse \"strides\""
   ]
  },
  {
   "cell_type": "code",
   "execution_count": 74,
   "metadata": {},
   "outputs": [
    {
     "data": {
      "text/plain": [
       "True"
      ]
     },
     "execution_count": 74,
     "metadata": {},
     "output_type": "execute_result"
    }
   ],
   "source": [
    "x = x.T\n",
    "y = x.T\n",
    "np.may_share_memory(x, y)"
   ]
  },
  {
   "cell_type": "code",
   "execution_count": 75,
   "metadata": {},
   "outputs": [
    {
     "data": {
      "text/plain": [
       "array([[[4, 1],\n",
       "        [4, 2],\n",
       "        [4, 2]],\n",
       "\n",
       "       [[4, 1],\n",
       "        [0, 0],\n",
       "        [4, 4]],\n",
       "\n",
       "       [[0, 1],\n",
       "        [3, 2],\n",
       "        [0, 2]],\n",
       "\n",
       "       [[2, 2],\n",
       "        [2, 0],\n",
       "        [3, 4]]])"
      ]
     },
     "execution_count": 75,
     "metadata": {},
     "output_type": "execute_result"
    }
   ],
   "source": [
    "x"
   ]
  },
  {
   "cell_type": "code",
   "execution_count": 76,
   "metadata": {},
   "outputs": [
    {
     "ename": "AttributeError",
     "evalue": "Incompatible shape for in-place modification. Use `.reshape()` to make a copy with the desired shape.",
     "output_type": "error",
     "traceback": [
      "\u001b[1;31m---------------------------------------------------------------------------\u001b[0m",
      "\u001b[1;31mAttributeError\u001b[0m                            Traceback (most recent call last)",
      "\u001b[1;32mc:\\Users\\Amir\\Desktop\\Pytopia ML 2022\\00-Practices\\3-numpy.ipynb Cell 54\u001b[0m line \u001b[0;36m1\n\u001b[1;32m----> <a href='vscode-notebook-cell:/c%3A/Users/Amir/Desktop/Pytopia%20ML%202022/00-Practices/3-numpy.ipynb#Y106sZmlsZQ%3D%3D?line=0'>1</a>\u001b[0m x\u001b[39m.\u001b[39;49mshape \u001b[39m=\u001b[39m \u001b[39m2\u001b[39m, \u001b[39m-\u001b[39m\u001b[39m1\u001b[39m\n",
      "\u001b[1;31mAttributeError\u001b[0m: Incompatible shape for in-place modification. Use `.reshape()` to make a copy with the desired shape."
     ]
    }
   ],
   "source": [
    "x.shape = 2, -1"
   ]
  },
  {
   "cell_type": "code",
   "execution_count": 77,
   "metadata": {},
   "outputs": [
    {
     "data": {
      "text/plain": [
       "array([[4, 1, 4, 2, 4, 2, 4, 1, 0, 0, 4, 4],\n",
       "       [0, 1, 3, 2, 0, 2, 2, 2, 2, 0, 3, 4]])"
      ]
     },
     "execution_count": 77,
     "metadata": {},
     "output_type": "execute_result"
    }
   ],
   "source": [
    "x.reshape(2, -1) # -1 means find it out by yourself"
   ]
  },
  {
   "cell_type": "code",
   "execution_count": 78,
   "metadata": {},
   "outputs": [
    {
     "data": {
      "text/plain": [
       "array([4, 1, 4, 2, 4, 2, 4, 1, 0, 0, 4, 4, 0, 1, 3, 2, 0, 2, 2, 2, 2, 0,\n",
       "       3, 4])"
      ]
     },
     "execution_count": 78,
     "metadata": {},
     "output_type": "execute_result"
    }
   ],
   "source": [
    "x.flatten() # make it flat (cpies)"
   ]
  },
  {
   "cell_type": "code",
   "execution_count": 79,
   "metadata": {},
   "outputs": [
    {
     "data": {
      "text/plain": [
       "array([4, 1, 4, 2, 4, 2, 4, 1, 0, 0, 4, 4, 0, 1, 3, 2, 0, 2, 2, 2, 2, 0,\n",
       "       3, 4])"
      ]
     },
     "execution_count": 79,
     "metadata": {},
     "output_type": "execute_result"
    }
   ],
   "source": [
    "x.ravel() # make it flat (faster than .flatten()) (in place calculates)"
   ]
  },
  {
   "cell_type": "code",
   "execution_count": 81,
   "metadata": {},
   "outputs": [
    {
     "data": {
      "text/plain": [
       "False"
      ]
     },
     "execution_count": 81,
     "metadata": {},
     "output_type": "execute_result"
    }
   ],
   "source": [
    "np.may_share_memory(x.flatten(), x.ravel())"
   ]
  },
  {
   "cell_type": "code",
   "execution_count": 84,
   "metadata": {},
   "outputs": [
    {
     "data": {
      "text/plain": [
       "<numpy.flatiter at 0x25ebfce1240>"
      ]
     },
     "execution_count": 84,
     "metadata": {},
     "output_type": "execute_result"
    }
   ],
   "source": [
    "x.flat # is a generator and yields|"
   ]
  },
  {
   "cell_type": "code",
   "execution_count": 85,
   "metadata": {},
   "outputs": [],
   "source": [
    "# Broadcasting"
   ]
  },
  {
   "cell_type": "code",
   "execution_count": 86,
   "metadata": {},
   "outputs": [
    {
     "data": {
      "text/plain": [
       "array([ 5, 10, 15])"
      ]
     },
     "execution_count": 86,
     "metadata": {},
     "output_type": "execute_result"
    }
   ],
   "source": [
    "x = np.array([1, 2, 3])\n",
    "x * 5"
   ]
  },
  {
   "cell_type": "code",
   "execution_count": 87,
   "metadata": {},
   "outputs": [
    {
     "data": {
      "text/plain": [
       "array([1, 4, 9])"
      ]
     },
     "execution_count": 87,
     "metadata": {},
     "output_type": "execute_result"
    }
   ],
   "source": [
    "x ** 2"
   ]
  },
  {
   "cell_type": "code",
   "execution_count": 88,
   "metadata": {},
   "outputs": [
    {
     "data": {
      "text/plain": [
       "array([1, 4, 9])"
      ]
     },
     "execution_count": 88,
     "metadata": {},
     "output_type": "execute_result"
    }
   ],
   "source": [
    "x * x"
   ]
  },
  {
   "cell_type": "code",
   "execution_count": 89,
   "metadata": {},
   "outputs": [
    {
     "data": {
      "text/plain": [
       "array([5, 5, 5])"
      ]
     },
     "execution_count": 89,
     "metadata": {},
     "output_type": "execute_result"
    }
   ],
   "source": [
    "np.full(3, 5) # three 5"
   ]
  },
  {
   "cell_type": "code",
   "execution_count": 93,
   "metadata": {},
   "outputs": [
    {
     "data": {
      "text/plain": [
       "array([3, 3, 3, 3, 3])"
      ]
     },
     "execution_count": 93,
     "metadata": {},
     "output_type": "execute_result"
    }
   ],
   "source": [
    "np.repeat(3, 5) # repeat 3 five times"
   ]
  },
  {
   "cell_type": "code",
   "execution_count": null,
   "metadata": {},
   "outputs": [],
   "source": [
    "\"\"\"\n",
    "- Rules for broadcasting\n",
    "    - equal dimensions\n",
    "    - one of them is one dimension (not what you think!)\n",
    "\"\"\""
   ]
  },
  {
   "cell_type": "code",
   "execution_count": 103,
   "metadata": {},
   "outputs": [
    {
     "data": {
      "text/plain": [
       "array([[0, 4, 1],\n",
       "       [3, 4, 4],\n",
       "       [4, 1, 1]])"
      ]
     },
     "execution_count": 103,
     "metadata": {},
     "output_type": "execute_result"
    }
   ],
   "source": [
    "x = np.random.randint(5, size=(3, 3))\n",
    "x"
   ]
  },
  {
   "cell_type": "code",
   "execution_count": 104,
   "metadata": {},
   "outputs": [
    {
     "data": {
      "text/plain": [
       "array([[0, 8, 2],\n",
       "       [6, 8, 8],\n",
       "       [8, 2, 2]])"
      ]
     },
     "execution_count": 104,
     "metadata": {},
     "output_type": "execute_result"
    }
   ],
   "source": [
    "x * np.array([2])"
   ]
  },
  {
   "cell_type": "code",
   "execution_count": 108,
   "metadata": {},
   "outputs": [
    {
     "data": {
      "text/plain": [
       "array([[ 0,  8,  3],\n",
       "       [ 3,  8, 12],\n",
       "       [ 4,  2,  3]])"
      ]
     },
     "execution_count": 108,
     "metadata": {},
     "output_type": "execute_result"
    }
   ],
   "source": [
    "x * np.array([[1, 2, 3], [1, 2, 3], [1, 2, 3]])"
   ]
  },
  {
   "cell_type": "code",
   "execution_count": 109,
   "metadata": {},
   "outputs": [
    {
     "data": {
      "text/plain": [
       "array([[ 0,  8,  3],\n",
       "       [ 3,  8, 12],\n",
       "       [ 4,  2,  3]])"
      ]
     },
     "execution_count": 109,
     "metadata": {},
     "output_type": "execute_result"
    }
   ],
   "source": [
    "x * np.array([1, 2, 3]) # [1, 2, 3] will multiplied in each row"
   ]
  },
  {
   "cell_type": "code",
   "execution_count": null,
   "metadata": {},
   "outputs": [],
   "source": [
    "# Needs the dimension of the array you want to multiply in that array be like from the last dimension of that or plus one level higher, like\n",
    "\"\"\"\n",
    "2, 3, 4\n",
    "can multiply with\n",
    "a 4\n",
    "or a 3, 4\n",
    "or a 2, 3, 4\n",
    "\"\"\""
   ]
  },
  {
   "cell_type": "code",
   "execution_count": 111,
   "metadata": {},
   "outputs": [],
   "source": [
    "# in brodcastings, matric can stretch"
   ]
  },
  {
   "cell_type": "code",
   "execution_count": 113,
   "metadata": {},
   "outputs": [],
   "source": [
    "x = np.random.randint(9, size=(1, 9))\n",
    "y = np.random.randint(9, size=(9, 1))"
   ]
  },
  {
   "cell_type": "code",
   "execution_count": 114,
   "metadata": {},
   "outputs": [
    {
     "data": {
      "text/plain": [
       "array([[8, 6, 1, 0, 1, 8, 6, 4, 0]])"
      ]
     },
     "execution_count": 114,
     "metadata": {},
     "output_type": "execute_result"
    }
   ],
   "source": [
    "x"
   ]
  },
  {
   "cell_type": "code",
   "execution_count": 115,
   "metadata": {},
   "outputs": [
    {
     "data": {
      "text/plain": [
       "array([[5],\n",
       "       [5],\n",
       "       [7],\n",
       "       [2],\n",
       "       [2],\n",
       "       [2],\n",
       "       [7],\n",
       "       [2],\n",
       "       [7]])"
      ]
     },
     "execution_count": 115,
     "metadata": {},
     "output_type": "execute_result"
    }
   ],
   "source": [
    "y"
   ]
  },
  {
   "cell_type": "code",
   "execution_count": 116,
   "metadata": {},
   "outputs": [
    {
     "data": {
      "text/plain": [
       "array([[40, 30,  5,  0,  5, 40, 30, 20,  0],\n",
       "       [40, 30,  5,  0,  5, 40, 30, 20,  0],\n",
       "       [56, 42,  7,  0,  7, 56, 42, 28,  0],\n",
       "       [16, 12,  2,  0,  2, 16, 12,  8,  0],\n",
       "       [16, 12,  2,  0,  2, 16, 12,  8,  0],\n",
       "       [16, 12,  2,  0,  2, 16, 12,  8,  0],\n",
       "       [56, 42,  7,  0,  7, 56, 42, 28,  0],\n",
       "       [16, 12,  2,  0,  2, 16, 12,  8,  0],\n",
       "       [56, 42,  7,  0,  7, 56, 42, 28,  0]])"
      ]
     },
     "execution_count": 116,
     "metadata": {},
     "output_type": "execute_result"
    }
   ],
   "source": [
    "x * y"
   ]
  },
  {
   "cell_type": "code",
   "execution_count": 117,
   "metadata": {},
   "outputs": [
    {
     "data": {
      "text/plain": [
       "array([[13, 11,  6,  5,  6, 13, 11,  9,  5],\n",
       "       [13, 11,  6,  5,  6, 13, 11,  9,  5],\n",
       "       [15, 13,  8,  7,  8, 15, 13, 11,  7],\n",
       "       [10,  8,  3,  2,  3, 10,  8,  6,  2],\n",
       "       [10,  8,  3,  2,  3, 10,  8,  6,  2],\n",
       "       [10,  8,  3,  2,  3, 10,  8,  6,  2],\n",
       "       [15, 13,  8,  7,  8, 15, 13, 11,  7],\n",
       "       [10,  8,  3,  2,  3, 10,  8,  6,  2],\n",
       "       [15, 13,  8,  7,  8, 15, 13, 11,  7]])"
      ]
     },
     "execution_count": 117,
     "metadata": {},
     "output_type": "execute_result"
    }
   ],
   "source": [
    "x + y"
   ]
  },
  {
   "cell_type": "code",
   "execution_count": 118,
   "metadata": {},
   "outputs": [],
   "source": [
    "# Indexing-Slicing"
   ]
  },
  {
   "cell_type": "code",
   "execution_count": 119,
   "metadata": {},
   "outputs": [
    {
     "data": {
      "text/plain": [
       "array([[2, 4, 2, 3],\n",
       "       [3, 2, 6, 5],\n",
       "       [1, 3, 4, 3]])"
      ]
     },
     "execution_count": 119,
     "metadata": {},
     "output_type": "execute_result"
    }
   ],
   "source": [
    "x = np.random.randint(10, size=(3, 4))\n",
    "x"
   ]
  },
  {
   "cell_type": "code",
   "execution_count": 120,
   "metadata": {},
   "outputs": [
    {
     "data": {
      "text/plain": [
       "array([2, 4, 2, 3])"
      ]
     },
     "execution_count": 120,
     "metadata": {},
     "output_type": "execute_result"
    }
   ],
   "source": [
    "x[0]"
   ]
  },
  {
   "cell_type": "code",
   "execution_count": 122,
   "metadata": {},
   "outputs": [
    {
     "data": {
      "text/plain": [
       "2"
      ]
     },
     "execution_count": 122,
     "metadata": {},
     "output_type": "execute_result"
    }
   ],
   "source": [
    "x[0][0]"
   ]
  },
  {
   "cell_type": "code",
   "execution_count": 128,
   "metadata": {},
   "outputs": [
    {
     "data": {
      "text/plain": [
       "(array([2, 4, 2, 3]), True)"
      ]
     },
     "execution_count": 128,
     "metadata": {},
     "output_type": "execute_result"
    }
   ],
   "source": [
    "x[0, :], (x[0, :] == x[0]).all()"
   ]
  },
  {
   "cell_type": "code",
   "execution_count": 124,
   "metadata": {},
   "outputs": [
    {
     "data": {
      "text/plain": [
       "array([2, 3, 1])"
      ]
     },
     "execution_count": 124,
     "metadata": {},
     "output_type": "execute_result"
    }
   ],
   "source": [
    "x[:, 0]"
   ]
  },
  {
   "cell_type": "code",
   "execution_count": 129,
   "metadata": {},
   "outputs": [
    {
     "data": {
      "text/plain": [
       "slice(2, 3, 4)"
      ]
     },
     "execution_count": 129,
     "metadata": {},
     "output_type": "execute_result"
    }
   ],
   "source": [
    "s = slice(2, 3, 4)\n",
    "s"
   ]
  },
  {
   "cell_type": "code",
   "execution_count": 132,
   "metadata": {},
   "outputs": [
    {
     "data": {
      "text/plain": [
       "array([[1, 3, 4, 3]])"
      ]
     },
     "execution_count": 132,
     "metadata": {},
     "output_type": "execute_result"
    }
   ],
   "source": [
    "x[s]"
   ]
  },
  {
   "cell_type": "code",
   "execution_count": 133,
   "metadata": {},
   "outputs": [
    {
     "data": {
      "text/plain": [
       "array([[2, 4, 2, 3],\n",
       "       [3, 2, 6, 5]])"
      ]
     },
     "execution_count": 133,
     "metadata": {},
     "output_type": "execute_result"
    }
   ],
   "source": [
    "x[slice(0, 2), :]"
   ]
  },
  {
   "cell_type": "code",
   "execution_count": 135,
   "metadata": {},
   "outputs": [
    {
     "data": {
      "text/plain": [
       "False"
      ]
     },
     "execution_count": 135,
     "metadata": {},
     "output_type": "execute_result"
    }
   ],
   "source": [
    "l = [1, 2, 3, 3]\n",
    "l[:] is l"
   ]
  },
  {
   "cell_type": "code",
   "execution_count": 136,
   "metadata": {},
   "outputs": [
    {
     "data": {
      "text/plain": [
       "True"
      ]
     },
     "execution_count": 136,
     "metadata": {},
     "output_type": "execute_result"
    }
   ],
   "source": [
    "np.may_share_memory(x, x[slice(0, 2), :])"
   ]
  },
  {
   "cell_type": "code",
   "execution_count": 137,
   "metadata": {},
   "outputs": [
    {
     "data": {
      "text/plain": [
       "array([2, 4, 2, 3])"
      ]
     },
     "execution_count": 137,
     "metadata": {},
     "output_type": "execute_result"
    }
   ],
   "source": [
    "x[0] # Indexing"
   ]
  },
  {
   "cell_type": "code",
   "execution_count": 138,
   "metadata": {},
   "outputs": [
    {
     "data": {
      "text/plain": [
       "array([[2, 4, 2, 3]])"
      ]
     },
     "execution_count": 138,
     "metadata": {},
     "output_type": "execute_result"
    }
   ],
   "source": [
    "x[0:1] # Slicing"
   ]
  },
  {
   "cell_type": "code",
   "execution_count": 141,
   "metadata": {},
   "outputs": [
    {
     "data": {
      "text/plain": [
       "(4,)"
      ]
     },
     "execution_count": 141,
     "metadata": {},
     "output_type": "execute_result"
    }
   ],
   "source": [
    "x[0].shape"
   ]
  },
  {
   "cell_type": "code",
   "execution_count": 142,
   "metadata": {},
   "outputs": [
    {
     "data": {
      "text/plain": [
       "(1, 4)"
      ]
     },
     "execution_count": 142,
     "metadata": {},
     "output_type": "execute_result"
    }
   ],
   "source": [
    "x[0:1].shape"
   ]
  },
  {
   "cell_type": "code",
   "execution_count": 143,
   "metadata": {},
   "outputs": [
    {
     "data": {
      "text/plain": [
       "array([[ True,  True,  True,  True],\n",
       "       [ True,  True,  True,  True],\n",
       "       [ True,  True,  True,  True]])"
      ]
     },
     "execution_count": 143,
     "metadata": {},
     "output_type": "execute_result"
    }
   ],
   "source": [
    "np.equal(x, x[::])"
   ]
  },
  {
   "cell_type": "code",
   "execution_count": 144,
   "metadata": {},
   "outputs": [
    {
     "name": "stdout",
     "output_type": "stream",
     "text": [
      " Volume in drive C has no label.\n",
      " Volume Serial Number is 768F-38E6\n",
      "\n",
      " Directory of c:\\Users\\Amir\\Desktop\\Pytopia ML 2022\\00-Practices\n",
      "\n",
      "10/06/2023  09:46 PM    <DIR>          .\n",
      "10/06/2023  09:45 PM    <DIR>          ..\n",
      "10/08/2023  10:58 PM            34,428 3-numpy.ipynb\n",
      "               1 File(s)         34,428 bytes\n",
      "               2 Dir(s)  31,159,345,152 bytes free\n"
     ]
    }
   ],
   "source": [
    "ls"
   ]
  },
  {
   "cell_type": "code",
   "execution_count": 145,
   "metadata": {},
   "outputs": [
    {
     "data": {
      "text/plain": [
       "array([[2, 4, 2, 3],\n",
       "       [3, 2, 6, 5],\n",
       "       [1, 3, 4, 3]])"
      ]
     },
     "execution_count": 145,
     "metadata": {},
     "output_type": "execute_result"
    }
   ],
   "source": [
    "x"
   ]
  },
  {
   "cell_type": "code",
   "execution_count": 146,
   "metadata": {},
   "outputs": [],
   "source": [
    "x[0] = 0 # Broadcasting"
   ]
  },
  {
   "cell_type": "code",
   "execution_count": 147,
   "metadata": {},
   "outputs": [
    {
     "data": {
      "text/plain": [
       "array([[0, 0, 0, 0],\n",
       "       [3, 2, 6, 5],\n",
       "       [1, 3, 4, 3]])"
      ]
     },
     "execution_count": 147,
     "metadata": {},
     "output_type": "execute_result"
    }
   ],
   "source": [
    "x"
   ]
  },
  {
   "cell_type": "code",
   "execution_count": 148,
   "metadata": {},
   "outputs": [
    {
     "data": {
      "text/plain": [
       "2"
      ]
     },
     "execution_count": 148,
     "metadata": {},
     "output_type": "execute_result"
    }
   ],
   "source": [
    "x.ndim"
   ]
  },
  {
   "cell_type": "code",
   "execution_count": 151,
   "metadata": {},
   "outputs": [
    {
     "data": {
      "text/plain": [
       "array([[[4, 0, 9],\n",
       "        [2, 9, 5],\n",
       "        [1, 7, 8],\n",
       "        [2, 8, 3]],\n",
       "\n",
       "       [[0, 1, 9],\n",
       "        [5, 0, 1],\n",
       "        [4, 7, 7],\n",
       "        [7, 4, 3]],\n",
       "\n",
       "       [[2, 4, 5],\n",
       "        [2, 4, 6],\n",
       "        [3, 5, 4],\n",
       "        [1, 2, 6]]])"
      ]
     },
     "execution_count": 151,
     "metadata": {},
     "output_type": "execute_result"
    }
   ],
   "source": [
    "x = np.random.randint(10, size=(3, 4, 3))\n",
    "x"
   ]
  },
  {
   "cell_type": "code",
   "execution_count": 154,
   "metadata": {},
   "outputs": [
    {
     "data": {
      "text/plain": [
       "array([[[4, 0],\n",
       "        [2, 9]],\n",
       "\n",
       "       [[0, 1],\n",
       "        [5, 0]],\n",
       "\n",
       "       [[2, 4],\n",
       "        [2, 4]]])"
      ]
     },
     "execution_count": 154,
     "metadata": {},
     "output_type": "execute_result"
    }
   ],
   "source": [
    "x[:, :2, :2] # All of it in first dimension, two of the second dimension and two of the third dimension"
   ]
  },
  {
   "cell_type": "code",
   "execution_count": 163,
   "metadata": {},
   "outputs": [
    {
     "data": {
      "text/plain": [
       "array([[4, 0, 9],\n",
       "       [0, 1, 9],\n",
       "       [2, 4, 5]])"
      ]
     },
     "execution_count": 163,
     "metadata": {},
     "output_type": "execute_result"
    }
   ],
   "source": [
    "x[..., 0, :] # Ellipsis"
   ]
  },
  {
   "cell_type": "code",
   "execution_count": 164,
   "metadata": {},
   "outputs": [
    {
     "data": {
      "text/plain": [
       "Ellipsis"
      ]
     },
     "execution_count": 164,
     "metadata": {},
     "output_type": "execute_result"
    }
   ],
   "source": [
    "Ellipsis"
   ]
  },
  {
   "cell_type": "code",
   "execution_count": 165,
   "metadata": {},
   "outputs": [],
   "source": [
    "np.newaxis # Adds a new (one) dimension"
   ]
  },
  {
   "cell_type": "code",
   "execution_count": 166,
   "metadata": {},
   "outputs": [
    {
     "data": {
      "text/plain": [
       "array([[[4, 0, 9],\n",
       "        [2, 9, 5],\n",
       "        [1, 7, 8],\n",
       "        [2, 8, 3]],\n",
       "\n",
       "       [[0, 1, 9],\n",
       "        [5, 0, 1],\n",
       "        [4, 7, 7],\n",
       "        [7, 4, 3]],\n",
       "\n",
       "       [[2, 4, 5],\n",
       "        [2, 4, 6],\n",
       "        [3, 5, 4],\n",
       "        [1, 2, 6]]])"
      ]
     },
     "execution_count": 166,
     "metadata": {},
     "output_type": "execute_result"
    }
   ],
   "source": [
    "x"
   ]
  },
  {
   "cell_type": "code",
   "execution_count": 171,
   "metadata": {},
   "outputs": [
    {
     "data": {
      "text/plain": [
       "array([[[[[[4],\n",
       "           [0],\n",
       "           [9]],\n",
       "\n",
       "          [[2],\n",
       "           [9],\n",
       "           [5]],\n",
       "\n",
       "          [[1],\n",
       "           [7],\n",
       "           [8]],\n",
       "\n",
       "          [[2],\n",
       "           [8],\n",
       "           [3]]],\n",
       "\n",
       "\n",
       "         [[[0],\n",
       "           [1],\n",
       "           [9]],\n",
       "\n",
       "          [[5],\n",
       "           [0],\n",
       "           [1]],\n",
       "\n",
       "          [[4],\n",
       "           [7],\n",
       "           [7]],\n",
       "\n",
       "          [[7],\n",
       "           [4],\n",
       "           [3]]],\n",
       "\n",
       "\n",
       "         [[[2],\n",
       "           [4],\n",
       "           [5]],\n",
       "\n",
       "          [[2],\n",
       "           [4],\n",
       "           [6]],\n",
       "\n",
       "          [[3],\n",
       "           [5],\n",
       "           [4]],\n",
       "\n",
       "          [[1],\n",
       "           [2],\n",
       "           [6]]]]]])"
      ]
     },
     "execution_count": 171,
     "metadata": {},
     "output_type": "execute_result"
    }
   ],
   "source": [
    "x[np.newaxis, np.newaxis, ..., np.newaxis]"
   ]
  },
  {
   "cell_type": "code",
   "execution_count": 172,
   "metadata": {},
   "outputs": [
    {
     "data": {
      "text/plain": [
       "array([[[0],\n",
       "        [5],\n",
       "        [6]],\n",
       "\n",
       "       [[7],\n",
       "        [4],\n",
       "        [3]],\n",
       "\n",
       "       [[3],\n",
       "        [0],\n",
       "        [5]]])"
      ]
     },
     "execution_count": 172,
     "metadata": {},
     "output_type": "execute_result"
    }
   ],
   "source": [
    "np.random.randint(10, size=(3, 3))[:, :, np.newaxis]"
   ]
  },
  {
   "cell_type": "code",
   "execution_count": 174,
   "metadata": {},
   "outputs": [
    {
     "data": {
      "text/plain": [
       "array([[ 0,  0,  0,  0,  0,  0,  0,  0,  0,  0,  0],\n",
       "       [ 0,  1,  2,  3,  4,  5,  6,  7,  8,  9, 10],\n",
       "       [ 0,  2,  4,  6,  8, 10, 12, 14, 16, 18, 20],\n",
       "       [ 0,  3,  6,  9, 12, 15, 18, 21, 24, 27, 30],\n",
       "       [ 0,  4,  8, 12, 16, 20, 24, 28, 32, 36, 40],\n",
       "       [ 0,  5, 10, 15, 20, 25, 30, 35, 40, 45, 50],\n",
       "       [ 0,  6, 12, 18, 24, 30, 36, 42, 48, 54, 60],\n",
       "       [ 0,  7, 14, 21, 28, 35, 42, 49, 56, 63, 70],\n",
       "       [ 0,  8, 16, 24, 32, 40, 48, 56, 64, 72, 80],\n",
       "       [ 0,  9, 18, 27, 36, 45, 54, 63, 72, 81, 90]])"
      ]
     },
     "execution_count": 174,
     "metadata": {},
     "output_type": "execute_result"
    }
   ],
   "source": [
    "np.arange(10)[:, np.newaxis] * np.arange(11)[np.newaxis, :]"
   ]
  },
  {
   "cell_type": "code",
   "execution_count": 176,
   "metadata": {},
   "outputs": [
    {
     "data": {
      "text/plain": [
       "True"
      ]
     },
     "execution_count": 176,
     "metadata": {},
     "output_type": "execute_result"
    }
   ],
   "source": [
    "x[0, 0, 0] == x[(0, 0, 0)]"
   ]
  },
  {
   "cell_type": "code",
   "execution_count": 178,
   "metadata": {},
   "outputs": [
    {
     "data": {
      "text/plain": [
       "True"
      ]
     },
     "execution_count": 178,
     "metadata": {},
     "output_type": "execute_result"
    }
   ],
   "source": [
    "s = (0 ,0, 0)\n",
    "x[s] == x[0, 0, 0]"
   ]
  },
  {
   "cell_type": "code",
   "execution_count": 179,
   "metadata": {},
   "outputs": [],
   "source": [
    "# Advanced indexing"
   ]
  },
  {
   "cell_type": "code",
   "execution_count": 180,
   "metadata": {},
   "outputs": [
    {
     "data": {
      "text/plain": [
       "array([[[4, 0, 9],\n",
       "        [2, 9, 5],\n",
       "        [1, 7, 8],\n",
       "        [2, 8, 3]],\n",
       "\n",
       "       [[4, 0, 9],\n",
       "        [2, 9, 5],\n",
       "        [1, 7, 8],\n",
       "        [2, 8, 3]]])"
      ]
     },
     "execution_count": 180,
     "metadata": {},
     "output_type": "execute_result"
    }
   ],
   "source": [
    "x[[0, 0]]"
   ]
  },
  {
   "cell_type": "code",
   "execution_count": 181,
   "metadata": {},
   "outputs": [],
   "source": [
    "# Advanced indexing can be complex and it ALWAYS compies not VIEW"
   ]
  },
  {
   "cell_type": "code",
   "execution_count": 182,
   "metadata": {},
   "outputs": [
    {
     "data": {
      "text/plain": [
       "array([4, 0, 9])"
      ]
     },
     "execution_count": 182,
     "metadata": {},
     "output_type": "execute_result"
    }
   ],
   "source": [
    "x[0, 0]"
   ]
  },
  {
   "cell_type": "code",
   "execution_count": 183,
   "metadata": {},
   "outputs": [
    {
     "data": {
      "text/plain": [
       "array([4, 0, 9])"
      ]
     },
     "execution_count": 183,
     "metadata": {},
     "output_type": "execute_result"
    }
   ],
   "source": [
    "x[(0, 0)]"
   ]
  },
  {
   "cell_type": "code",
   "execution_count": 184,
   "metadata": {},
   "outputs": [
    {
     "data": {
      "text/plain": [
       "array([[[4, 0, 9],\n",
       "        [2, 9, 5],\n",
       "        [1, 7, 8],\n",
       "        [2, 8, 3]],\n",
       "\n",
       "       [[0, 1, 9],\n",
       "        [5, 0, 1],\n",
       "        [4, 7, 7],\n",
       "        [7, 4, 3]],\n",
       "\n",
       "       [[2, 4, 5],\n",
       "        [2, 4, 6],\n",
       "        [3, 5, 4],\n",
       "        [1, 2, 6]]])"
      ]
     },
     "execution_count": 184,
     "metadata": {},
     "output_type": "execute_result"
    }
   ],
   "source": [
    "x"
   ]
  },
  {
   "cell_type": "code",
   "execution_count": 186,
   "metadata": {},
   "outputs": [
    {
     "data": {
      "text/plain": [
       "array([[[4, 0, 9],\n",
       "        [2, 9, 5],\n",
       "        [1, 7, 8],\n",
       "        [2, 8, 3]],\n",
       "\n",
       "       [[0, 1, 9],\n",
       "        [5, 0, 1],\n",
       "        [4, 7, 7],\n",
       "        [7, 4, 3]]])"
      ]
     },
     "execution_count": 186,
     "metadata": {},
     "output_type": "execute_result"
    }
   ],
   "source": [
    "x[ [0, 1] ] # First and second elements of first dimension"
   ]
  },
  {
   "cell_type": "code",
   "execution_count": 188,
   "metadata": {},
   "outputs": [
    {
     "data": {
      "text/plain": [
       "array([[[4, 0, 9],\n",
       "        [2, 9, 5],\n",
       "        [1, 7, 8],\n",
       "        [2, 8, 3]],\n",
       "\n",
       "       [[2, 4, 5],\n",
       "        [2, 4, 6],\n",
       "        [3, 5, 4],\n",
       "        [1, 2, 6]]])"
      ]
     },
     "execution_count": 188,
     "metadata": {},
     "output_type": "execute_result"
    }
   ],
   "source": [
    "x[ [0, 2] ] # First and third elements of ffirst dimension"
   ]
  },
  {
   "cell_type": "code",
   "execution_count": 189,
   "metadata": {},
   "outputs": [
    {
     "data": {
      "text/plain": [
       "array([[[4, 0, 9],\n",
       "        [2, 9, 5],\n",
       "        [1, 7, 8],\n",
       "        [2, 8, 3]],\n",
       "\n",
       "       [[2, 4, 5],\n",
       "        [2, 4, 6],\n",
       "        [3, 5, 4],\n",
       "        [1, 2, 6]]])"
      ]
     },
     "execution_count": 189,
     "metadata": {},
     "output_type": "execute_result"
    }
   ],
   "source": [
    "x[ np.array([0, 2]) ]"
   ]
  },
  {
   "cell_type": "code",
   "execution_count": 191,
   "metadata": {},
   "outputs": [
    {
     "data": {
      "text/plain": [
       "array([[1, 7, 8],\n",
       "       [4, 7, 7]])"
      ]
     },
     "execution_count": 191,
     "metadata": {},
     "output_type": "execute_result"
    }
   ],
   "source": [
    "x[ (0, 1), 2 ] # Also advanced"
   ]
  },
  {
   "cell_type": "code",
   "execution_count": 192,
   "metadata": {},
   "outputs": [],
   "source": [
    "# Anything but [1, 2, 3] or [(1, 2, 3)] indexing is ADVANCED"
   ]
  },
  {
   "cell_type": "code",
   "execution_count": 194,
   "metadata": {},
   "outputs": [
    {
     "data": {
      "text/plain": [
       "array([[[4, 0, 9],\n",
       "        [2, 9, 5],\n",
       "        [1, 7, 8],\n",
       "        [2, 8, 3]],\n",
       "\n",
       "       [[0, 1, 9],\n",
       "        [5, 0, 1],\n",
       "        [4, 7, 7],\n",
       "        [7, 4, 3]]])"
      ]
     },
     "execution_count": 194,
     "metadata": {},
     "output_type": "execute_result"
    }
   ],
   "source": [
    "x[ (0, 1), ] # First row and second row"
   ]
  },
  {
   "cell_type": "code",
   "execution_count": 195,
   "metadata": {},
   "outputs": [],
   "source": [
    "# Mask/Masking"
   ]
  },
  {
   "cell_type": "code",
   "execution_count": 197,
   "metadata": {},
   "outputs": [
    {
     "data": {
      "text/plain": [
       "array([[2, 5, 8],\n",
       "       [0, 5, 1],\n",
       "       [5, 4, 9]])"
      ]
     },
     "execution_count": 197,
     "metadata": {},
     "output_type": "execute_result"
    }
   ],
   "source": [
    "x = np.random.randint(10, size=(3, 3))\n",
    "x"
   ]
  },
  {
   "cell_type": "code",
   "execution_count": 200,
   "metadata": {},
   "outputs": [
    {
     "data": {
      "text/plain": [
       "array([[ True, False, False],\n",
       "       [False,  True, False],\n",
       "       [False, False,  True]])"
      ]
     },
     "execution_count": 200,
     "metadata": {},
     "output_type": "execute_result"
    }
   ],
   "source": [
    "mask = np.array([\n",
    "    [True, False, False],\n",
    "    [False, True, False],\n",
    "    [False, False, True]\n",
    "])\n",
    "mask"
   ]
  },
  {
   "cell_type": "code",
   "execution_count": 202,
   "metadata": {},
   "outputs": [
    {
     "data": {
      "text/plain": [
       "array([2, 5, 9])"
      ]
     },
     "execution_count": 202,
     "metadata": {},
     "output_type": "execute_result"
    }
   ],
   "source": [
    "x[mask] # Show only the True parts and it makes a COPY not VIEW"
   ]
  },
  {
   "cell_type": "code",
   "execution_count": 203,
   "metadata": {},
   "outputs": [
    {
     "data": {
      "text/plain": [
       "array([[2, 5, 8],\n",
       "       [0, 5, 1],\n",
       "       [5, 4, 9]])"
      ]
     },
     "execution_count": 203,
     "metadata": {},
     "output_type": "execute_result"
    }
   ],
   "source": [
    "x"
   ]
  },
  {
   "cell_type": "code",
   "execution_count": 204,
   "metadata": {},
   "outputs": [
    {
     "data": {
      "text/plain": [
       "array([[2, 8],\n",
       "       [0, 1],\n",
       "       [5, 9]])"
      ]
     },
     "execution_count": 204,
     "metadata": {},
     "output_type": "execute_result"
    }
   ],
   "source": [
    "x[:, [True, False, True]] # Also Masking"
   ]
  },
  {
   "cell_type": "code",
   "execution_count": 205,
   "metadata": {},
   "outputs": [
    {
     "data": {
      "text/plain": [
       "array([[False, False, False],\n",
       "       [False, False, False],\n",
       "       [False, False, False]])"
      ]
     },
     "execution_count": 205,
     "metadata": {},
     "output_type": "execute_result"
    }
   ],
   "source": [
    "np.isnan(x)"
   ]
  },
  {
   "cell_type": "code",
   "execution_count": 206,
   "metadata": {},
   "outputs": [
    {
     "data": {
      "text/plain": [
       "array([[False, False, False],\n",
       "       [False, False, False],\n",
       "       [False, False, False]])"
      ]
     },
     "execution_count": 206,
     "metadata": {},
     "output_type": "execute_result"
    }
   ],
   "source": [
    "np.isnan(mask)"
   ]
  },
  {
   "cell_type": "code",
   "execution_count": 208,
   "metadata": {},
   "outputs": [
    {
     "data": {
      "text/plain": [
       "array([False, False, False,  True])"
      ]
     },
     "execution_count": 208,
     "metadata": {},
     "output_type": "execute_result"
    }
   ],
   "source": [
    "np.isnan(\n",
    "    np.array([1, 2, 0, np.nan])\n",
    ")"
   ]
  },
  {
   "cell_type": "code",
   "execution_count": 209,
   "metadata": {},
   "outputs": [
    {
     "data": {
      "text/plain": [
       "nan"
      ]
     },
     "execution_count": 209,
     "metadata": {},
     "output_type": "execute_result"
    }
   ],
   "source": [
    "np.NaN"
   ]
  },
  {
   "cell_type": "code",
   "execution_count": 210,
   "metadata": {},
   "outputs": [
    {
     "data": {
      "text/plain": [
       "nan"
      ]
     },
     "execution_count": 210,
     "metadata": {},
     "output_type": "execute_result"
    }
   ],
   "source": [
    "np.nan"
   ]
  },
  {
   "cell_type": "code",
   "execution_count": 211,
   "metadata": {},
   "outputs": [
    {
     "data": {
      "text/plain": [
       "array([ True,  True,  True, False])"
      ]
     },
     "execution_count": 211,
     "metadata": {},
     "output_type": "execute_result"
    }
   ],
   "source": [
    "~np.isnan(\n",
    "    np.array([1, 2, 0, np.nan])\n",
    ")"
   ]
  },
  {
   "cell_type": "code",
   "execution_count": 213,
   "metadata": {},
   "outputs": [
    {
     "data": {
      "text/plain": [
       "array([[False,  True,  True],\n",
       "       [False,  True, False],\n",
       "       [ True,  True,  True]])"
      ]
     },
     "execution_count": 213,
     "metadata": {},
     "output_type": "execute_result"
    }
   ],
   "source": [
    "x > 3 # In which indices are greater than 3"
   ]
  },
  {
   "cell_type": "code",
   "execution_count": 214,
   "metadata": {},
   "outputs": [
    {
     "data": {
      "text/plain": [
       "array([5, 8, 5, 5, 4, 9])"
      ]
     },
     "execution_count": 214,
     "metadata": {},
     "output_type": "execute_result"
    }
   ],
   "source": [
    "x[ x > 3 ]"
   ]
  },
  {
   "cell_type": "code",
   "execution_count": 215,
   "metadata": {},
   "outputs": [
    {
     "data": {
      "text/plain": [
       "array([2, 0, 1])"
      ]
     },
     "execution_count": 215,
     "metadata": {},
     "output_type": "execute_result"
    }
   ],
   "source": [
    "x[ x < 3 ]"
   ]
  },
  {
   "cell_type": "code",
   "execution_count": 216,
   "metadata": {},
   "outputs": [
    {
     "data": {
      "text/plain": [
       "array([5, 5, 5, 4])"
      ]
     },
     "execution_count": 216,
     "metadata": {},
     "output_type": "execute_result"
    }
   ],
   "source": [
    "x[ (x>3) & (x<7) ]"
   ]
  },
  {
   "cell_type": "code",
   "execution_count": 217,
   "metadata": {},
   "outputs": [
    {
     "data": {
      "text/plain": [
       "array([], dtype=int32)"
      ]
     },
     "execution_count": 217,
     "metadata": {},
     "output_type": "execute_result"
    }
   ],
   "source": [
    "x[ np.isnan(x) ]"
   ]
  },
  {
   "cell_type": "code",
   "execution_count": 218,
   "metadata": {},
   "outputs": [
    {
     "data": {
      "text/plain": [
       "array([2, 5, 8, 0, 5, 1, 5, 4, 9])"
      ]
     },
     "execution_count": 218,
     "metadata": {},
     "output_type": "execute_result"
    }
   ],
   "source": [
    "x[ ~np.isnan(x) ]"
   ]
  },
  {
   "cell_type": "code",
   "execution_count": 225,
   "metadata": {},
   "outputs": [
    {
     "data": {
      "text/plain": [
       "(array([3, 4], dtype=int64),)"
      ]
     },
     "execution_count": 225,
     "metadata": {},
     "output_type": "execute_result"
    }
   ],
   "source": [
    "a = np.array([1, 2, 3, np.nan, np.nan, 0])\n",
    "np.isnan(a).nonzero() # Indexes of those are NaN"
   ]
  },
  {
   "cell_type": "code",
   "execution_count": 226,
   "metadata": {},
   "outputs": [
    {
     "data": {
      "text/plain": [
       "(array([0, 1, 2, 5], dtype=int64),)"
      ]
     },
     "execution_count": 226,
     "metadata": {},
     "output_type": "execute_result"
    }
   ],
   "source": [
    "(~np.isnan(a)).nonzero() # Indexes of those are Not NaN"
   ]
  },
  {
   "cell_type": "code",
   "execution_count": 227,
   "metadata": {},
   "outputs": [
    {
     "data": {
      "text/plain": [
       "array([1., 2., 3., 0.])"
      ]
     },
     "execution_count": 227,
     "metadata": {},
     "output_type": "execute_result"
    }
   ],
   "source": [
    "a[ (~np.isnan(a)).nonzero() ]"
   ]
  },
  {
   "cell_type": "code",
   "execution_count": 231,
   "metadata": {},
   "outputs": [
    {
     "data": {
      "text/plain": [
       "array([0, 1, 2, 3, 4, 5, 6, 7, 8, 9])"
      ]
     },
     "execution_count": 231,
     "metadata": {},
     "output_type": "execute_result"
    }
   ],
   "source": [
    "np.arange(10)"
   ]
  },
  {
   "cell_type": "code",
   "execution_count": 232,
   "metadata": {},
   "outputs": [
    {
     "data": {
      "text/plain": [
       "array([ -1,  -2,  -3,  -4,  -5,  -6,  -7,  -8,  -9, -10])"
      ]
     },
     "execution_count": 232,
     "metadata": {},
     "output_type": "execute_result"
    }
   ],
   "source": [
    "~np.arange(10)"
   ]
  },
  {
   "cell_type": "code",
   "execution_count": 233,
   "metadata": {},
   "outputs": [
    {
     "data": {
      "text/plain": [
       "array([0, 1, 2, 3, 4, 5, 6, 7, 8, 9])"
      ]
     },
     "execution_count": 233,
     "metadata": {},
     "output_type": "execute_result"
    }
   ],
   "source": [
    "~~np.arange(10)"
   ]
  },
  {
   "cell_type": "code",
   "execution_count": 234,
   "metadata": {},
   "outputs": [
    {
     "data": {
      "text/plain": [
       "array([False, False, False, False, False,  True, False, False, False,\n",
       "       False])"
      ]
     },
     "execution_count": 234,
     "metadata": {},
     "output_type": "execute_result"
    }
   ],
   "source": [
    "np.arange(10) == 5"
   ]
  },
  {
   "cell_type": "code",
   "execution_count": 235,
   "metadata": {},
   "outputs": [
    {
     "data": {
      "text/plain": [
       "array([6])"
      ]
     },
     "execution_count": 235,
     "metadata": {},
     "output_type": "execute_result"
    }
   ],
   "source": [
    "np.arange(10)[np.arange(10)==6]"
   ]
  },
  {
   "cell_type": "code",
   "execution_count": 236,
   "metadata": {},
   "outputs": [],
   "source": [
    "# Order and Aggregate"
   ]
  },
  {
   "cell_type": "code",
   "execution_count": 249,
   "metadata": {},
   "outputs": [
    {
     "data": {
      "text/plain": [
       "array([[2, 8, 4],\n",
       "       [5, 9, 1]])"
      ]
     },
     "execution_count": 249,
     "metadata": {},
     "output_type": "execute_result"
    }
   ],
   "source": [
    "x = np.random.randint(10, size=(2, 3))\n",
    "x"
   ]
  },
  {
   "cell_type": "code",
   "execution_count": 239,
   "metadata": {},
   "outputs": [
    {
     "data": {
      "text/plain": [
       "array([[3, 1],\n",
       "       [3, 4],\n",
       "       [7, 4]])"
      ]
     },
     "execution_count": 239,
     "metadata": {},
     "output_type": "execute_result"
    }
   ],
   "source": [
    "x.T"
   ]
  },
  {
   "cell_type": "code",
   "execution_count": 240,
   "metadata": {},
   "outputs": [
    {
     "data": {
      "text/plain": [
       "array([[3, 1],\n",
       "       [3, 4],\n",
       "       [7, 4]])"
      ]
     },
     "execution_count": 240,
     "metadata": {},
     "output_type": "execute_result"
    }
   ],
   "source": [
    "x.transpose()"
   ]
  },
  {
   "cell_type": "code",
   "execution_count": 260,
   "metadata": {},
   "outputs": [
    {
     "data": {
      "text/plain": [
       "array([[2, 8, 4],\n",
       "       [5, 9, 1]])"
      ]
     },
     "execution_count": 260,
     "metadata": {},
     "output_type": "execute_result"
    }
   ],
   "source": [
    "x"
   ]
  },
  {
   "cell_type": "code",
   "execution_count": 247,
   "metadata": {},
   "outputs": [
    {
     "data": {
      "text/plain": [
       "array([[2, 5, 9],\n",
       "       [0, 8, 8]])"
      ]
     },
     "execution_count": 247,
     "metadata": {},
     "output_type": "execute_result"
    }
   ],
   "source": [
    "x.sort() # Inplace\n",
    "x"
   ]
  },
  {
   "cell_type": "code",
   "execution_count": 261,
   "metadata": {},
   "outputs": [
    {
     "data": {
      "text/plain": [
       "array([[2, 8, 1],\n",
       "       [5, 9, 4]])"
      ]
     },
     "execution_count": 261,
     "metadata": {},
     "output_type": "execute_result"
    }
   ],
   "source": [
    "np.sort(x, axis=0)"
   ]
  },
  {
   "cell_type": "code",
   "execution_count": 262,
   "metadata": {},
   "outputs": [
    {
     "data": {
      "text/plain": [
       "array([[2, 4, 8],\n",
       "       [1, 5, 9]])"
      ]
     },
     "execution_count": 262,
     "metadata": {},
     "output_type": "execute_result"
    }
   ],
   "source": [
    "# axis = dimension\n",
    "np.sort(x, axis=1)"
   ]
  },
  {
   "cell_type": "code",
   "execution_count": 263,
   "metadata": {},
   "outputs": [],
   "source": [
    "a = np.random.randint(10, size=(2, 2))\n",
    "b = np.random.randint(10, size=(2, 2))"
   ]
  },
  {
   "cell_type": "code",
   "execution_count": 266,
   "metadata": {},
   "outputs": [
    {
     "data": {
      "text/plain": [
       "array([[5, 5],\n",
       "       [1, 3]])"
      ]
     },
     "execution_count": 266,
     "metadata": {},
     "output_type": "execute_result"
    }
   ],
   "source": [
    "a"
   ]
  },
  {
   "cell_type": "code",
   "execution_count": 267,
   "metadata": {},
   "outputs": [
    {
     "data": {
      "text/plain": [
       "array([[0, 4],\n",
       "       [4, 8]])"
      ]
     },
     "execution_count": 267,
     "metadata": {},
     "output_type": "execute_result"
    }
   ],
   "source": [
    "b"
   ]
  },
  {
   "cell_type": "code",
   "execution_count": 268,
   "metadata": {},
   "outputs": [
    {
     "data": {
      "text/plain": [
       "array([[5, 5],\n",
       "       [1, 3],\n",
       "       [0, 4],\n",
       "       [4, 8]])"
      ]
     },
     "execution_count": 268,
     "metadata": {},
     "output_type": "execute_result"
    }
   ],
   "source": [
    "np.concatenate((a, b))"
   ]
  },
  {
   "cell_type": "code",
   "execution_count": 269,
   "metadata": {},
   "outputs": [
    {
     "data": {
      "text/plain": [
       "array([[5, 5],\n",
       "       [1, 3],\n",
       "       [0, 4],\n",
       "       [4, 8]])"
      ]
     },
     "execution_count": 269,
     "metadata": {},
     "output_type": "execute_result"
    }
   ],
   "source": [
    "np.concatenate((a, b), axis=0)"
   ]
  },
  {
   "cell_type": "code",
   "execution_count": 270,
   "metadata": {},
   "outputs": [
    {
     "data": {
      "text/plain": [
       "array([[5, 5, 0, 4],\n",
       "       [1, 3, 4, 8]])"
      ]
     },
     "execution_count": 270,
     "metadata": {},
     "output_type": "execute_result"
    }
   ],
   "source": [
    "np.concatenate((a, b), axis=1)"
   ]
  },
  {
   "cell_type": "code",
   "execution_count": 271,
   "metadata": {},
   "outputs": [
    {
     "data": {
      "text/plain": [
       "array([[5, 5],\n",
       "       [1, 3],\n",
       "       [0, 4],\n",
       "       [4, 8],\n",
       "       [5, 5],\n",
       "       [1, 3]])"
      ]
     },
     "execution_count": 271,
     "metadata": {},
     "output_type": "execute_result"
    }
   ],
   "source": [
    "np.concatenate((a, b, a))"
   ]
  },
  {
   "cell_type": "code",
   "execution_count": 272,
   "metadata": {},
   "outputs": [],
   "source": [
    "# np.sort makes a copy"
   ]
  },
  {
   "cell_type": "code",
   "execution_count": 274,
   "metadata": {},
   "outputs": [
    {
     "data": {
      "text/plain": [
       "array([[1, 3],\n",
       "       [5, 5]])"
      ]
     },
     "execution_count": 274,
     "metadata": {},
     "output_type": "execute_result"
    }
   ],
   "source": [
    "np.sort(a, axis=0)"
   ]
  },
  {
   "cell_type": "code",
   "execution_count": 275,
   "metadata": {},
   "outputs": [
    {
     "data": {
      "text/plain": [
       "array([[5, 5],\n",
       "       [1, 3]])"
      ]
     },
     "execution_count": 275,
     "metadata": {},
     "output_type": "execute_result"
    }
   ],
   "source": [
    "np.sort(a, axis=1)"
   ]
  },
  {
   "cell_type": "code",
   "execution_count": 276,
   "metadata": {},
   "outputs": [
    {
     "data": {
      "text/plain": [
       "array([[5, 5],\n",
       "       [1, 3]])"
      ]
     },
     "execution_count": 276,
     "metadata": {},
     "output_type": "execute_result"
    }
   ],
   "source": [
    "a"
   ]
  },
  {
   "cell_type": "code",
   "execution_count": 277,
   "metadata": {},
   "outputs": [
    {
     "data": {
      "text/plain": [
       "array([[0, 4],\n",
       "       [4, 8]])"
      ]
     },
     "execution_count": 277,
     "metadata": {},
     "output_type": "execute_result"
    }
   ],
   "source": [
    "b"
   ]
  },
  {
   "cell_type": "code",
   "execution_count": 280,
   "metadata": {},
   "outputs": [
    {
     "data": {
      "text/plain": [
       "array([[5, 5, 0, 4],\n",
       "       [1, 3, 4, 8]])"
      ]
     },
     "execution_count": 280,
     "metadata": {},
     "output_type": "execute_result"
    }
   ],
   "source": [
    "np.hstack((a, b)) # Horizontally stacked"
   ]
  },
  {
   "cell_type": "code",
   "execution_count": 282,
   "metadata": {},
   "outputs": [
    {
     "data": {
      "text/plain": [
       "array([[5, 5],\n",
       "       [1, 3],\n",
       "       [0, 4],\n",
       "       [4, 8]])"
      ]
     },
     "execution_count": 282,
     "metadata": {},
     "output_type": "execute_result"
    }
   ],
   "source": [
    "np.vstack((a, b)) # Vertically stacked"
   ]
  },
  {
   "cell_type": "code",
   "execution_count": 283,
   "metadata": {},
   "outputs": [
    {
     "data": {
      "text/plain": [
       "1.6583123951777"
      ]
     },
     "execution_count": 283,
     "metadata": {},
     "output_type": "execute_result"
    }
   ],
   "source": [
    "np.std(a)"
   ]
  },
  {
   "cell_type": "code",
   "execution_count": 284,
   "metadata": {},
   "outputs": [],
   "source": [
    "# More on data types"
   ]
  },
  {
   "cell_type": "code",
   "execution_count": 285,
   "metadata": {},
   "outputs": [
    {
     "data": {
      "text/plain": [
       "numpy.dtype"
      ]
     },
     "execution_count": 285,
     "metadata": {},
     "output_type": "execute_result"
    }
   ],
   "source": [
    "np.dtype"
   ]
  },
  {
   "cell_type": "code",
   "execution_count": 286,
   "metadata": {},
   "outputs": [
    {
     "data": {
      "text/plain": [
       "dtype('int8')"
      ]
     },
     "execution_count": 286,
     "metadata": {},
     "output_type": "execute_result"
    }
   ],
   "source": [
    "np.dtype('i1')"
   ]
  },
  {
   "cell_type": "code",
   "execution_count": 292,
   "metadata": {},
   "outputs": [
    {
     "data": {
      "text/plain": [
       "dtype('int32')"
      ]
     },
     "execution_count": 292,
     "metadata": {},
     "output_type": "execute_result"
    }
   ],
   "source": [
    "np.dtype('<i4')"
   ]
  },
  {
   "cell_type": "code",
   "execution_count": 293,
   "metadata": {},
   "outputs": [
    {
     "data": {
      "text/plain": [
       "dtype('>i4')"
      ]
     },
     "execution_count": 293,
     "metadata": {},
     "output_type": "execute_result"
    }
   ],
   "source": [
    "np.dtype('>i4')"
   ]
  },
  {
   "cell_type": "code",
   "execution_count": 295,
   "metadata": {},
   "outputs": [
    {
     "data": {
      "text/plain": [
       "numpy.int32"
      ]
     },
     "execution_count": 295,
     "metadata": {},
     "output_type": "execute_result"
    }
   ],
   "source": [
    "np.dtype('i4').type"
   ]
  },
  {
   "cell_type": "code",
   "execution_count": 296,
   "metadata": {},
   "outputs": [
    {
     "data": {
      "text/plain": [
       "'int32'"
      ]
     },
     "execution_count": 296,
     "metadata": {},
     "output_type": "execute_result"
    }
   ],
   "source": [
    "np.dtype('i4').name"
   ]
  },
  {
   "cell_type": "code",
   "execution_count": 297,
   "metadata": {},
   "outputs": [
    {
     "data": {
      "text/plain": [
       "numpy.str_"
      ]
     },
     "execution_count": 297,
     "metadata": {},
     "output_type": "execute_result"
    }
   ],
   "source": [
    "np.unicode_"
   ]
  },
  {
   "cell_type": "code",
   "execution_count": 298,
   "metadata": {},
   "outputs": [],
   "source": [
    "# u3 means 3 unicode characters\n",
    "# u10 means 10 unicode characters"
   ]
  },
  {
   "cell_type": "code",
   "execution_count": 300,
   "metadata": {},
   "outputs": [],
   "source": [
    "# Custom data types\n",
    "\n",
    "stdt = np.dtype([\n",
    "    ('custom-datatype-name', np.unicode_, 10),\n",
    "    ('grades-dt', np.float64, (2, 3)),\n",
    "])"
   ]
  },
  {
   "cell_type": "code",
   "execution_count": 338,
   "metadata": {},
   "outputs": [],
   "source": [
    "x = np.array([\n",
    "    ('Sarah', (\n",
    "        # 2x3\n",
    "        (3, 4, 5),\n",
    "        (6, 4, 8),\n",
    "    )),\n",
    "    ('Amir', (\n",
    "        # 2x3\n",
    "        (33, 44, 25),\n",
    "        (62, 44, 83),\n",
    "    )),\n",
    "], dtype=stdt)"
   ]
  },
  {
   "cell_type": "code",
   "execution_count": 308,
   "metadata": {},
   "outputs": [
    {
     "data": {
      "text/plain": [
       "array(['Sarah', 'Amir'], dtype='<U10')"
      ]
     },
     "execution_count": 308,
     "metadata": {},
     "output_type": "execute_result"
    }
   ],
   "source": [
    "x['custom-datatype-name']"
   ]
  },
  {
   "cell_type": "code",
   "execution_count": 309,
   "metadata": {},
   "outputs": [
    {
     "data": {
      "text/plain": [
       "array([[[ 3.,  4.,  5.],\n",
       "        [ 6.,  4.,  8.]],\n",
       "\n",
       "       [[33., 44., 25.],\n",
       "        [62., 44., 83.]]])"
      ]
     },
     "execution_count": 309,
     "metadata": {},
     "output_type": "execute_result"
    }
   ],
   "source": [
    "x['grades-dt']"
   ]
  },
  {
   "cell_type": "code",
   "execution_count": 310,
   "metadata": {},
   "outputs": [
    {
     "data": {
      "text/plain": [
       "'Sarah'"
      ]
     },
     "execution_count": 310,
     "metadata": {},
     "output_type": "execute_result"
    }
   ],
   "source": [
    "x['custom-datatype-name'][0]"
   ]
  },
  {
   "cell_type": "code",
   "execution_count": 311,
   "metadata": {},
   "outputs": [
    {
     "data": {
      "text/plain": [
       "('Sarah', [[3., 4., 5.], [6., 4., 8.]])"
      ]
     },
     "execution_count": 311,
     "metadata": {},
     "output_type": "execute_result"
    }
   ],
   "source": [
    "x[0]"
   ]
  },
  {
   "cell_type": "code",
   "execution_count": 312,
   "metadata": {},
   "outputs": [
    {
     "data": {
      "text/plain": [
       "numpy.ndarray"
      ]
     },
     "execution_count": 312,
     "metadata": {},
     "output_type": "execute_result"
    }
   ],
   "source": [
    "type(x)"
   ]
  },
  {
   "cell_type": "code",
   "execution_count": 313,
   "metadata": {},
   "outputs": [
    {
     "data": {
      "text/plain": [
       "numpy.void"
      ]
     },
     "execution_count": 313,
     "metadata": {},
     "output_type": "execute_result"
    }
   ],
   "source": [
    "type(x[0])"
   ]
  },
  {
   "cell_type": "code",
   "execution_count": 324,
   "metadata": {},
   "outputs": [],
   "source": [
    "abc = np.array(['A', 'B', 'C'])"
   ]
  },
  {
   "cell_type": "code",
   "execution_count": 325,
   "metadata": {},
   "outputs": [
    {
     "data": {
      "text/plain": [
       "array(['A', 'B', 'C'], dtype='<U1')"
      ]
     },
     "execution_count": 325,
     "metadata": {},
     "output_type": "execute_result"
    }
   ],
   "source": [
    "abc"
   ]
  },
  {
   "cell_type": "code",
   "execution_count": 326,
   "metadata": {},
   "outputs": [
    {
     "data": {
      "text/plain": [
       "4"
      ]
     },
     "execution_count": 326,
     "metadata": {},
     "output_type": "execute_result"
    }
   ],
   "source": [
    "abc.itemsize"
   ]
  },
  {
   "cell_type": "code",
   "execution_count": 328,
   "metadata": {},
   "outputs": [
    {
     "data": {
      "text/plain": [
       "array(['e', 'B', 'C'], dtype='<U1')"
      ]
     },
     "execution_count": 328,
     "metadata": {},
     "output_type": "execute_result"
    }
   ],
   "source": [
    "abc[0] = 'erty'\n",
    "abc"
   ]
  },
  {
   "cell_type": "code",
   "execution_count": 329,
   "metadata": {},
   "outputs": [],
   "source": [
    "import numpy as np"
   ]
  },
  {
   "cell_type": "code",
   "execution_count": 330,
   "metadata": {},
   "outputs": [
    {
     "data": {
      "text/plain": [
       "array([(0, 0., ''), (0, 0., '')],\n",
       "      dtype=[('f0', 'i1'), ('f1', '<f4'), ('f2', '<U10')])"
      ]
     },
     "execution_count": 330,
     "metadata": {},
     "output_type": "execute_result"
    }
   ],
   "source": [
    "np.empty(\n",
    "    (2,), dtype=('i1, f4, U10')\n",
    ")"
   ]
  },
  {
   "cell_type": "code",
   "execution_count": 333,
   "metadata": {},
   "outputs": [
    {
     "data": {
      "text/plain": [
       "array([[(0, 0., '', False), (0, 0., '', False), (0, 0., '', False)],\n",
       "       [(0, 0., '', False), (0, 0., '', False), (0, 0., '', False)]],\n",
       "      dtype=[('f0', 'i1'), ('f1', '<f4'), ('f2', '<U10'), ('f3', '?')])"
      ]
     },
     "execution_count": 333,
     "metadata": {},
     "output_type": "execute_result"
    }
   ],
   "source": [
    "np.empty(\n",
    "    (2,3), dtype=('i1, f4, U10, ?') # ? Means boolean\n",
    ")"
   ]
  },
  {
   "cell_type": "code",
   "execution_count": 334,
   "metadata": {},
   "outputs": [
    {
     "data": {
      "text/plain": [
       "array([[0, 0, 0],\n",
       "       [0, 0, 0]], dtype=int8)"
      ]
     },
     "execution_count": 334,
     "metadata": {},
     "output_type": "execute_result"
    }
   ],
   "source": [
    "np.empty(\n",
    "    (2,3), dtype=('i1, f4, U10, ?') # ? Means boolean\n",
    ")['f0'] # f0 Means field one (columns one)"
   ]
  },
  {
   "cell_type": "code",
   "execution_count": 336,
   "metadata": {},
   "outputs": [
    {
     "data": {
      "text/plain": [
       "array([[(0, ''), (0, ''), (0, '')],\n",
       "       [(0, ''), (0, ''), (0, '')]],\n",
       "      dtype=[('id', '<i4'), ('name', '<U10')])"
      ]
     },
     "execution_count": 336,
     "metadata": {},
     "output_type": "execute_result"
    }
   ],
   "source": [
    "np.empty(\n",
    "    (2,3), dtype=[ ('id', 'i4'), ('name', 'U10') ] # ? Means boolean\n",
    ")"
   ]
  },
  {
   "cell_type": "code",
   "execution_count": 337,
   "metadata": {},
   "outputs": [
    {
     "data": {
      "text/plain": [
       "array([['', '', ''],\n",
       "       ['', '', '']], dtype='<U10')"
      ]
     },
     "execution_count": 337,
     "metadata": {},
     "output_type": "execute_result"
    }
   ],
   "source": [
    "np.empty(\n",
    "    (2,3), dtype=[ ('id', 'i4'), ('name', 'U10') ] # ? Means boolean\n",
    ")['name']"
   ]
  },
  {
   "cell_type": "code",
   "execution_count": 345,
   "metadata": {},
   "outputs": [
    {
     "data": {
      "text/plain": [
       "array([('amir', 12,  2., 30), ('amir2',  1, 23.,  3),\n",
       "       ('amir22', -1, 52., 13), ('amir44', 41,  2.,  3)],\n",
       "      dtype=[('name', '<U10'), ('age', '<i4'), ('power', '<f2'), ('size', '<i2')])"
      ]
     },
     "execution_count": 345,
     "metadata": {},
     "output_type": "execute_result"
    }
   ],
   "source": [
    "y = np.array([\n",
    "    ('amir', 12, 2, 30),\n",
    "    ('amir2', 1, 23, 3),\n",
    "    ('amir22', -1, 52, 13),\n",
    "    ('amir44', 41, 2, 3),\n",
    "], dtype=[ ('name', str, 10), ('age', 'i4'), ('power', 'f2'), ('size', 'i2'), ])\n",
    "y"
   ]
  },
  {
   "cell_type": "code",
   "execution_count": 347,
   "metadata": {},
   "outputs": [
    {
     "data": {
      "text/plain": [
       "array(['amir2', 'amir22'], dtype='<U10')"
      ]
     },
     "execution_count": 347,
     "metadata": {},
     "output_type": "execute_result"
    }
   ],
   "source": [
    "y[ y['power']>=23 ]['name']"
   ]
  },
  {
   "cell_type": "code",
   "execution_count": 348,
   "metadata": {},
   "outputs": [
    {
     "data": {
      "text/plain": [
       "array(['amir2', 'amir22'], dtype='<U10')"
      ]
     },
     "execution_count": 348,
     "metadata": {},
     "output_type": "execute_result"
    }
   ],
   "source": [
    "np.sort(y[ y['power']>=23 ], order='power')['name']"
   ]
  },
  {
   "cell_type": "code",
   "execution_count": 349,
   "metadata": {},
   "outputs": [
    {
     "data": {
      "text/plain": [
       "array(['amir2', 'amir22'], dtype='<U10')"
      ]
     },
     "execution_count": 349,
     "metadata": {},
     "output_type": "execute_result"
    }
   ],
   "source": [
    "np.sort(\n",
    "    y[ y['power']>=23 ],\n",
    "    order='power'\n",
    ")['name']"
   ]
  },
  {
   "cell_type": "code",
   "execution_count": 351,
   "metadata": {},
   "outputs": [
    {
     "data": {
      "text/plain": [
       "numpy.datetime64('2015-09-09')"
      ]
     },
     "execution_count": 351,
     "metadata": {},
     "output_type": "execute_result"
    }
   ],
   "source": [
    "np.datetime64('2015-09-09')"
   ]
  },
  {
   "cell_type": "code",
   "execution_count": 352,
   "metadata": {},
   "outputs": [
    {
     "ename": "ValueError",
     "evalue": "Error parsing datetime string \"2015-9-9\" at position 5",
     "output_type": "error",
     "traceback": [
      "\u001b[1;31m---------------------------------------------------------------------------\u001b[0m",
      "\u001b[1;31mValueError\u001b[0m                                Traceback (most recent call last)",
      "\u001b[1;32mc:\\Users\\Amir\\Desktop\\Pytopia ML 2022\\00-Practices\\3-numpy.ipynb Cell 203\u001b[0m line \u001b[0;36m1\n\u001b[1;32m----> <a href='vscode-notebook-cell:/c%3A/Users/Amir/Desktop/Pytopia%20ML%202022/00-Practices/3-numpy.ipynb#Y411sZmlsZQ%3D%3D?line=0'>1</a>\u001b[0m np\u001b[39m.\u001b[39;49mdatetime64(\u001b[39m'\u001b[39;49m\u001b[39m2015-9-9\u001b[39;49m\u001b[39m'\u001b[39;49m)\n",
      "\u001b[1;31mValueError\u001b[0m: Error parsing datetime string \"2015-9-9\" at position 5"
     ]
    }
   ],
   "source": [
    "np.datetime64('2015-9-9')"
   ]
  },
  {
   "cell_type": "code",
   "execution_count": 354,
   "metadata": {},
   "outputs": [
    {
     "data": {
      "text/plain": [
       "dtype('<M8[D]')"
      ]
     },
     "execution_count": 354,
     "metadata": {},
     "output_type": "execute_result"
    }
   ],
   "source": [
    "np.datetime64('2015-09-09').dtype"
   ]
  },
  {
   "cell_type": "code",
   "execution_count": 356,
   "metadata": {},
   "outputs": [
    {
     "data": {
      "text/plain": [
       "array(['2010', '2011', '2012', '2013', '2014', '2015', '2016', '2017',\n",
       "       '2018', '2019', '2020', '2021', '2022'], dtype='datetime64[Y]')"
      ]
     },
     "execution_count": 356,
     "metadata": {},
     "output_type": "execute_result"
    }
   ],
   "source": [
    "np.arange('2010', '2023', dtype='datetime64')"
   ]
  },
  {
   "cell_type": "code",
   "execution_count": 359,
   "metadata": {},
   "outputs": [
    {
     "data": {
      "text/plain": [
       "array(['2010-01', '2010-02', '2010-03', '2010-04', '2010-05', '2010-06',\n",
       "       '2010-07', '2010-08', '2010-09', '2010-10', '2010-11', '2010-12',\n",
       "       '2011-01', '2011-02', '2011-03', '2011-04', '2011-05', '2011-06',\n",
       "       '2011-07', '2011-08', '2011-09', '2011-10', '2011-11', '2011-12',\n",
       "       '2012-01', '2012-02', '2012-03', '2012-04', '2012-05', '2012-06',\n",
       "       '2012-07', '2012-08', '2012-09', '2012-10', '2012-11', '2012-12',\n",
       "       '2013-01', '2013-02', '2013-03', '2013-04', '2013-05', '2013-06',\n",
       "       '2013-07', '2013-08', '2013-09', '2013-10', '2013-11', '2013-12',\n",
       "       '2014-01', '2014-02', '2014-03', '2014-04', '2014-05', '2014-06',\n",
       "       '2014-07', '2014-08', '2014-09', '2014-10', '2014-11', '2014-12',\n",
       "       '2015-01', '2015-02', '2015-03', '2015-04', '2015-05', '2015-06',\n",
       "       '2015-07', '2015-08', '2015-09', '2015-10', '2015-11', '2015-12',\n",
       "       '2016-01', '2016-02', '2016-03', '2016-04', '2016-05', '2016-06',\n",
       "       '2016-07', '2016-08', '2016-09', '2016-10', '2016-11', '2016-12',\n",
       "       '2017-01', '2017-02', '2017-03', '2017-04', '2017-05', '2017-06',\n",
       "       '2017-07', '2017-08', '2017-09', '2017-10', '2017-11', '2017-12',\n",
       "       '2018-01', '2018-02', '2018-03', '2018-04', '2018-05', '2018-06',\n",
       "       '2018-07', '2018-08', '2018-09', '2018-10', '2018-11', '2018-12',\n",
       "       '2019-01', '2019-02', '2019-03', '2019-04', '2019-05', '2019-06',\n",
       "       '2019-07', '2019-08', '2019-09', '2019-10', '2019-11', '2019-12',\n",
       "       '2020-01', '2020-02', '2020-03', '2020-04', '2020-05', '2020-06',\n",
       "       '2020-07', '2020-08', '2020-09', '2020-10', '2020-11', '2020-12',\n",
       "       '2021-01', '2021-02', '2021-03', '2021-04', '2021-05', '2021-06',\n",
       "       '2021-07', '2021-08', '2021-09', '2021-10', '2021-11', '2021-12',\n",
       "       '2022-01', '2022-02', '2022-03', '2022-04', '2022-05', '2022-06',\n",
       "       '2022-07', '2022-08', '2022-09', '2022-10', '2022-11', '2022-12'],\n",
       "      dtype='datetime64[M]')"
      ]
     },
     "execution_count": 359,
     "metadata": {},
     "output_type": "execute_result"
    }
   ],
   "source": [
    "np.arange('2010', '2023', dtype='datetime64[M]') # M means Month"
   ]
  },
  {
   "cell_type": "code",
   "execution_count": 361,
   "metadata": {},
   "outputs": [
    {
     "data": {
      "text/plain": [
       "array([-24, -24, -24, -24, -24, -24, -24, -24, -24, -24, -24, -24, -24,\n",
       "       -24, -24, -24, -24, -24, -24, -24, -24, -24, -24, -24, -24, -24,\n",
       "       -24, -24, -24, -24, -24, -24, -24, -24, -24, -24, -24, -24, -24,\n",
       "       -24, -24, -24, -24, -24, -24, -24, -24, -24, -24, -24, -24, -24,\n",
       "       -24, -24, -24, -24, -24, -24, -24, -24, -24, -24, -24, -24, -24,\n",
       "       -24, -24, -24, -24, -24, -24, -24, -24, -24, -24, -24, -24, -24,\n",
       "       -24, -24, -24, -24, -24, -24, -24, -24, -24, -24, -24, -24, -24,\n",
       "       -24, -24, -24, -24, -24, -24, -24, -24, -24, -24, -24, -24, -24,\n",
       "       -24, -24, -24, -24, -24, -24, -24, -24, -24, -24, -24, -24, -24,\n",
       "       -24, -24, -24, -24, -24, -24, -24, -24, -24, -24, -24, -24, -24,\n",
       "       -24, -24, -24, -24, -24, -24, -24, -24, -24, -24, -24, -24, -24,\n",
       "       -24, -24, -24, -24, -24, -24, -24, -24, -24, -24, -24, -24, -24],\n",
       "      dtype='timedelta64[M]')"
      ]
     },
     "execution_count": 361,
     "metadata": {},
     "output_type": "execute_result"
    }
   ],
   "source": [
    "np.arange('2010', '2023', dtype='datetime64[M]') - np.arange('2012', '2025', dtype='datetime64[M]') # M means Month"
   ]
  },
  {
   "cell_type": "code",
   "execution_count": 362,
   "metadata": {},
   "outputs": [
    {
     "data": {
      "text/plain": [
       "[datetime.date(2010, 1, 1),\n",
       " datetime.date(2010, 2, 1),\n",
       " datetime.date(2010, 3, 1),\n",
       " datetime.date(2010, 4, 1),\n",
       " datetime.date(2010, 5, 1),\n",
       " datetime.date(2010, 6, 1),\n",
       " datetime.date(2010, 7, 1),\n",
       " datetime.date(2010, 8, 1),\n",
       " datetime.date(2010, 9, 1),\n",
       " datetime.date(2010, 10, 1),\n",
       " datetime.date(2010, 11, 1),\n",
       " datetime.date(2010, 12, 1),\n",
       " datetime.date(2011, 1, 1),\n",
       " datetime.date(2011, 2, 1),\n",
       " datetime.date(2011, 3, 1),\n",
       " datetime.date(2011, 4, 1),\n",
       " datetime.date(2011, 5, 1),\n",
       " datetime.date(2011, 6, 1),\n",
       " datetime.date(2011, 7, 1),\n",
       " datetime.date(2011, 8, 1),\n",
       " datetime.date(2011, 9, 1),\n",
       " datetime.date(2011, 10, 1),\n",
       " datetime.date(2011, 11, 1),\n",
       " datetime.date(2011, 12, 1),\n",
       " datetime.date(2012, 1, 1),\n",
       " datetime.date(2012, 2, 1),\n",
       " datetime.date(2012, 3, 1),\n",
       " datetime.date(2012, 4, 1),\n",
       " datetime.date(2012, 5, 1),\n",
       " datetime.date(2012, 6, 1),\n",
       " datetime.date(2012, 7, 1),\n",
       " datetime.date(2012, 8, 1),\n",
       " datetime.date(2012, 9, 1),\n",
       " datetime.date(2012, 10, 1),\n",
       " datetime.date(2012, 11, 1),\n",
       " datetime.date(2012, 12, 1),\n",
       " datetime.date(2013, 1, 1),\n",
       " datetime.date(2013, 2, 1),\n",
       " datetime.date(2013, 3, 1),\n",
       " datetime.date(2013, 4, 1),\n",
       " datetime.date(2013, 5, 1),\n",
       " datetime.date(2013, 6, 1),\n",
       " datetime.date(2013, 7, 1),\n",
       " datetime.date(2013, 8, 1),\n",
       " datetime.date(2013, 9, 1),\n",
       " datetime.date(2013, 10, 1),\n",
       " datetime.date(2013, 11, 1),\n",
       " datetime.date(2013, 12, 1),\n",
       " datetime.date(2014, 1, 1),\n",
       " datetime.date(2014, 2, 1),\n",
       " datetime.date(2014, 3, 1),\n",
       " datetime.date(2014, 4, 1),\n",
       " datetime.date(2014, 5, 1),\n",
       " datetime.date(2014, 6, 1),\n",
       " datetime.date(2014, 7, 1),\n",
       " datetime.date(2014, 8, 1),\n",
       " datetime.date(2014, 9, 1),\n",
       " datetime.date(2014, 10, 1),\n",
       " datetime.date(2014, 11, 1),\n",
       " datetime.date(2014, 12, 1),\n",
       " datetime.date(2015, 1, 1),\n",
       " datetime.date(2015, 2, 1),\n",
       " datetime.date(2015, 3, 1),\n",
       " datetime.date(2015, 4, 1),\n",
       " datetime.date(2015, 5, 1),\n",
       " datetime.date(2015, 6, 1),\n",
       " datetime.date(2015, 7, 1),\n",
       " datetime.date(2015, 8, 1),\n",
       " datetime.date(2015, 9, 1),\n",
       " datetime.date(2015, 10, 1),\n",
       " datetime.date(2015, 11, 1),\n",
       " datetime.date(2015, 12, 1),\n",
       " datetime.date(2016, 1, 1),\n",
       " datetime.date(2016, 2, 1),\n",
       " datetime.date(2016, 3, 1),\n",
       " datetime.date(2016, 4, 1),\n",
       " datetime.date(2016, 5, 1),\n",
       " datetime.date(2016, 6, 1),\n",
       " datetime.date(2016, 7, 1),\n",
       " datetime.date(2016, 8, 1),\n",
       " datetime.date(2016, 9, 1),\n",
       " datetime.date(2016, 10, 1),\n",
       " datetime.date(2016, 11, 1),\n",
       " datetime.date(2016, 12, 1),\n",
       " datetime.date(2017, 1, 1),\n",
       " datetime.date(2017, 2, 1),\n",
       " datetime.date(2017, 3, 1),\n",
       " datetime.date(2017, 4, 1),\n",
       " datetime.date(2017, 5, 1),\n",
       " datetime.date(2017, 6, 1),\n",
       " datetime.date(2017, 7, 1),\n",
       " datetime.date(2017, 8, 1),\n",
       " datetime.date(2017, 9, 1),\n",
       " datetime.date(2017, 10, 1),\n",
       " datetime.date(2017, 11, 1),\n",
       " datetime.date(2017, 12, 1),\n",
       " datetime.date(2018, 1, 1),\n",
       " datetime.date(2018, 2, 1),\n",
       " datetime.date(2018, 3, 1),\n",
       " datetime.date(2018, 4, 1),\n",
       " datetime.date(2018, 5, 1),\n",
       " datetime.date(2018, 6, 1),\n",
       " datetime.date(2018, 7, 1),\n",
       " datetime.date(2018, 8, 1),\n",
       " datetime.date(2018, 9, 1),\n",
       " datetime.date(2018, 10, 1),\n",
       " datetime.date(2018, 11, 1),\n",
       " datetime.date(2018, 12, 1),\n",
       " datetime.date(2019, 1, 1),\n",
       " datetime.date(2019, 2, 1),\n",
       " datetime.date(2019, 3, 1),\n",
       " datetime.date(2019, 4, 1),\n",
       " datetime.date(2019, 5, 1),\n",
       " datetime.date(2019, 6, 1),\n",
       " datetime.date(2019, 7, 1),\n",
       " datetime.date(2019, 8, 1),\n",
       " datetime.date(2019, 9, 1),\n",
       " datetime.date(2019, 10, 1),\n",
       " datetime.date(2019, 11, 1),\n",
       " datetime.date(2019, 12, 1),\n",
       " datetime.date(2020, 1, 1),\n",
       " datetime.date(2020, 2, 1),\n",
       " datetime.date(2020, 3, 1),\n",
       " datetime.date(2020, 4, 1),\n",
       " datetime.date(2020, 5, 1),\n",
       " datetime.date(2020, 6, 1),\n",
       " datetime.date(2020, 7, 1),\n",
       " datetime.date(2020, 8, 1),\n",
       " datetime.date(2020, 9, 1),\n",
       " datetime.date(2020, 10, 1),\n",
       " datetime.date(2020, 11, 1),\n",
       " datetime.date(2020, 12, 1),\n",
       " datetime.date(2021, 1, 1),\n",
       " datetime.date(2021, 2, 1),\n",
       " datetime.date(2021, 3, 1),\n",
       " datetime.date(2021, 4, 1),\n",
       " datetime.date(2021, 5, 1),\n",
       " datetime.date(2021, 6, 1),\n",
       " datetime.date(2021, 7, 1),\n",
       " datetime.date(2021, 8, 1),\n",
       " datetime.date(2021, 9, 1),\n",
       " datetime.date(2021, 10, 1),\n",
       " datetime.date(2021, 11, 1),\n",
       " datetime.date(2021, 12, 1),\n",
       " datetime.date(2022, 1, 1),\n",
       " datetime.date(2022, 2, 1),\n",
       " datetime.date(2022, 3, 1),\n",
       " datetime.date(2022, 4, 1),\n",
       " datetime.date(2022, 5, 1),\n",
       " datetime.date(2022, 6, 1),\n",
       " datetime.date(2022, 7, 1),\n",
       " datetime.date(2022, 8, 1),\n",
       " datetime.date(2022, 9, 1),\n",
       " datetime.date(2022, 10, 1),\n",
       " datetime.date(2022, 11, 1),\n",
       " datetime.date(2022, 12, 1)]"
      ]
     },
     "execution_count": 362,
     "metadata": {},
     "output_type": "execute_result"
    }
   ],
   "source": [
    "np.arange('2010', '2023', dtype='datetime64[M]').tolist()"
   ]
  },
  {
   "cell_type": "code",
   "execution_count": 363,
   "metadata": {},
   "outputs": [
    {
     "data": {
      "text/plain": [
       "datetime.date(2010, 1, 1)"
      ]
     },
     "execution_count": 363,
     "metadata": {},
     "output_type": "execute_result"
    }
   ],
   "source": [
    "np.arange('2010', '2023', dtype='datetime64[M]').tolist()[0]"
   ]
  },
  {
   "cell_type": "code",
   "execution_count": 364,
   "metadata": {},
   "outputs": [
    {
     "data": {
      "text/plain": [
       "datetime.date"
      ]
     },
     "execution_count": 364,
     "metadata": {},
     "output_type": "execute_result"
    }
   ],
   "source": [
    "type(\n",
    "    np.arange('2010', '2023', dtype='datetime64[M]').tolist()[0]\n",
    ")"
   ]
  },
  {
   "cell_type": "code",
   "execution_count": 365,
   "metadata": {},
   "outputs": [],
   "source": [
    "# Practice session"
   ]
  },
  {
   "cell_type": "code",
   "execution_count": 370,
   "metadata": {},
   "outputs": [
    {
     "data": {
      "text/plain": [
       "array([[3., 4., 5.],\n",
       "       [6., 4., 8.]])"
      ]
     },
     "execution_count": 370,
     "metadata": {},
     "output_type": "execute_result"
    }
   ],
   "source": [
    "np.empty((2, 3))"
   ]
  },
  {
   "cell_type": "code",
   "execution_count": 371,
   "metadata": {},
   "outputs": [
    {
     "data": {
      "text/plain": [
       "array([[0., 0., 0., 0.],\n",
       "       [0., 0., 0., 0.],\n",
       "       [0., 0., 0., 0.]])"
      ]
     },
     "execution_count": 371,
     "metadata": {},
     "output_type": "execute_result"
    }
   ],
   "source": [
    "np.zeros((3, 4))"
   ]
  },
  {
   "cell_type": "code",
   "execution_count": 372,
   "metadata": {},
   "outputs": [
    {
     "data": {
      "text/plain": [
       "array([[1., 1., 1., 1., 1.],\n",
       "       [1., 1., 1., 1., 1.],\n",
       "       [1., 1., 1., 1., 1.],\n",
       "       [1., 1., 1., 1., 1.]])"
      ]
     },
     "execution_count": 372,
     "metadata": {},
     "output_type": "execute_result"
    }
   ],
   "source": [
    "np.ones((4, 5))"
   ]
  },
  {
   "cell_type": "code",
   "execution_count": 373,
   "metadata": {},
   "outputs": [
    {
     "data": {
      "text/plain": [
       "inf"
      ]
     },
     "execution_count": 373,
     "metadata": {},
     "output_type": "execute_result"
    }
   ],
   "source": [
    "float('infinity')"
   ]
  },
  {
   "cell_type": "code",
   "execution_count": 374,
   "metadata": {},
   "outputs": [
    {
     "data": {
      "text/plain": [
       "array([[13, 13, 13],\n",
       "       [13, 13, 13]])"
      ]
     },
     "execution_count": 374,
     "metadata": {},
     "output_type": "execute_result"
    }
   ],
   "source": [
    "np.full((2, 3), 13)"
   ]
  },
  {
   "cell_type": "code",
   "execution_count": 378,
   "metadata": {},
   "outputs": [
    {
     "data": {
      "text/plain": [
       "array([[1],\n",
       "       [2],\n",
       "       [3]])"
      ]
     },
     "execution_count": 378,
     "metadata": {},
     "output_type": "execute_result"
    }
   ],
   "source": [
    "np.array([1, 2, 3]).reshape((3, 1))"
   ]
  },
  {
   "cell_type": "code",
   "execution_count": 379,
   "metadata": {},
   "outputs": [
    {
     "data": {
      "text/plain": [
       "array([[5, 5, 5],\n",
       "       [5, 5, 5],\n",
       "       [5, 5, 5]], dtype=int8)"
      ]
     },
     "execution_count": 379,
     "metadata": {},
     "output_type": "execute_result"
    }
   ],
   "source": [
    "np.full((3, 3), 5, dtype='i1')"
   ]
  },
  {
   "cell_type": "code",
   "execution_count": 380,
   "metadata": {},
   "outputs": [
    {
     "data": {
      "text/plain": [
       "array([[5, 5, 5],\n",
       "       [5, 5, 5],\n",
       "       [5, 5, 5]])"
      ]
     },
     "execution_count": 380,
     "metadata": {},
     "output_type": "execute_result"
    }
   ],
   "source": [
    "np.full((3, 3), 5, dtype=int)"
   ]
  },
  {
   "cell_type": "code",
   "execution_count": 381,
   "metadata": {},
   "outputs": [
    {
     "data": {
      "text/plain": [
       "dtype('int32')"
      ]
     },
     "execution_count": 381,
     "metadata": {},
     "output_type": "execute_result"
    }
   ],
   "source": [
    "np.full((3, 3), 5, dtype=int).dtype"
   ]
  },
  {
   "cell_type": "code",
   "execution_count": 382,
   "metadata": {},
   "outputs": [
    {
     "name": "stdout",
     "output_type": "stream",
     "text": [
      " int8()\n",
      "\n",
      "Signed integer type, compatible with C ``char``.\n",
      "\n",
      ":Character code: ``'b'``\n",
      ":Canonical name: `numpy.byte`\n",
      ":Alias on this platform (win32 AMD64): `numpy.int8`: 8-bit signed integer (``-128`` to ``127``).\n",
      "\n",
      "\n",
      "Methods:\n",
      "\n",
      "  all  --  Scalar method identical to the corresponding array attribute.\n",
      "  any  --  Scalar method identical to the corresponding array attribute.\n",
      "  argmax  --  Scalar method identical to the corresponding array attribute.\n",
      "  argmin  --  Scalar method identical to the corresponding array attribute.\n",
      "  argsort  --  Scalar method identical to the corresponding array attribute.\n",
      "  astype  --  Scalar method identical to the corresponding array attribute.\n",
      "  bit_count  --  int8.bit_count() -> int\n",
      "  byteswap  --  Scalar method identical to the corresponding array attribute.\n",
      "  choose  --  Scalar method identical to the corresponding array attribute.\n",
      "  clip  --  Scalar method identical to the corresponding array attribute.\n",
      "  compress  --  Scalar method identical to the corresponding array attribute.\n",
      "  conj  --  None\n",
      "  conjugate  --  Scalar method identical to the corresponding array attribute.\n",
      "  copy  --  Scalar method identical to the corresponding array attribute.\n",
      "  cumprod  --  Scalar method identical to the corresponding array attribute.\n",
      "  cumsum  --  Scalar method identical to the corresponding array attribute.\n",
      "  diagonal  --  Scalar method identical to the corresponding array attribute.\n",
      "  dump  --  Scalar method identical to the corresponding array attribute.\n",
      "  dumps  --  Scalar method identical to the corresponding array attribute.\n",
      "  fill  --  Scalar method identical to the corresponding array attribute.\n",
      "  flatten  --  Scalar method identical to the corresponding array attribute.\n",
      "  getfield  --  Scalar method identical to the corresponding array attribute.\n",
      "  is_integer  --  integer.is_integer() -> bool\n",
      "  item  --  Scalar method identical to the corresponding array attribute.\n",
      "  itemset  --  Scalar method identical to the corresponding array attribute.\n",
      "  max  --  Scalar method identical to the corresponding array attribute.\n",
      "  mean  --  Scalar method identical to the corresponding array attribute.\n",
      "  min  --  Scalar method identical to the corresponding array attribute.\n",
      "  newbyteorder  --  newbyteorder(new_order='S', /)\n",
      "  nonzero  --  Scalar method identical to the corresponding array attribute.\n",
      "  prod  --  Scalar method identical to the corresponding array attribute.\n",
      "  ptp  --  Scalar method identical to the corresponding array attribute.\n",
      "  put  --  Scalar method identical to the corresponding array attribute.\n",
      "  ravel  --  Scalar method identical to the corresponding array attribute.\n",
      "  repeat  --  Scalar method identical to the corresponding array attribute.\n",
      "  reshape  --  Scalar method identical to the corresponding array attribute.\n",
      "  resize  --  Scalar method identical to the corresponding array attribute.\n",
      "  round  --  Scalar method identical to the corresponding array attribute.\n",
      "  searchsorted  --  Scalar method identical to the corresponding array attribute.\n",
      "  setfield  --  Scalar method identical to the corresponding array attribute.\n",
      "  setflags  --  Scalar method identical to the corresponding array attribute.\n",
      "  sort  --  Scalar method identical to the corresponding array attribute.\n",
      "  squeeze  --  Scalar method identical to the corresponding array attribute.\n",
      "  std  --  Scalar method identical to the corresponding array attribute.\n",
      "  sum  --  Scalar method identical to the corresponding array attribute.\n",
      "  swapaxes  --  Scalar method identical to the corresponding array attribute.\n",
      "  take  --  Scalar method identical to the corresponding array attribute.\n",
      "  tobytes  --  None\n",
      "  tofile  --  Scalar method identical to the corresponding array attribute.\n",
      "  tolist  --  Scalar method identical to the corresponding array attribute.\n",
      "  tostring  --  Scalar method identical to the corresponding array attribute.\n",
      "  trace  --  Scalar method identical to the corresponding array attribute.\n",
      "  transpose  --  Scalar method identical to the corresponding array attribute.\n",
      "  var  --  Scalar method identical to the corresponding array attribute.\n",
      "  view  --  Scalar method identical to the corresponding array attribute.\n"
     ]
    }
   ],
   "source": [
    "np.info(np.int8)"
   ]
  },
  {
   "cell_type": "code",
   "execution_count": 384,
   "metadata": {},
   "outputs": [
    {
     "data": {
      "text/plain": [
       "iinfo(min=-128, max=127, dtype=int8)"
      ]
     },
     "execution_count": 384,
     "metadata": {},
     "output_type": "execute_result"
    }
   ],
   "source": [
    "np.iinfo(np.int8)"
   ]
  },
  {
   "cell_type": "code",
   "execution_count": 385,
   "metadata": {},
   "outputs": [
    {
     "data": {
      "text/plain": [
       "finfo(resolution=1e-15, min=-1.7976931348623157e+308, max=1.7976931348623157e+308, dtype=float64)"
      ]
     },
     "execution_count": 385,
     "metadata": {},
     "output_type": "execute_result"
    }
   ],
   "source": [
    "np.finfo(np.float64)"
   ]
  },
  {
   "cell_type": "code",
   "execution_count": 387,
   "metadata": {},
   "outputs": [
    {
     "data": {
      "text/plain": [
       "iinfo(min=0, max=255, dtype=uint8)"
      ]
     },
     "execution_count": 387,
     "metadata": {},
     "output_type": "execute_result"
    }
   ],
   "source": [
    "np.iinfo(np.uint8)"
   ]
  },
  {
   "cell_type": "code",
   "execution_count": 388,
   "metadata": {},
   "outputs": [
    {
     "name": "stderr",
     "output_type": "stream",
     "text": [
      "C:\\Users\\Amir\\AppData\\Local\\Temp\\ipykernel_19356\\1977696625.py:1: DeprecationWarning: NumPy will stop allowing conversion of out-of-bound Python integers to integer arrays.  The conversion of -1 to uint8 will fail in the future.\n",
      "For the old behavior, usually:\n",
      "    np.array(value).astype(dtype)\n",
      "will give the desired result (the cast overflows).\n",
      "  np.array([-1, 2, -3], dtype=np.uint8)\n",
      "C:\\Users\\Amir\\AppData\\Local\\Temp\\ipykernel_19356\\1977696625.py:1: DeprecationWarning: NumPy will stop allowing conversion of out-of-bound Python integers to integer arrays.  The conversion of -3 to uint8 will fail in the future.\n",
      "For the old behavior, usually:\n",
      "    np.array(value).astype(dtype)\n",
      "will give the desired result (the cast overflows).\n",
      "  np.array([-1, 2, -3], dtype=np.uint8)\n"
     ]
    },
    {
     "data": {
      "text/plain": [
       "array([255,   2, 253], dtype=uint8)"
      ]
     },
     "execution_count": 388,
     "metadata": {},
     "output_type": "execute_result"
    }
   ],
   "source": [
    "np.array([-1, 2, -3], dtype=np.uint8)"
   ]
  },
  {
   "cell_type": "code",
   "execution_count": 391,
   "metadata": {},
   "outputs": [
    {
     "data": {
      "text/plain": [
       "array([  0,   1,   2,   3,   4,   5,   6,   7,   8,   9,  10,  11,  12,\n",
       "        13,  14,  15,  16,  17,  18,  19,  20,  21,  22,  23,  24,  25,\n",
       "        26,  27,  28,  29,  30,  31,  32,  33,  34,  35,  36,  37,  38,\n",
       "        39,  40,  41,  42,  43,  44,  45,  46,  47,  48,  49,  50,  51,\n",
       "        52,  53,  54,  55,  56,  57,  58,  59,  60,  61,  62,  63,  64,\n",
       "        65,  66,  67,  68,  69,  70,  71,  72,  73,  74,  75,  76,  77,\n",
       "        78,  79,  80,  81,  82,  83,  84,  85,  86,  87,  88,  89,  90,\n",
       "        91,  92,  93,  94,  95,  96,  97,  98,  99, 100, 101, 102, 103,\n",
       "       104, 105, 106, 107, 108, 109, 110, 111, 112, 113, 114, 115, 116,\n",
       "       117, 118, 119, 120, 121, 122, 123, 124, 125, 126, 127, 128, 129,\n",
       "       130, 131, 132, 133, 134, 135, 136, 137, 138, 139, 140, 141, 142,\n",
       "       143, 144, 145, 146, 147, 148, 149, 150, 151, 152, 153, 154, 155,\n",
       "       156, 157, 158, 159, 160, 161, 162, 163, 164, 165, 166, 167, 168,\n",
       "       169, 170, 171, 172, 173, 174, 175, 176, 177, 178, 179, 180, 181,\n",
       "       182, 183, 184, 185, 186, 187, 188, 189, 190, 191, 192, 193, 194,\n",
       "       195, 196, 197, 198, 199, 200, 201, 202, 203, 204, 205, 206, 207,\n",
       "       208, 209, 210, 211, 212, 213, 214, 215, 216, 217, 218, 219, 220,\n",
       "       221, 222, 223, 224, 225, 226, 227, 228, 229, 230, 231, 232, 233,\n",
       "       234, 235, 236, 237, 238, 239, 240, 241, 242, 243, 244, 245, 246,\n",
       "       247, 248, 249, 250, 251, 252, 253, 254, 255, 256, 257, 258, 259,\n",
       "       260, 261, 262, 263, 264, 265, 266, 267, 268, 269, 270, 271, 272,\n",
       "       273, 274, 275, 276, 277, 278, 279, 280, 281, 282, 283, 284, 285,\n",
       "       286, 287, 288, 289, 290, 291, 292, 293, 294, 295, 296, 297, 298,\n",
       "       299, 300, 301, 302, 303, 304, 305, 306, 307, 308, 309, 310, 311,\n",
       "       312, 313, 314, 315, 316, 317, 318, 319, 320, 321, 322, 323, 324,\n",
       "       325, 326, 327, 328, 329, 330, 331, 332, 333, 334, 335, 336, 337,\n",
       "       338, 339, 340, 341, 342, 343, 344, 345, 346, 347, 348, 349, 350,\n",
       "       351, 352, 353, 354, 355, 356, 357, 358, 359, 360, 361, 362, 363,\n",
       "       364, 365, 366, 367, 368, 369, 370, 371, 372, 373, 374, 375, 376,\n",
       "       377, 378, 379, 380, 381, 382, 383, 384, 385, 386, 387, 388, 389,\n",
       "       390, 391, 392, 393, 394, 395, 396, 397, 398, 399, 400, 401, 402,\n",
       "       403, 404, 405, 406, 407, 408, 409, 410, 411, 412, 413, 414, 415,\n",
       "       416, 417, 418, 419, 420, 421, 422, 423, 424, 425, 426, 427, 428,\n",
       "       429, 430, 431, 432, 433, 434, 435, 436, 437, 438, 439, 440, 441,\n",
       "       442, 443, 444, 445, 446, 447, 448, 449, 450, 451, 452, 453, 454,\n",
       "       455, 456, 457, 458, 459, 460, 461, 462, 463, 464, 465, 466, 467,\n",
       "       468, 469, 470, 471, 472, 473, 474, 475, 476, 477, 478, 479, 480,\n",
       "       481, 482, 483, 484, 485, 486, 487, 488, 489, 490, 491, 492, 493,\n",
       "       494, 495, 496, 497, 498, 499, 500, 501, 502, 503, 504, 505, 506,\n",
       "       507, 508, 509, 510, 511, 512, 513, 514, 515, 516, 517, 518, 519,\n",
       "       520, 521, 522, 523, 524, 525, 526, 527, 528, 529, 530, 531, 532,\n",
       "       533, 534, 535, 536, 537, 538, 539, 540, 541, 542, 543, 544, 545,\n",
       "       546, 547, 548, 549, 550, 551, 552, 553, 554, 555, 556, 557, 558,\n",
       "       559, 560, 561, 562, 563, 564, 565, 566, 567, 568, 569, 570, 571,\n",
       "       572, 573, 574, 575, 576, 577, 578, 579, 580, 581, 582, 583, 584,\n",
       "       585, 586, 587, 588, 589, 590, 591, 592, 593, 594, 595, 596, 597,\n",
       "       598, 599, 600, 601, 602, 603, 604, 605, 606, 607, 608, 609, 610,\n",
       "       611, 612, 613, 614, 615, 616, 617, 618, 619, 620, 621, 622, 623,\n",
       "       624, 625, 626, 627, 628, 629, 630, 631, 632, 633, 634, 635, 636,\n",
       "       637, 638, 639, 640, 641, 642, 643, 644, 645, 646, 647, 648, 649,\n",
       "       650, 651, 652, 653, 654, 655, 656, 657, 658, 659, 660, 661, 662,\n",
       "       663, 664, 665, 666, 667, 668, 669, 670, 671, 672, 673, 674, 675,\n",
       "       676, 677, 678, 679, 680, 681, 682, 683, 684, 685, 686, 687, 688,\n",
       "       689, 690, 691, 692, 693, 694, 695, 696, 697, 698, 699, 700, 701,\n",
       "       702, 703, 704, 705, 706, 707, 708, 709, 710, 711, 712, 713, 714,\n",
       "       715, 716, 717, 718, 719, 720, 721, 722, 723, 724, 725, 726, 727,\n",
       "       728, 729, 730, 731, 732, 733, 734, 735, 736, 737, 738, 739, 740,\n",
       "       741, 742, 743, 744, 745, 746, 747, 748, 749, 750, 751, 752, 753,\n",
       "       754, 755, 756, 757, 758, 759, 760, 761, 762, 763, 764, 765, 766,\n",
       "       767, 768, 769, 770, 771, 772, 773, 774, 775, 776, 777, 778, 779,\n",
       "       780, 781, 782, 783, 784, 785, 786, 787, 788, 789, 790, 791, 792,\n",
       "       793, 794, 795, 796, 797, 798, 799, 800, 801, 802, 803, 804, 805,\n",
       "       806, 807, 808, 809, 810, 811, 812, 813, 814, 815, 816, 817, 818,\n",
       "       819, 820, 821, 822, 823, 824, 825, 826, 827, 828, 829, 830, 831,\n",
       "       832, 833, 834, 835, 836, 837, 838, 839, 840, 841, 842, 843, 844,\n",
       "       845, 846, 847, 848, 849, 850, 851, 852, 853, 854, 855, 856, 857,\n",
       "       858, 859, 860, 861, 862, 863, 864, 865, 866, 867, 868, 869, 870,\n",
       "       871, 872, 873, 874, 875, 876, 877, 878, 879, 880, 881, 882, 883,\n",
       "       884, 885, 886, 887, 888, 889, 890, 891, 892, 893, 894, 895, 896,\n",
       "       897, 898, 899, 900, 901, 902, 903, 904, 905, 906, 907, 908, 909,\n",
       "       910, 911, 912, 913, 914, 915, 916, 917, 918, 919, 920, 921, 922,\n",
       "       923, 924, 925, 926, 927, 928, 929, 930, 931, 932, 933, 934, 935,\n",
       "       936, 937, 938, 939, 940, 941, 942, 943, 944, 945, 946, 947, 948,\n",
       "       949, 950, 951, 952, 953, 954, 955, 956, 957, 958, 959, 960, 961,\n",
       "       962, 963, 964, 965, 966, 967, 968, 969, 970, 971, 972, 973, 974,\n",
       "       975, 976, 977, 978, 979, 980, 981, 982, 983, 984, 985, 986, 987,\n",
       "       988, 989, 990, 991, 992, 993, 994, 995, 996, 997, 998, 999])"
      ]
     },
     "execution_count": 391,
     "metadata": {},
     "output_type": "execute_result"
    }
   ],
   "source": [
    "np.arange(0, 1000)"
   ]
  },
  {
   "cell_type": "code",
   "execution_count": 393,
   "metadata": {},
   "outputs": [
    {
     "data": {
      "text/plain": [
       "array([-3., -2., -1.,  0.,  1.,  2.])"
      ]
     },
     "execution_count": 393,
     "metadata": {},
     "output_type": "execute_result"
    }
   ],
   "source": [
    "np.arange(-3, 3, dtype=np.float64)"
   ]
  },
  {
   "cell_type": "code",
   "execution_count": 394,
   "metadata": {},
   "outputs": [
    {
     "data": {
      "text/plain": [
       "array([-3., -2., -1.,  0.,  1.,  2.], dtype=float32)"
      ]
     },
     "execution_count": 394,
     "metadata": {},
     "output_type": "execute_result"
    }
   ],
   "source": [
    "np.arange(-3, 3, dtype='f4')"
   ]
  },
  {
   "cell_type": "code",
   "execution_count": 395,
   "metadata": {},
   "outputs": [
    {
     "data": {
      "text/plain": [
       "array([2. , 2.2, 2.4, 2.6, 2.8, 3. , 3.2, 3.4, 3.6, 3.8, 4. , 4.2, 4.4,\n",
       "       4.6, 4.8, 5. , 5.2, 5.4, 5.6, 5.8, 6. , 6.2, 6.4, 6.6, 6.8, 7. ,\n",
       "       7.2, 7.4, 7.6, 7.8])"
      ]
     },
     "execution_count": 395,
     "metadata": {},
     "output_type": "execute_result"
    }
   ],
   "source": [
    "np.arange(2, 8, 0.2)"
   ]
  },
  {
   "cell_type": "code",
   "execution_count": 396,
   "metadata": {},
   "outputs": [
    {
     "data": {
      "text/plain": [
       "array([  0.        ,   2.04081633,   4.08163265,   6.12244898,\n",
       "         8.16326531,  10.20408163,  12.24489796,  14.28571429,\n",
       "        16.32653061,  18.36734694,  20.40816327,  22.44897959,\n",
       "        24.48979592,  26.53061224,  28.57142857,  30.6122449 ,\n",
       "        32.65306122,  34.69387755,  36.73469388,  38.7755102 ,\n",
       "        40.81632653,  42.85714286,  44.89795918,  46.93877551,\n",
       "        48.97959184,  51.02040816,  53.06122449,  55.10204082,\n",
       "        57.14285714,  59.18367347,  61.2244898 ,  63.26530612,\n",
       "        65.30612245,  67.34693878,  69.3877551 ,  71.42857143,\n",
       "        73.46938776,  75.51020408,  77.55102041,  79.59183673,\n",
       "        81.63265306,  83.67346939,  85.71428571,  87.75510204,\n",
       "        89.79591837,  91.83673469,  93.87755102,  95.91836735,\n",
       "        97.95918367, 100.        ])"
      ]
     },
     "execution_count": 396,
     "metadata": {},
     "output_type": "execute_result"
    }
   ],
   "source": [
    "np.linspace(0, 100)"
   ]
  },
  {
   "cell_type": "code",
   "execution_count": 397,
   "metadata": {},
   "outputs": [
    {
     "data": {
      "text/plain": [
       "array([  0., 100.])"
      ]
     },
     "execution_count": 397,
     "metadata": {},
     "output_type": "execute_result"
    }
   ],
   "source": [
    "np.linspace(0, 100, num=2)"
   ]
  },
  {
   "cell_type": "code",
   "execution_count": 398,
   "metadata": {},
   "outputs": [
    {
     "data": {
      "text/plain": [
       "array([  0.        ,   0.11123471,   0.22246941,   0.33370412,\n",
       "         0.44493882,   0.55617353,   0.66740823,   0.77864294,\n",
       "         0.88987764,   1.00111235,   1.11234705,   1.22358176,\n",
       "         1.33481646,   1.44605117,   1.55728587,   1.66852058,\n",
       "         1.77975528,   1.89098999,   2.00222469,   2.1134594 ,\n",
       "         2.2246941 ,   2.33592881,   2.44716352,   2.55839822,\n",
       "         2.66963293,   2.78086763,   2.89210234,   3.00333704,\n",
       "         3.11457175,   3.22580645,   3.33704116,   3.44827586,\n",
       "         3.55951057,   3.67074527,   3.78197998,   3.89321468,\n",
       "         4.00444939,   4.11568409,   4.2269188 ,   4.3381535 ,\n",
       "         4.44938821,   4.56062291,   4.67185762,   4.78309232,\n",
       "         4.89432703,   5.00556174,   5.11679644,   5.22803115,\n",
       "         5.33926585,   5.45050056,   5.56173526,   5.67296997,\n",
       "         5.78420467,   5.89543938,   6.00667408,   6.11790879,\n",
       "         6.22914349,   6.3403782 ,   6.4516129 ,   6.56284761,\n",
       "         6.67408231,   6.78531702,   6.89655172,   7.00778643,\n",
       "         7.11902113,   7.23025584,   7.34149055,   7.45272525,\n",
       "         7.56395996,   7.67519466,   7.78642937,   7.89766407,\n",
       "         8.00889878,   8.12013348,   8.23136819,   8.34260289,\n",
       "         8.4538376 ,   8.5650723 ,   8.67630701,   8.78754171,\n",
       "         8.89877642,   9.01001112,   9.12124583,   9.23248053,\n",
       "         9.34371524,   9.45494994,   9.56618465,   9.67741935,\n",
       "         9.78865406,   9.89988877,  10.01112347,  10.12235818,\n",
       "        10.23359288,  10.34482759,  10.45606229,  10.567297  ,\n",
       "        10.6785317 ,  10.78976641,  10.90100111,  11.01223582,\n",
       "        11.12347052,  11.23470523,  11.34593993,  11.45717464,\n",
       "        11.56840934,  11.67964405,  11.79087875,  11.90211346,\n",
       "        12.01334816,  12.12458287,  12.23581758,  12.34705228,\n",
       "        12.45828699,  12.56952169,  12.6807564 ,  12.7919911 ,\n",
       "        12.90322581,  13.01446051,  13.12569522,  13.23692992,\n",
       "        13.34816463,  13.45939933,  13.57063404,  13.68186874,\n",
       "        13.79310345,  13.90433815,  14.01557286,  14.12680756,\n",
       "        14.23804227,  14.34927697,  14.46051168,  14.57174638,\n",
       "        14.68298109,  14.7942158 ,  14.9054505 ,  15.01668521,\n",
       "        15.12791991,  15.23915462,  15.35038932,  15.46162403,\n",
       "        15.57285873,  15.68409344,  15.79532814,  15.90656285,\n",
       "        16.01779755,  16.12903226,  16.24026696,  16.35150167,\n",
       "        16.46273637,  16.57397108,  16.68520578,  16.79644049,\n",
       "        16.90767519,  17.0189099 ,  17.13014461,  17.24137931,\n",
       "        17.35261402,  17.46384872,  17.57508343,  17.68631813,\n",
       "        17.79755284,  17.90878754,  18.02002225,  18.13125695,\n",
       "        18.24249166,  18.35372636,  18.46496107,  18.57619577,\n",
       "        18.68743048,  18.79866518,  18.90989989,  19.02113459,\n",
       "        19.1323693 ,  19.243604  ,  19.35483871,  19.46607341,\n",
       "        19.57730812,  19.68854283,  19.79977753,  19.91101224,\n",
       "        20.02224694,  20.13348165,  20.24471635,  20.35595106,\n",
       "        20.46718576,  20.57842047,  20.68965517,  20.80088988,\n",
       "        20.91212458,  21.02335929,  21.13459399,  21.2458287 ,\n",
       "        21.3570634 ,  21.46829811,  21.57953281,  21.69076752,\n",
       "        21.80200222,  21.91323693,  22.02447164,  22.13570634,\n",
       "        22.24694105,  22.35817575,  22.46941046,  22.58064516,\n",
       "        22.69187987,  22.80311457,  22.91434928,  23.02558398,\n",
       "        23.13681869,  23.24805339,  23.3592881 ,  23.4705228 ,\n",
       "        23.58175751,  23.69299221,  23.80422692,  23.91546162,\n",
       "        24.02669633,  24.13793103,  24.24916574,  24.36040044,\n",
       "        24.47163515,  24.58286986,  24.69410456,  24.80533927,\n",
       "        24.91657397,  25.02780868,  25.13904338,  25.25027809,\n",
       "        25.36151279,  25.4727475 ,  25.5839822 ,  25.69521691,\n",
       "        25.80645161,  25.91768632,  26.02892102,  26.14015573,\n",
       "        26.25139043,  26.36262514,  26.47385984,  26.58509455,\n",
       "        26.69632925,  26.80756396,  26.91879867,  27.03003337,\n",
       "        27.14126808,  27.25250278,  27.36373749,  27.47497219,\n",
       "        27.5862069 ,  27.6974416 ,  27.80867631,  27.91991101,\n",
       "        28.03114572,  28.14238042,  28.25361513,  28.36484983,\n",
       "        28.47608454,  28.58731924,  28.69855395,  28.80978865,\n",
       "        28.92102336,  29.03225806,  29.14349277,  29.25472747,\n",
       "        29.36596218,  29.47719689,  29.58843159,  29.6996663 ,\n",
       "        29.810901  ,  29.92213571,  30.03337041,  30.14460512,\n",
       "        30.25583982,  30.36707453,  30.47830923,  30.58954394,\n",
       "        30.70077864,  30.81201335,  30.92324805,  31.03448276,\n",
       "        31.14571746,  31.25695217,  31.36818687,  31.47942158,\n",
       "        31.59065628,  31.70189099,  31.8131257 ,  31.9243604 ,\n",
       "        32.03559511,  32.14682981,  32.25806452,  32.36929922,\n",
       "        32.48053393,  32.59176863,  32.70300334,  32.81423804,\n",
       "        32.92547275,  33.03670745,  33.14794216,  33.25917686,\n",
       "        33.37041157,  33.48164627,  33.59288098,  33.70411568,\n",
       "        33.81535039,  33.92658509,  34.0378198 ,  34.14905451,\n",
       "        34.26028921,  34.37152392,  34.48275862,  34.59399333,\n",
       "        34.70522803,  34.81646274,  34.92769744,  35.03893215,\n",
       "        35.15016685,  35.26140156,  35.37263626,  35.48387097,\n",
       "        35.59510567,  35.70634038,  35.81757508,  35.92880979,\n",
       "        36.04004449,  36.1512792 ,  36.2625139 ,  36.37374861,\n",
       "        36.48498331,  36.59621802,  36.70745273,  36.81868743,\n",
       "        36.92992214,  37.04115684,  37.15239155,  37.26362625,\n",
       "        37.37486096,  37.48609566,  37.59733037,  37.70856507,\n",
       "        37.81979978,  37.93103448,  38.04226919,  38.15350389,\n",
       "        38.2647386 ,  38.3759733 ,  38.48720801,  38.59844271,\n",
       "        38.70967742,  38.82091212,  38.93214683,  39.04338154,\n",
       "        39.15461624,  39.26585095,  39.37708565,  39.48832036,\n",
       "        39.59955506,  39.71078977,  39.82202447,  39.93325918,\n",
       "        40.04449388,  40.15572859,  40.26696329,  40.378198  ,\n",
       "        40.4894327 ,  40.60066741,  40.71190211,  40.82313682,\n",
       "        40.93437152,  41.04560623,  41.15684093,  41.26807564,\n",
       "        41.37931034,  41.49054505,  41.60177976,  41.71301446,\n",
       "        41.82424917,  41.93548387,  42.04671858,  42.15795328,\n",
       "        42.26918799,  42.38042269,  42.4916574 ,  42.6028921 ,\n",
       "        42.71412681,  42.82536151,  42.93659622,  43.04783092,\n",
       "        43.15906563,  43.27030033,  43.38153504,  43.49276974,\n",
       "        43.60400445,  43.71523915,  43.82647386,  43.93770857,\n",
       "        44.04894327,  44.16017798,  44.27141268,  44.38264739,\n",
       "        44.49388209,  44.6051168 ,  44.7163515 ,  44.82758621,\n",
       "        44.93882091,  45.05005562,  45.16129032,  45.27252503,\n",
       "        45.38375973,  45.49499444,  45.60622914,  45.71746385,\n",
       "        45.82869855,  45.93993326,  46.05116796,  46.16240267,\n",
       "        46.27363737,  46.38487208,  46.49610679,  46.60734149,\n",
       "        46.7185762 ,  46.8298109 ,  46.94104561,  47.05228031,\n",
       "        47.16351502,  47.27474972,  47.38598443,  47.49721913,\n",
       "        47.60845384,  47.71968854,  47.83092325,  47.94215795,\n",
       "        48.05339266,  48.16462736,  48.27586207,  48.38709677,\n",
       "        48.49833148,  48.60956618,  48.72080089,  48.8320356 ,\n",
       "        48.9432703 ,  49.05450501,  49.16573971,  49.27697442,\n",
       "        49.38820912,  49.49944383,  49.61067853,  49.72191324,\n",
       "        49.83314794,  49.94438265,  50.05561735,  50.16685206,\n",
       "        50.27808676,  50.38932147,  50.50055617,  50.61179088,\n",
       "        50.72302558,  50.83426029,  50.94549499,  51.0567297 ,\n",
       "        51.1679644 ,  51.27919911,  51.39043382,  51.50166852,\n",
       "        51.61290323,  51.72413793,  51.83537264,  51.94660734,\n",
       "        52.05784205,  52.16907675,  52.28031146,  52.39154616,\n",
       "        52.50278087,  52.61401557,  52.72525028,  52.83648498,\n",
       "        52.94771969,  53.05895439,  53.1701891 ,  53.2814238 ,\n",
       "        53.39265851,  53.50389321,  53.61512792,  53.72636263,\n",
       "        53.83759733,  53.94883204,  54.06006674,  54.17130145,\n",
       "        54.28253615,  54.39377086,  54.50500556,  54.61624027,\n",
       "        54.72747497,  54.83870968,  54.94994438,  55.06117909,\n",
       "        55.17241379,  55.2836485 ,  55.3948832 ,  55.50611791,\n",
       "        55.61735261,  55.72858732,  55.83982202,  55.95105673,\n",
       "        56.06229143,  56.17352614,  56.28476085,  56.39599555,\n",
       "        56.50723026,  56.61846496,  56.72969967,  56.84093437,\n",
       "        56.95216908,  57.06340378,  57.17463849,  57.28587319,\n",
       "        57.3971079 ,  57.5083426 ,  57.61957731,  57.73081201,\n",
       "        57.84204672,  57.95328142,  58.06451613,  58.17575083,\n",
       "        58.28698554,  58.39822024,  58.50945495,  58.62068966,\n",
       "        58.73192436,  58.84315907,  58.95439377,  59.06562848,\n",
       "        59.17686318,  59.28809789,  59.39933259,  59.5105673 ,\n",
       "        59.621802  ,  59.73303671,  59.84427141,  59.95550612,\n",
       "        60.06674082,  60.17797553,  60.28921023,  60.40044494,\n",
       "        60.51167964,  60.62291435,  60.73414905,  60.84538376,\n",
       "        60.95661846,  61.06785317,  61.17908788,  61.29032258,\n",
       "        61.40155729,  61.51279199,  61.6240267 ,  61.7352614 ,\n",
       "        61.84649611,  61.95773081,  62.06896552,  62.18020022,\n",
       "        62.29143493,  62.40266963,  62.51390434,  62.62513904,\n",
       "        62.73637375,  62.84760845,  62.95884316,  63.07007786,\n",
       "        63.18131257,  63.29254727,  63.40378198,  63.51501669,\n",
       "        63.62625139,  63.7374861 ,  63.8487208 ,  63.95995551,\n",
       "        64.07119021,  64.18242492,  64.29365962,  64.40489433,\n",
       "        64.51612903,  64.62736374,  64.73859844,  64.84983315,\n",
       "        64.96106785,  65.07230256,  65.18353726,  65.29477197,\n",
       "        65.40600667,  65.51724138,  65.62847608,  65.73971079,\n",
       "        65.85094549,  65.9621802 ,  66.07341491,  66.18464961,\n",
       "        66.29588432,  66.40711902,  66.51835373,  66.62958843,\n",
       "        66.74082314,  66.85205784,  66.96329255,  67.07452725,\n",
       "        67.18576196,  67.29699666,  67.40823137,  67.51946607,\n",
       "        67.63070078,  67.74193548,  67.85317019,  67.96440489,\n",
       "        68.0756396 ,  68.1868743 ,  68.29810901,  68.40934372,\n",
       "        68.52057842,  68.63181313,  68.74304783,  68.85428254,\n",
       "        68.96551724,  69.07675195,  69.18798665,  69.29922136,\n",
       "        69.41045606,  69.52169077,  69.63292547,  69.74416018,\n",
       "        69.85539488,  69.96662959,  70.07786429,  70.189099  ,\n",
       "        70.3003337 ,  70.41156841,  70.52280311,  70.63403782,\n",
       "        70.74527253,  70.85650723,  70.96774194,  71.07897664,\n",
       "        71.19021135,  71.30144605,  71.41268076,  71.52391546,\n",
       "        71.63515017,  71.74638487,  71.85761958,  71.96885428,\n",
       "        72.08008899,  72.19132369,  72.3025584 ,  72.4137931 ,\n",
       "        72.52502781,  72.63626251,  72.74749722,  72.85873192,\n",
       "        72.96996663,  73.08120133,  73.19243604,  73.30367075,\n",
       "        73.41490545,  73.52614016,  73.63737486,  73.74860957,\n",
       "        73.85984427,  73.97107898,  74.08231368,  74.19354839,\n",
       "        74.30478309,  74.4160178 ,  74.5272525 ,  74.63848721,\n",
       "        74.74972191,  74.86095662,  74.97219132,  75.08342603,\n",
       "        75.19466073,  75.30589544,  75.41713014,  75.52836485,\n",
       "        75.63959956,  75.75083426,  75.86206897,  75.97330367,\n",
       "        76.08453838,  76.19577308,  76.30700779,  76.41824249,\n",
       "        76.5294772 ,  76.6407119 ,  76.75194661,  76.86318131,\n",
       "        76.97441602,  77.08565072,  77.19688543,  77.30812013,\n",
       "        77.41935484,  77.53058954,  77.64182425,  77.75305895,\n",
       "        77.86429366,  77.97552836,  78.08676307,  78.19799778,\n",
       "        78.30923248,  78.42046719,  78.53170189,  78.6429366 ,\n",
       "        78.7541713 ,  78.86540601,  78.97664071,  79.08787542,\n",
       "        79.19911012,  79.31034483,  79.42157953,  79.53281424,\n",
       "        79.64404894,  79.75528365,  79.86651835,  79.97775306,\n",
       "        80.08898776,  80.20022247,  80.31145717,  80.42269188,\n",
       "        80.53392659,  80.64516129,  80.756396  ,  80.8676307 ,\n",
       "        80.97886541,  81.09010011,  81.20133482,  81.31256952,\n",
       "        81.42380423,  81.53503893,  81.64627364,  81.75750834,\n",
       "        81.86874305,  81.97997775,  82.09121246,  82.20244716,\n",
       "        82.31368187,  82.42491657,  82.53615128,  82.64738598,\n",
       "        82.75862069,  82.86985539,  82.9810901 ,  83.09232481,\n",
       "        83.20355951,  83.31479422,  83.42602892,  83.53726363,\n",
       "        83.64849833,  83.75973304,  83.87096774,  83.98220245,\n",
       "        84.09343715,  84.20467186,  84.31590656,  84.42714127,\n",
       "        84.53837597,  84.64961068,  84.76084538,  84.87208009,\n",
       "        84.98331479,  85.0945495 ,  85.2057842 ,  85.31701891,\n",
       "        85.42825362,  85.53948832,  85.65072303,  85.76195773,\n",
       "        85.87319244,  85.98442714,  86.09566185,  86.20689655,\n",
       "        86.31813126,  86.42936596,  86.54060067,  86.65183537,\n",
       "        86.76307008,  86.87430478,  86.98553949,  87.09677419,\n",
       "        87.2080089 ,  87.3192436 ,  87.43047831,  87.54171301,\n",
       "        87.65294772,  87.76418242,  87.87541713,  87.98665184,\n",
       "        88.09788654,  88.20912125,  88.32035595,  88.43159066,\n",
       "        88.54282536,  88.65406007,  88.76529477,  88.87652948,\n",
       "        88.98776418,  89.09899889,  89.21023359,  89.3214683 ,\n",
       "        89.432703  ,  89.54393771,  89.65517241,  89.76640712,\n",
       "        89.87764182,  89.98887653,  90.10011123,  90.21134594,\n",
       "        90.32258065,  90.43381535,  90.54505006,  90.65628476,\n",
       "        90.76751947,  90.87875417,  90.98998888,  91.10122358,\n",
       "        91.21245829,  91.32369299,  91.4349277 ,  91.5461624 ,\n",
       "        91.65739711,  91.76863181,  91.87986652,  91.99110122,\n",
       "        92.10233593,  92.21357063,  92.32480534,  92.43604004,\n",
       "        92.54727475,  92.65850945,  92.76974416,  92.88097887,\n",
       "        92.99221357,  93.10344828,  93.21468298,  93.32591769,\n",
       "        93.43715239,  93.5483871 ,  93.6596218 ,  93.77085651,\n",
       "        93.88209121,  93.99332592,  94.10456062,  94.21579533,\n",
       "        94.32703003,  94.43826474,  94.54949944,  94.66073415,\n",
       "        94.77196885,  94.88320356,  94.99443826,  95.10567297,\n",
       "        95.21690768,  95.32814238,  95.43937709,  95.55061179,\n",
       "        95.6618465 ,  95.7730812 ,  95.88431591,  95.99555061,\n",
       "        96.10678532,  96.21802002,  96.32925473,  96.44048943,\n",
       "        96.55172414,  96.66295884,  96.77419355,  96.88542825,\n",
       "        96.99666296,  97.10789766,  97.21913237,  97.33036707,\n",
       "        97.44160178,  97.55283648,  97.66407119,  97.7753059 ,\n",
       "        97.8865406 ,  97.99777531,  98.10901001,  98.22024472,\n",
       "        98.33147942,  98.44271413,  98.55394883,  98.66518354,\n",
       "        98.77641824,  98.88765295,  98.99888765,  99.11012236,\n",
       "        99.22135706,  99.33259177,  99.44382647,  99.55506118,\n",
       "        99.66629588,  99.77753059,  99.88876529, 100.        ])"
      ]
     },
     "execution_count": 398,
     "metadata": {},
     "output_type": "execute_result"
    }
   ],
   "source": [
    "np.linspace(0, 100, num=900)"
   ]
  },
  {
   "cell_type": "code",
   "execution_count": 399,
   "metadata": {},
   "outputs": [
    {
     "data": {
      "text/plain": [
       "array([  0.        ,  11.11111111,  22.22222222,  33.33333333,\n",
       "        44.44444444,  55.55555556,  66.66666667,  77.77777778,\n",
       "        88.88888889, 100.        ])"
      ]
     },
     "execution_count": 399,
     "metadata": {},
     "output_type": "execute_result"
    }
   ],
   "source": [
    "np.linspace(0, 100, num=10)"
   ]
  },
  {
   "cell_type": "code",
   "execution_count": 400,
   "metadata": {},
   "outputs": [
    {
     "data": {
      "text/plain": [
       "array([  0.        ,  16.66666667,  33.33333333,  50.        ,\n",
       "        66.66666667,  83.33333333, 100.        ])"
      ]
     },
     "execution_count": 400,
     "metadata": {},
     "output_type": "execute_result"
    }
   ],
   "source": [
    "np.linspace(0, 100, num=7) # Linear space splits into 50 by default parts"
   ]
  },
  {
   "cell_type": "code",
   "execution_count": 401,
   "metadata": {},
   "outputs": [
    {
     "data": {
      "text/plain": [
       "array([-5.00000000e-01, -4.00000000e-01, -3.00000000e-01, -2.00000000e-01,\n",
       "       -1.00000000e-01, -1.11022302e-16,  1.00000000e-01])"
      ]
     },
     "execution_count": 401,
     "metadata": {},
     "output_type": "execute_result"
    }
   ],
   "source": [
    "np.arange(-0.5, 0.2, 0.1)"
   ]
  },
  {
   "cell_type": "code",
   "execution_count": 405,
   "metadata": {},
   "outputs": [
    {
     "data": {
      "text/plain": [
       "array([[0, 0, 0, 0, 0, 0, 0, 9, 0],\n",
       "       [0, 0, 0, 0, 0, 0, 0, 0, 9],\n",
       "       [0, 0, 0, 0, 0, 0, 0, 0, 0],\n",
       "       [0, 0, 0, 0, 0, 0, 0, 0, 0],\n",
       "       [0, 0, 0, 0, 0, 0, 0, 0, 0],\n",
       "       [0, 0, 0, 0, 0, 0, 0, 0, 0],\n",
       "       [0, 0, 0, 0, 0, 0, 0, 0, 0],\n",
       "       [0, 0, 0, 0, 0, 0, 0, 0, 0],\n",
       "       [0, 0, 0, 0, 0, 0, 0, 0, 0]])"
      ]
     },
     "execution_count": 405,
     "metadata": {},
     "output_type": "execute_result"
    }
   ],
   "source": [
    "np.diag((9, 9), 7)"
   ]
  },
  {
   "cell_type": "code",
   "execution_count": 406,
   "metadata": {},
   "outputs": [
    {
     "data": {
      "text/plain": [
       "array([[1., 0., 0., 0.],\n",
       "       [0., 1., 0., 0.],\n",
       "       [0., 0., 1., 0.],\n",
       "       [0., 0., 0., 1.]])"
      ]
     },
     "execution_count": 406,
     "metadata": {},
     "output_type": "execute_result"
    }
   ],
   "source": [
    "np.eye(4)"
   ]
  },
  {
   "cell_type": "code",
   "execution_count": 408,
   "metadata": {},
   "outputs": [
    {
     "data": {
      "text/plain": [
       "array([[1, 0, 0, 0, 0, 0, 0, 0, 0],\n",
       "       [0, 1, 0, 0, 0, 0, 0, 0, 0],\n",
       "       [0, 0, 1, 0, 0, 0, 0, 0, 0],\n",
       "       [0, 0, 0, 1, 0, 0, 0, 0, 0],\n",
       "       [0, 0, 0, 0, 1, 0, 0, 0, 0],\n",
       "       [0, 0, 0, 0, 0, 1, 0, 0, 0],\n",
       "       [0, 0, 0, 0, 0, 0, 1, 0, 0],\n",
       "       [0, 0, 0, 0, 0, 0, 0, 1, 0],\n",
       "       [0, 0, 0, 0, 0, 0, 0, 0, 1]], dtype=int8)"
      ]
     },
     "execution_count": 408,
     "metadata": {},
     "output_type": "execute_result"
    }
   ],
   "source": [
    "np.eye(9, dtype='i1')"
   ]
  },
  {
   "cell_type": "code",
   "execution_count": 409,
   "metadata": {},
   "outputs": [
    {
     "data": {
      "text/plain": [
       "array([[1, 0, 0, 0],\n",
       "       [0, 2, 0, 0],\n",
       "       [0, 0, 3, 0],\n",
       "       [0, 0, 0, 4]])"
      ]
     },
     "execution_count": 409,
     "metadata": {},
     "output_type": "execute_result"
    }
   ],
   "source": [
    "np.diag([1, 2, 3, 4])"
   ]
  },
  {
   "cell_type": "code",
   "execution_count": 410,
   "metadata": {},
   "outputs": [
    {
     "data": {
      "text/plain": [
       "array([[1, 0, 0, 0],\n",
       "       [0, 1, 0, 0],\n",
       "       [0, 0, 1, 0],\n",
       "       [0, 0, 0, 1]])"
      ]
     },
     "execution_count": 410,
     "metadata": {},
     "output_type": "execute_result"
    }
   ],
   "source": [
    "np.diag([1, 1, 1, 1])"
   ]
  },
  {
   "cell_type": "code",
   "execution_count": 411,
   "metadata": {},
   "outputs": [],
   "source": [
    "# .diag means diagonal (movarab)"
   ]
  },
  {
   "cell_type": "code",
   "execution_count": 412,
   "metadata": {},
   "outputs": [
    {
     "data": {
      "text/plain": [
       "array([[1, 0, 0],\n",
       "       [0, 2, 0],\n",
       "       [0, 0, 3]])"
      ]
     },
     "execution_count": 412,
     "metadata": {},
     "output_type": "execute_result"
    }
   ],
   "source": [
    "np.diag([1, 2, 3], k=0)"
   ]
  },
  {
   "cell_type": "code",
   "execution_count": 413,
   "metadata": {},
   "outputs": [
    {
     "data": {
      "text/plain": [
       "array([[0, 1, 0, 0],\n",
       "       [0, 0, 2, 0],\n",
       "       [0, 0, 0, 3],\n",
       "       [0, 0, 0, 0]])"
      ]
     },
     "execution_count": 413,
     "metadata": {},
     "output_type": "execute_result"
    }
   ],
   "source": [
    "np.diag([1, 2, 3], k=1)"
   ]
  },
  {
   "cell_type": "code",
   "execution_count": 414,
   "metadata": {},
   "outputs": [
    {
     "data": {
      "text/plain": [
       "array([[0, 0, 0, 1, 0, 0],\n",
       "       [0, 0, 0, 0, 2, 0],\n",
       "       [0, 0, 0, 0, 0, 3],\n",
       "       [0, 0, 0, 0, 0, 0],\n",
       "       [0, 0, 0, 0, 0, 0],\n",
       "       [0, 0, 0, 0, 0, 0]])"
      ]
     },
     "execution_count": 414,
     "metadata": {},
     "output_type": "execute_result"
    }
   ],
   "source": [
    "np.diag([1, 2, 3], k=3)"
   ]
  },
  {
   "cell_type": "code",
   "execution_count": 415,
   "metadata": {},
   "outputs": [
    {
     "data": {
      "text/plain": [
       "array([[0., 1., 0.],\n",
       "       [0., 0., 1.],\n",
       "       [0., 0., 0.]])"
      ]
     },
     "execution_count": 415,
     "metadata": {},
     "output_type": "execute_result"
    }
   ],
   "source": [
    "np.eye(3, k=1)"
   ]
  },
  {
   "cell_type": "code",
   "execution_count": 416,
   "metadata": {},
   "outputs": [
    {
     "data": {
      "text/plain": [
       "array([[0., 0., 0.],\n",
       "       [0., 0., 0.],\n",
       "       [0., 0., 0.]])"
      ]
     },
     "execution_count": 416,
     "metadata": {},
     "output_type": "execute_result"
    }
   ],
   "source": [
    "np.eye(3, k=10)"
   ]
  },
  {
   "cell_type": "code",
   "execution_count": 417,
   "metadata": {},
   "outputs": [
    {
     "data": {
      "text/plain": [
       "array([[0., 1., 0., 0., 0., 0., 0., 0., 0., 0., 0.],\n",
       "       [0., 0., 1., 0., 0., 0., 0., 0., 0., 0., 0.],\n",
       "       [0., 0., 0., 1., 0., 0., 0., 0., 0., 0., 0.],\n",
       "       [0., 0., 0., 0., 1., 0., 0., 0., 0., 0., 0.],\n",
       "       [0., 0., 0., 0., 0., 1., 0., 0., 0., 0., 0.],\n",
       "       [0., 0., 0., 0., 0., 0., 1., 0., 0., 0., 0.],\n",
       "       [0., 0., 0., 0., 0., 0., 0., 1., 0., 0., 0.],\n",
       "       [0., 0., 0., 0., 0., 0., 0., 0., 1., 0., 0.],\n",
       "       [0., 0., 0., 0., 0., 0., 0., 0., 0., 1., 0.],\n",
       "       [0., 0., 0., 0., 0., 0., 0., 0., 0., 0., 1.],\n",
       "       [0., 0., 0., 0., 0., 0., 0., 0., 0., 0., 0.]])"
      ]
     },
     "execution_count": 417,
     "metadata": {},
     "output_type": "execute_result"
    }
   ],
   "source": [
    "np.eye(11, k=1)"
   ]
  },
  {
   "cell_type": "code",
   "execution_count": 419,
   "metadata": {},
   "outputs": [
    {
     "data": {
      "text/plain": [
       "array([[0, 0, 0, 0, 0],\n",
       "       [0, 1, 0, 0, 0],\n",
       "       [0, 0, 2, 0, 0],\n",
       "       [0, 0, 0, 3, 0],\n",
       "       [0, 0, 0, 0, 4]])"
      ]
     },
     "execution_count": 419,
     "metadata": {},
     "output_type": "execute_result"
    }
   ],
   "source": [
    "np.diag(\n",
    "    np.arange(5)\n",
    ")"
   ]
  },
  {
   "cell_type": "code",
   "execution_count": 420,
   "metadata": {},
   "outputs": [
    {
     "data": {
      "text/plain": [
       "array([[0, 0, 0, 0, 0, 0, 0, 0, 0, 0],\n",
       "       [0, 1, 0, 0, 0, 0, 0, 0, 0, 0],\n",
       "       [0, 0, 2, 0, 0, 0, 0, 0, 0, 0],\n",
       "       [0, 0, 0, 3, 0, 0, 0, 0, 0, 0],\n",
       "       [0, 0, 0, 0, 4, 0, 0, 0, 0, 0],\n",
       "       [0, 0, 0, 0, 0, 5, 0, 0, 0, 0],\n",
       "       [0, 0, 0, 0, 0, 0, 6, 0, 0, 0],\n",
       "       [0, 0, 0, 0, 0, 0, 0, 7, 0, 0],\n",
       "       [0, 0, 0, 0, 0, 0, 0, 0, 8, 0],\n",
       "       [0, 0, 0, 0, 0, 0, 0, 0, 0, 9]])"
      ]
     },
     "execution_count": 420,
     "metadata": {},
     "output_type": "execute_result"
    }
   ],
   "source": [
    "np.diag(\n",
    "    np.arange(10)\n",
    ")"
   ]
  },
  {
   "cell_type": "code",
   "execution_count": 421,
   "metadata": {},
   "outputs": [
    {
     "data": {
      "text/plain": [
       "array([[ 0,  0,  0, ...,  0,  0,  0],\n",
       "       [ 0,  1,  0, ...,  0,  0,  0],\n",
       "       [ 0,  0,  2, ...,  0,  0,  0],\n",
       "       ...,\n",
       "       [ 0,  0,  0, ..., 47,  0,  0],\n",
       "       [ 0,  0,  0, ...,  0, 48,  0],\n",
       "       [ 0,  0,  0, ...,  0,  0, 49]])"
      ]
     },
     "execution_count": 421,
     "metadata": {},
     "output_type": "execute_result"
    }
   ],
   "source": [
    "np.diag(\n",
    "    np.arange(50)\n",
    ")"
   ]
  },
  {
   "cell_type": "code",
   "execution_count": 422,
   "metadata": {},
   "outputs": [
    {
     "data": {
      "text/plain": [
       "array([[  1.,   0.,   0.,   0.,   0.,   0.],\n",
       "       [  0.,  25.,   0.,   0.,   0.,   0.],\n",
       "       [  0.,   0.,  49.,   0.,   0.,   0.],\n",
       "       [  0.,   0.,   0.,  73.,   0.,   0.],\n",
       "       [  0.,   0.,   0.,   0.,  97.,   0.],\n",
       "       [  0.,   0.,   0.,   0.,   0., 121.]])"
      ]
     },
     "execution_count": 422,
     "metadata": {},
     "output_type": "execute_result"
    }
   ],
   "source": [
    "np.diag(\n",
    "    np.linspace(1, 121, 6)\n",
    ")"
   ]
  },
  {
   "cell_type": "code",
   "execution_count": 423,
   "metadata": {},
   "outputs": [
    {
     "data": {
      "text/plain": [
       "array([[  1.,   0.,   0.,   0.,   0.,   0.,   0.],\n",
       "       [  0.,  21.,   0.,   0.,   0.,   0.,   0.],\n",
       "       [  0.,   0.,  41.,   0.,   0.,   0.,   0.],\n",
       "       [  0.,   0.,   0.,  61.,   0.,   0.,   0.],\n",
       "       [  0.,   0.,   0.,   0.,  81.,   0.,   0.],\n",
       "       [  0.,   0.,   0.,   0.,   0., 101.,   0.],\n",
       "       [  0.,   0.,   0.,   0.,   0.,   0., 121.]])"
      ]
     },
     "execution_count": 423,
     "metadata": {},
     "output_type": "execute_result"
    }
   ],
   "source": [
    "np.diag(\n",
    "    np.linspace(1, 121, 7)\n",
    ")"
   ]
  },
  {
   "cell_type": "code",
   "execution_count": 424,
   "metadata": {},
   "outputs": [
    {
     "data": {
      "text/plain": [
       "array([[  1.,   0.,   0.,   0.,   0.],\n",
       "       [  0.,  31.,   0.,   0.,   0.],\n",
       "       [  0.,   0.,  61.,   0.,   0.],\n",
       "       [  0.,   0.,   0.,  91.,   0.],\n",
       "       [  0.,   0.,   0.,   0., 121.]])"
      ]
     },
     "execution_count": 424,
     "metadata": {},
     "output_type": "execute_result"
    }
   ],
   "source": [
    "np.diag(\n",
    "    np.linspace(1, 121, 5)\n",
    ")"
   ]
  },
  {
   "cell_type": "code",
   "execution_count": 425,
   "metadata": {},
   "outputs": [
    {
     "data": {
      "text/plain": [
       "array([[1.]])"
      ]
     },
     "execution_count": 425,
     "metadata": {},
     "output_type": "execute_result"
    }
   ],
   "source": [
    "np.diag(\n",
    "    np.linspace(1, 121, 1)\n",
    ")"
   ]
  },
  {
   "cell_type": "code",
   "execution_count": 426,
   "metadata": {},
   "outputs": [
    {
     "data": {
      "text/plain": [
       "array([[  1.,   0.,   0.,   0.,   0.,   0.,   0.,   0.,   0.,   0.,   0.,\n",
       "          0.,   0.,   0.,   0.,   0.,   0.,   0.,   0.,   0.,   0.],\n",
       "       [  0.,   7.,   0.,   0.,   0.,   0.,   0.,   0.,   0.,   0.,   0.,\n",
       "          0.,   0.,   0.,   0.,   0.,   0.,   0.,   0.,   0.,   0.],\n",
       "       [  0.,   0.,  13.,   0.,   0.,   0.,   0.,   0.,   0.,   0.,   0.,\n",
       "          0.,   0.,   0.,   0.,   0.,   0.,   0.,   0.,   0.,   0.],\n",
       "       [  0.,   0.,   0.,  19.,   0.,   0.,   0.,   0.,   0.,   0.,   0.,\n",
       "          0.,   0.,   0.,   0.,   0.,   0.,   0.,   0.,   0.,   0.],\n",
       "       [  0.,   0.,   0.,   0.,  25.,   0.,   0.,   0.,   0.,   0.,   0.,\n",
       "          0.,   0.,   0.,   0.,   0.,   0.,   0.,   0.,   0.,   0.],\n",
       "       [  0.,   0.,   0.,   0.,   0.,  31.,   0.,   0.,   0.,   0.,   0.,\n",
       "          0.,   0.,   0.,   0.,   0.,   0.,   0.,   0.,   0.,   0.],\n",
       "       [  0.,   0.,   0.,   0.,   0.,   0.,  37.,   0.,   0.,   0.,   0.,\n",
       "          0.,   0.,   0.,   0.,   0.,   0.,   0.,   0.,   0.,   0.],\n",
       "       [  0.,   0.,   0.,   0.,   0.,   0.,   0.,  43.,   0.,   0.,   0.,\n",
       "          0.,   0.,   0.,   0.,   0.,   0.,   0.,   0.,   0.,   0.],\n",
       "       [  0.,   0.,   0.,   0.,   0.,   0.,   0.,   0.,  49.,   0.,   0.,\n",
       "          0.,   0.,   0.,   0.,   0.,   0.,   0.,   0.,   0.,   0.],\n",
       "       [  0.,   0.,   0.,   0.,   0.,   0.,   0.,   0.,   0.,  55.,   0.,\n",
       "          0.,   0.,   0.,   0.,   0.,   0.,   0.,   0.,   0.,   0.],\n",
       "       [  0.,   0.,   0.,   0.,   0.,   0.,   0.,   0.,   0.,   0.,  61.,\n",
       "          0.,   0.,   0.,   0.,   0.,   0.,   0.,   0.,   0.,   0.],\n",
       "       [  0.,   0.,   0.,   0.,   0.,   0.,   0.,   0.,   0.,   0.,   0.,\n",
       "         67.,   0.,   0.,   0.,   0.,   0.,   0.,   0.,   0.,   0.],\n",
       "       [  0.,   0.,   0.,   0.,   0.,   0.,   0.,   0.,   0.,   0.,   0.,\n",
       "          0.,  73.,   0.,   0.,   0.,   0.,   0.,   0.,   0.,   0.],\n",
       "       [  0.,   0.,   0.,   0.,   0.,   0.,   0.,   0.,   0.,   0.,   0.,\n",
       "          0.,   0.,  79.,   0.,   0.,   0.,   0.,   0.,   0.,   0.],\n",
       "       [  0.,   0.,   0.,   0.,   0.,   0.,   0.,   0.,   0.,   0.,   0.,\n",
       "          0.,   0.,   0.,  85.,   0.,   0.,   0.,   0.,   0.,   0.],\n",
       "       [  0.,   0.,   0.,   0.,   0.,   0.,   0.,   0.,   0.,   0.,   0.,\n",
       "          0.,   0.,   0.,   0.,  91.,   0.,   0.,   0.,   0.,   0.],\n",
       "       [  0.,   0.,   0.,   0.,   0.,   0.,   0.,   0.,   0.,   0.,   0.,\n",
       "          0.,   0.,   0.,   0.,   0.,  97.,   0.,   0.,   0.,   0.],\n",
       "       [  0.,   0.,   0.,   0.,   0.,   0.,   0.,   0.,   0.,   0.,   0.,\n",
       "          0.,   0.,   0.,   0.,   0.,   0., 103.,   0.,   0.,   0.],\n",
       "       [  0.,   0.,   0.,   0.,   0.,   0.,   0.,   0.,   0.,   0.,   0.,\n",
       "          0.,   0.,   0.,   0.,   0.,   0.,   0., 109.,   0.,   0.],\n",
       "       [  0.,   0.,   0.,   0.,   0.,   0.,   0.,   0.,   0.,   0.,   0.,\n",
       "          0.,   0.,   0.,   0.,   0.,   0.,   0.,   0., 115.,   0.],\n",
       "       [  0.,   0.,   0.,   0.,   0.,   0.,   0.,   0.,   0.,   0.,   0.,\n",
       "          0.,   0.,   0.,   0.,   0.,   0.,   0.,   0.,   0., 121.]])"
      ]
     },
     "execution_count": 426,
     "metadata": {},
     "output_type": "execute_result"
    }
   ],
   "source": [
    "np.diag(\n",
    "    np.linspace(1, 121, 21)\n",
    ")"
   ]
  },
  {
   "cell_type": "code",
   "execution_count": 427,
   "metadata": {},
   "outputs": [
    {
     "data": {
      "text/plain": [
       "array([[1., 0., 0., 0., 0.],\n",
       "       [0., 1., 0., 0., 0.],\n",
       "       [0., 0., 1., 0., 0.],\n",
       "       [0., 0., 0., 1., 0.],\n",
       "       [0., 0., 0., 0., 1.]])"
      ]
     },
     "execution_count": 427,
     "metadata": {},
     "output_type": "execute_result"
    }
   ],
   "source": [
    "np.eye(5)"
   ]
  },
  {
   "cell_type": "code",
   "execution_count": 429,
   "metadata": {},
   "outputs": [
    {
     "data": {
      "text/plain": [
       "array([[0., 0., 1., 0., 0.],\n",
       "       [0., 0., 0., 1., 0.],\n",
       "       [0., 0., 0., 0., 1.],\n",
       "       [0., 0., 0., 0., 0.],\n",
       "       [0., 0., 0., 0., 0.]])"
      ]
     },
     "execution_count": 429,
     "metadata": {},
     "output_type": "execute_result"
    }
   ],
   "source": [
    "np.eye(5, k=2)"
   ]
  },
  {
   "cell_type": "code",
   "execution_count": 430,
   "metadata": {},
   "outputs": [
    {
     "data": {
      "text/plain": [
       "array([[0., 0., 0., 0., 0.],\n",
       "       [1., 0., 0., 0., 0.],\n",
       "       [0., 1., 0., 0., 0.],\n",
       "       [0., 0., 1., 0., 0.],\n",
       "       [0., 0., 0., 1., 0.]])"
      ]
     },
     "execution_count": 430,
     "metadata": {},
     "output_type": "execute_result"
    }
   ],
   "source": [
    "np.eye(5, k=-1)"
   ]
  },
  {
   "cell_type": "code",
   "execution_count": 432,
   "metadata": {},
   "outputs": [
    {
     "data": {
      "text/plain": [
       "array([[0., 0., 0., 0., 0., 0., 0., 0., 0., 0.],\n",
       "       [0., 0., 0., 0., 0., 0., 0., 0., 0., 0.],\n",
       "       [1., 0., 0., 0., 0., 0., 0., 0., 0., 0.],\n",
       "       [0., 1., 0., 0., 0., 0., 0., 0., 0., 0.],\n",
       "       [0., 0., 1., 0., 0., 0., 0., 0., 0., 0.],\n",
       "       [0., 0., 0., 1., 0., 0., 0., 0., 0., 0.],\n",
       "       [0., 0., 0., 0., 1., 0., 0., 0., 0., 0.],\n",
       "       [0., 0., 0., 0., 0., 1., 0., 0., 0., 0.],\n",
       "       [0., 0., 0., 0., 0., 0., 1., 0., 0., 0.],\n",
       "       [0., 0., 0., 0., 0., 0., 0., 1., 0., 0.]])"
      ]
     },
     "execution_count": 432,
     "metadata": {},
     "output_type": "execute_result"
    }
   ],
   "source": [
    "z = np.eye(10, k=-2)\n",
    "z"
   ]
  },
  {
   "cell_type": "code",
   "execution_count": 433,
   "metadata": {},
   "outputs": [
    {
     "data": {
      "text/plain": [
       "array([0., 0., 0., 0., 0., 0., 0., 0., 0., 0.])"
      ]
     },
     "execution_count": 433,
     "metadata": {},
     "output_type": "execute_result"
    }
   ],
   "source": [
    "np.diag(z)"
   ]
  },
  {
   "cell_type": "code",
   "execution_count": 435,
   "metadata": {},
   "outputs": [
    {
     "data": {
      "text/plain": [
       "array([1., 1., 1., 1., 1., 1., 1., 1.])"
      ]
     },
     "execution_count": 435,
     "metadata": {},
     "output_type": "execute_result"
    }
   ],
   "source": [
    "np.diag(z, k=-2) # -2 ta az mehvar asli miad paeen va on mehvar ro mide"
   ]
  },
  {
   "cell_type": "code",
   "execution_count": 437,
   "metadata": {},
   "outputs": [
    {
     "data": {
      "text/plain": [
       "<function numpy.random._generator.default_rng>"
      ]
     },
     "execution_count": 437,
     "metadata": {},
     "output_type": "execute_result"
    }
   ],
   "source": [
    "# baraye tozei ha va tozei haye normal ast\n",
    "np.random.default_rng"
   ]
  },
  {
   "cell_type": "code",
   "execution_count": 439,
   "metadata": {},
   "outputs": [
    {
     "data": {
      "text/plain": [
       "Generator(PCG64) at 0x25ECFD2E420"
      ]
     },
     "execution_count": 439,
     "metadata": {},
     "output_type": "execute_result"
    }
   ],
   "source": [
    "rng = np.random.default_rng(10) # 10 is seed\n",
    "rng"
   ]
  },
  {
   "cell_type": "code",
   "execution_count": 440,
   "metadata": {},
   "outputs": [
    {
     "data": {
      "text/plain": [
       "array([[0.95600171, 0.20768181, 0.82844489],\n",
       "       [0.14928212, 0.51280462, 0.1359196 ],\n",
       "       [0.68903648, 0.84174772, 0.425509  ]])"
      ]
     },
     "execution_count": 440,
     "metadata": {},
     "output_type": "execute_result"
    }
   ],
   "source": [
    "rng.random((3, 3))"
   ]
  },
  {
   "cell_type": "code",
   "execution_count": 441,
   "metadata": {},
   "outputs": [
    {
     "data": {
      "text/plain": [
       "array([[0.956926  , 0.82533291, 0.33821531],\n",
       "       [0.57576055, 0.75330186, 0.82710394],\n",
       "       [0.93343847, 0.14499469, 0.74558021]])"
      ]
     },
     "execution_count": 441,
     "metadata": {},
     "output_type": "execute_result"
    }
   ],
   "source": [
    "rng.random((3, 3))"
   ]
  },
  {
   "cell_type": "code",
   "execution_count": 443,
   "metadata": {},
   "outputs": [
    {
     "data": {
      "text/plain": [
       "array([ 0.98371534,  0.63004195, -0.23805881, -1.84493988,  0.16957773,\n",
       "       -0.17597776,  0.07679986,  1.54230411,  0.18368354,  0.27633381])"
      ]
     },
     "execution_count": 443,
     "metadata": {},
     "output_type": "execute_result"
    }
   ],
   "source": [
    "rng.standard_normal(10) # standard normal distrbution function"
   ]
  },
  {
   "cell_type": "code",
   "execution_count": 446,
   "metadata": {},
   "outputs": [
    {
     "data": {
      "text/plain": [
       "0.8732887675273913"
      ]
     },
     "execution_count": 446,
     "metadata": {},
     "output_type": "execute_result"
    }
   ],
   "source": [
    "rng = np.random.default_rng(4324324) # 4324324 is a random seed\n",
    "rng.random() # same result every time"
   ]
  },
  {
   "cell_type": "code",
   "execution_count": 448,
   "metadata": {},
   "outputs": [
    {
     "data": {
      "text/plain": [
       "array([[0.87328877, 0.29749028, 0.25742013],\n",
       "       [0.57373864, 0.45186259, 0.29384607],\n",
       "       [0.01654053, 0.57913417, 0.52848958]])"
      ]
     },
     "execution_count": 448,
     "metadata": {},
     "output_type": "execute_result"
    }
   ],
   "source": [
    "rng = np.random.default_rng(4324324) # 4324324 is a random seed\n",
    "rng.random((3, 3)) # same result every time"
   ]
  },
  {
   "cell_type": "code",
   "execution_count": 449,
   "metadata": {},
   "outputs": [
    {
     "data": {
      "text/plain": [
       "array([['pythontopia', 'pythontopia', 'pythontopia', 'pythontopia'],\n",
       "       ['pythontopia', 'pythontopia', 'pythontopia', 'pythontopia'],\n",
       "       ['pythontopia', 'pythontopia', 'pythontopia', 'pythontopia']],\n",
       "      dtype='<U11')"
      ]
     },
     "execution_count": 449,
     "metadata": {},
     "output_type": "execute_result"
    }
   ],
   "source": [
    "np.full((3, 4), 'pythontopia')"
   ]
  },
  {
   "cell_type": "code",
   "execution_count": 452,
   "metadata": {},
   "outputs": [
    {
     "data": {
      "text/plain": [
       "array([[0., 0., 0., 0.],\n",
       "       [0., 0., 0., 0.],\n",
       "       [0., 0., 0., 0.]])"
      ]
     },
     "execution_count": 452,
     "metadata": {},
     "output_type": "execute_result"
    }
   ],
   "source": [
    "np.empty((3, 4))"
   ]
  },
  {
   "cell_type": "code",
   "execution_count": 453,
   "metadata": {},
   "outputs": [
    {
     "data": {
      "text/plain": [
       "inf"
      ]
     },
     "execution_count": 453,
     "metadata": {},
     "output_type": "execute_result"
    }
   ],
   "source": [
    "np.Inf"
   ]
  },
  {
   "cell_type": "code",
   "execution_count": 454,
   "metadata": {},
   "outputs": [
    {
     "data": {
      "text/plain": [
       "inf"
      ]
     },
     "execution_count": 454,
     "metadata": {},
     "output_type": "execute_result"
    }
   ],
   "source": [
    "np.inf"
   ]
  },
  {
   "cell_type": "code",
   "execution_count": 455,
   "metadata": {},
   "outputs": [
    {
     "data": {
      "text/plain": [
       "-inf"
      ]
     },
     "execution_count": 455,
     "metadata": {},
     "output_type": "execute_result"
    }
   ],
   "source": [
    "-np.inf"
   ]
  },
  {
   "cell_type": "code",
   "execution_count": 456,
   "metadata": {},
   "outputs": [
    {
     "data": {
      "text/plain": [
       "nan"
      ]
     },
     "execution_count": 456,
     "metadata": {},
     "output_type": "execute_result"
    }
   ],
   "source": [
    "np.nan"
   ]
  },
  {
   "cell_type": "code",
   "execution_count": 457,
   "metadata": {},
   "outputs": [
    {
     "data": {
      "text/plain": [
       "array([[-inf,  nan,  inf],\n",
       "       [-inf,  nan,  inf],\n",
       "       [-inf,  nan,  inf]])"
      ]
     },
     "execution_count": 457,
     "metadata": {},
     "output_type": "execute_result"
    }
   ],
   "source": [
    "np.full((3, 3), [-np.inf, np.nan, np.inf])"
   ]
  },
  {
   "cell_type": "code",
   "execution_count": 458,
   "metadata": {},
   "outputs": [
    {
     "data": {
      "text/plain": [
       "numpy.ndarray"
      ]
     },
     "execution_count": 458,
     "metadata": {},
     "output_type": "execute_result"
    }
   ],
   "source": [
    "type(np.array([1, 2, 3]))"
   ]
  },
  {
   "cell_type": "code",
   "execution_count": 459,
   "metadata": {},
   "outputs": [
    {
     "data": {
      "text/plain": [
       "numpy.int32"
      ]
     },
     "execution_count": 459,
     "metadata": {},
     "output_type": "execute_result"
    }
   ],
   "source": [
    "type(np.array([1, 2, 3])[0])"
   ]
  },
  {
   "cell_type": "code",
   "execution_count": 1,
   "metadata": {},
   "outputs": [],
   "source": [
    "# File I/O"
   ]
  },
  {
   "cell_type": "code",
   "execution_count": 3,
   "metadata": {},
   "outputs": [
    {
     "data": {
      "text/plain": [
       "numpy.timedelta64"
      ]
     },
     "execution_count": 3,
     "metadata": {},
     "output_type": "execute_result"
    }
   ],
   "source": [
    "import numpy as np\n",
    "np.timedelta64 # baraye timedelta va ekhtelafe zamani, timezone na ha!"
   ]
  },
  {
   "cell_type": "code",
   "execution_count": 6,
   "metadata": {},
   "outputs": [
    {
     "data": {
      "text/plain": [
       "array([102, 227, 316, 203, 165, 305, 194, 347, 164, 343, 330,  59, 298,\n",
       "       303,  51,  83, 246, 189,  84, 154, 293, 216, 349, 253, 151, 340,\n",
       "        51, 198, 296,  27, 330, 225, 286, 254, 152,  92,  66,  74,  68,\n",
       "       230, 239, 187,  79, 289, 173, 284, 217, 350, 341,  35, 168, 316,\n",
       "        35,  36, 183, 334, 288, 189, 142, 283, 356, 108, 216, 207,  74,\n",
       "        68, 318, 170,  33,  16, 145, 109, 174,   6, 236, 189, 330, 226,\n",
       "        58,  73,  81, 119,  18, 326, 112,  79, 158,  56, 234, 103, 129,\n",
       "       180, 142, 263, 127, 211,  71, 328, 333,  67, 289, 294,  75, 280,\n",
       "       243, 286, 363,  24, 178, 139, 160,  21,  85, 363,  41, 246,  42,\n",
       "        15, 120,  66, 267, 119, 348, 309, 109,  70, 278, 333, 252, 323,\n",
       "        16,  92, 321, 352,  56, 183, 357,  58, 343, 155,  34,  38,  14,\n",
       "       200,  69, 102, 271, 294, 168, 169,  89,  72, 341, 279, 151, 101,\n",
       "       295, 203, 363, 103,  25, 119,   6, 180, 358, 212, 301, 203,  89,\n",
       "        74,  91,   0, 333,  60, 202,  39, 326, 302, 307, 252,  92, 280,\n",
       "       101,   3, 252, 120, 358, 181, 151, 153,  95, 106, 288, 193,  38,\n",
       "       260, 161, 223, 314, 353,  82, 125, 233,  64, 234, 274, 208,  59,\n",
       "       352, 152, 197, 136, 297,  70,  58, 122, 246, 292, 268, 311,  33,\n",
       "       258, 194,   5, 159, 334, 103, 228,   5, 323,  72, 251, 342, 173,\n",
       "       233,  10, 216, 300,  75, 224, 273,  96, 349, 348, 143, 122, 138,\n",
       "       136, 204, 310,  85, 209,  59,  26, 263, 221,  55, 311, 354, 141,\n",
       "        82, 225, 242,  27,  65, 335, 294, 174, 334, 358, 313, 362, 330,\n",
       "       213, 144,  40, 191,  46, 282, 285, 222, 274, 104, 329, 285, 160,\n",
       "       197, 190, 106, 330,  15, 141,  30, 330, 190,  46,  93,  68, 243,\n",
       "       224, 254, 160, 151,  18, 253, 281,  97, 125, 290, 101, 257, 117,\n",
       "       182, 307, 211, 175, 248, 257, 354,  27, 161, 204, 275, 333,  86,\n",
       "       335, 290, 238, 205,  71, 319,  71, 304, 149, 121, 202,  28, 114,\n",
       "       202,  70, 108, 244, 180, 134, 252,  45,  30,  20,  50, 219,  89,\n",
       "        16,  68,  49, 323, 261,  35, 304, 156,  66,   9,  98,   6, 281,\n",
       "        20, 171, 101, 329, 308,   7,  52, 187, 179, 270,  32,   3,  62,\n",
       "       238, 298,  90, 108, 285, 296,  30,  14, 334, 114, 196, 314, 258,\n",
       "       280, 279,  92, 273, 296, 262, 139, 129, 129, 206,  38, 164,  32,\n",
       "        94, 276,  95,  62, 166, 277, 339, 329, 299,  33, 235, 280, 315,\n",
       "        73, 152, 321,  95,  37,  33, 155, 293, 350, 361, 289,  76, 327,\n",
       "       104, 188, 313, 344, 107,  26,  91,  96, 154,   1, 152, 252, 209,\n",
       "       109, 118, 219, 207,  40, 164, 345, 357, 177, 112, 114,  18, 128,\n",
       "       267, 289,  94, 107, 138,  30, 321,  88, 171,  87,  77,  86, 105,\n",
       "        23, 353,  36, 358,  39, 146, 316,  18, 334,  75, 339,  27, 246,\n",
       "        73, 348,   9, 193, 135, 100, 212, 167, 166,  92, 344, 202, 101,\n",
       "       118, 286, 195,  40, 305, 128, 184, 257, 111,  72, 299, 208, 125,\n",
       "       283,  93,  16,  49, 293,  70, 123, 188, 103, 308,  63,  22, 237,\n",
       "        24, 122, 110, 116, 272, 311, 110,  63, 239, 153, 348, 300,  59,\n",
       "       103, 343, 135, 247, 308,  84,  67, 327, 340, 277,  35,  13,  80,\n",
       "       179,  17,   3,  69, 271, 100, 232,  97,  89, 182, 173, 232, 249,\n",
       "       172,  49, 279, 127, 130, 146, 255,  86, 291, 140, 154, 282,  22,\n",
       "       101, 266, 216, 200,  10, 261, 282, 356, 210, 173, 294,  48,  91,\n",
       "       264,   5, 306,  48,  82,  38, 186, 246, 247, 359, 292, 163,  33,\n",
       "       286, 107, 295,  33, 107, 267, 139, 250, 360, 279,  41, 163, 168,\n",
       "       134,  10,  54, 324, 151,  56, 162,  99, 142, 230,  32,  69, 260,\n",
       "       159, 231, 278, 240, 260,  23, 309, 205, 230, 100, 264, 264, 308,\n",
       "        90,  55,  94, 112, 136, 254, 299, 312, 273,  54, 246,  60, 165,\n",
       "       222, 262,  65, 165,  61, 322, 254,  50, 185, 255, 322,  14, 101,\n",
       "       343, 338, 269, 362, 312, 104, 290,  48, 189, 356, 207, 104,  15,\n",
       "       166, 105, 107,  60, 244, 164,  12, 244, 192, 219,  31, 157, 340,\n",
       "       214, 233, 184, 213, 245, 231,  14, 106, 251, 237, 242, 253,  64,\n",
       "       180, 123, 286, 345, 354, 161, 105, 176,  18, 239, 167, 335, 317,\n",
       "         5, 348, 109,  49,  91, 335, 187,  34,  75, 330, 268, 327,  42,\n",
       "       298,  36, 191, 221,  44, 139, 311, 209, 168, 307, 134, 167,   2,\n",
       "        23,  83, 250, 152, 256, 301, 319, 137, 115, 301, 349, 288, 216,\n",
       "       364,  53, 137, 297, 316, 169, 240, 214,  64,  70, 355, 167, 316,\n",
       "        39, 273, 177, 244,   4,  97, 158, 282, 252, 329, 351,  34,  93,\n",
       "       334, 174, 274, 186,  87, 239,  51, 113, 320, 133,  71, 336, 120,\n",
       "       137,  46, 356, 148, 109,  52, 337, 168, 298, 219, 312, 269,  52,\n",
       "       216, 268,  36,  98, 273, 312, 305, 222, 202, 342, 248, 131, 297,\n",
       "       272, 121,  47, 129, 343, 351, 124,  31,   8,  88, 266,  82, 191,\n",
       "       309, 143, 308, 227, 175,  92, 186, 332, 201,  33, 282, 110, 358,\n",
       "        95, 331, 302, 297, 238, 131,  97, 182,  91, 166,   1, 233, 149,\n",
       "       131, 343, 188, 122,  37, 320, 129, 345, 206,   2, 330, 291, 362,\n",
       "       207,  66, 108, 179, 342, 170, 346, 199, 139, 114, 136, 328, 351,\n",
       "       253,  76, 246,  34, 231, 191, 198, 349, 201, 271,  92,  33,   1,\n",
       "       364, 264, 138,  77, 120,   2, 196, 344,  66,  86,  36, 290,   4,\n",
       "        46, 320, 143, 221, 220, 313,  75, 231, 225, 151, 178, 189, 191,\n",
       "       303,  19, 304, 161, 103,  62, 186, 183,  64, 252, 122, 243, 323,\n",
       "       251,  43, 182,  73, 268, 185,  75, 328,  66, 238, 223, 114, 308,\n",
       "        72,  71, 213, 269, 103, 357, 354, 298,  39, 318, 258,  42, 186,\n",
       "       282, 204, 266,  83, 108, 314,  65, 209, 172,  81, 345, 125, 125,\n",
       "        56, 342, 112, 299,  90, 266, 329, 235, 278, 171,  18,  91, 254,\n",
       "       212, 358, 290,  25, 175, 238,  88, 264, 254, 182,  90,  94])"
      ]
     },
     "execution_count": 6,
     "metadata": {},
     "output_type": "execute_result"
    }
   ],
   "source": [
    "np.random.randint(0, 365, 1000)"
   ]
  },
  {
   "cell_type": "code",
   "execution_count": 9,
   "metadata": {},
   "outputs": [
    {
     "data": {
      "text/plain": [
       "array([  0,   1,   2,   3,   4,   5,   6,   7,   8,   9,  10,  11,  12,\n",
       "        13,  14,  15,  16,  17,  18,  19,  20,  21,  22,  23,  24,  25,\n",
       "        26,  27,  28,  29,  30,  31,  32,  33,  34,  35,  36,  37,  38,\n",
       "        39,  40,  41,  42,  43,  44,  45,  46,  47,  48,  49,  50,  51,\n",
       "        52,  53,  54,  55,  56,  57,  58,  59,  60,  61,  62,  63,  64,\n",
       "        65,  66,  67,  68,  69,  70,  71,  72,  73,  74,  75,  76,  77,\n",
       "        78,  79,  80,  81,  82,  83,  84,  85,  86,  87,  88,  89,  90,\n",
       "        91,  92,  93,  94,  95,  96,  97,  98,  99, 100, 101, 102, 103,\n",
       "       104, 105, 106, 107, 108, 109, 110, 111, 112, 113, 114, 115, 116,\n",
       "       117, 118, 119, 120, 121, 122, 123, 124, 125, 126, 127, 128, 129,\n",
       "       130, 131, 132, 133, 134, 135, 136, 137, 138, 139, 140, 141, 142,\n",
       "       143, 144, 145, 146, 147, 148, 149, 150, 151, 152, 153, 154, 155,\n",
       "       156, 157, 158, 159, 160, 161, 162, 163, 164, 165, 166, 167, 168,\n",
       "       169, 170, 171, 172, 173, 174, 175, 176, 177, 178, 179, 180, 181,\n",
       "       182, 183, 184, 185, 186, 187, 188, 189, 190, 191, 192, 193, 194,\n",
       "       195, 196, 197, 198, 199, 200, 201, 202, 203, 204, 205, 206, 207,\n",
       "       208, 209, 210, 211, 212, 213, 214, 215, 216, 217, 218, 219, 220,\n",
       "       221, 222, 223, 224, 225, 226, 227, 228, 229, 230, 231, 232, 233,\n",
       "       234, 235, 236, 237, 238, 239, 240, 241, 242, 243, 244, 245, 246,\n",
       "       247, 248, 249, 250, 251, 252, 253, 254, 255, 256, 257, 258, 259,\n",
       "       260, 261, 262, 263, 264, 265, 266, 267, 268, 269, 270, 271, 272,\n",
       "       273, 274, 275, 276, 277, 278, 279, 280, 281, 282, 283, 284, 285,\n",
       "       286, 287, 288, 289, 290, 291, 292, 293, 294, 295, 296, 297, 298,\n",
       "       299, 300, 301, 302, 303, 304, 305, 306, 307, 308, 309, 310, 311,\n",
       "       312, 313, 314, 315, 316, 317, 318, 319, 320, 321, 322, 323, 324,\n",
       "       325, 326, 327, 328, 329, 330, 331, 332, 333, 334, 335, 336, 337,\n",
       "       338, 339, 340, 341, 342, 343, 344, 345, 346, 347, 348, 349, 350,\n",
       "       351, 352, 353, 354, 355, 356, 357, 358, 359, 360, 361, 362, 363,\n",
       "       364], dtype='timedelta64[D]')"
      ]
     },
     "execution_count": 9,
     "metadata": {},
     "output_type": "execute_result"
    }
   ],
   "source": [
    "days = np.arange(0, 365) * np.timedelta64(1, 'D')\n",
    "days"
   ]
  },
  {
   "cell_type": "code",
   "execution_count": 15,
   "metadata": {},
   "outputs": [],
   "source": [
    "date_ = np.datetime64('2023-01-01') + days"
   ]
  },
  {
   "cell_type": "code",
   "execution_count": 11,
   "metadata": {},
   "outputs": [
    {
     "data": {
      "text/plain": [
       "numpy.recarray"
      ]
     },
     "execution_count": 11,
     "metadata": {},
     "output_type": "execute_result"
    }
   ],
   "source": [
    "np.recarray"
   ]
  },
  {
   "cell_type": "code",
   "execution_count": 13,
   "metadata": {},
   "outputs": [],
   "source": [
    "id_ = np.arange(1, 366)"
   ]
  },
  {
   "cell_type": "code",
   "execution_count": 16,
   "metadata": {},
   "outputs": [],
   "source": [
    "value_ = np.random.randint(1, 9119, 365)"
   ]
  },
  {
   "cell_type": "code",
   "execution_count": 21,
   "metadata": {},
   "outputs": [
    {
     "data": {
      "text/plain": [
       "array([(  1, 6721., '2023-01-01'), (  2, 7290., '2023-01-02'),\n",
       "       (  3, 5553., '2023-01-03'), (  4, 6987., '2023-01-04'),\n",
       "       (  5, 2025., '2023-01-05'), (  6, 7893., '2023-01-06'),\n",
       "       (  7, 1907., '2023-01-07'), (  8,  647., '2023-01-08'),\n",
       "       (  9,   35., '2023-01-09'), ( 10, 1589., '2023-01-10'),\n",
       "       ( 11, 3421., '2023-01-11'), ( 12, 6451., '2023-01-12'),\n",
       "       ( 13, 1440., '2023-01-13'), ( 14,  879., '2023-01-14'),\n",
       "       ( 15, 3475., '2023-01-15'), ( 16, 3203., '2023-01-16'),\n",
       "       ( 17, 5864., '2023-01-17'), ( 18, 3115., '2023-01-18'),\n",
       "       ( 19,  808., '2023-01-19'), ( 20, 2958., '2023-01-20'),\n",
       "       ( 21, 2422., '2023-01-21'), ( 22, 1813., '2023-01-22'),\n",
       "       ( 23,  784., '2023-01-23'), ( 24,  401., '2023-01-24'),\n",
       "       ( 25, 1955., '2023-01-25'), ( 26, 2702., '2023-01-26'),\n",
       "       ( 27, 1361., '2023-01-27'), ( 28, 8280., '2023-01-28'),\n",
       "       ( 29, 5444., '2023-01-29'), ( 30,  436., '2023-01-30'),\n",
       "       ( 31,  467., '2023-01-31'), ( 32, 1911., '2023-02-01'),\n",
       "       ( 33, 3226., '2023-02-02'), ( 34, 4184., '2023-02-03'),\n",
       "       ( 35, 5155., '2023-02-04'), ( 36,  602., '2023-02-05'),\n",
       "       ( 37, 8814., '2023-02-06'), ( 38,  640., '2023-02-07'),\n",
       "       ( 39, 7994., '2023-02-08'), ( 40, 3710., '2023-02-09'),\n",
       "       ( 41, 4340., '2023-02-10'), ( 42, 7008., '2023-02-11'),\n",
       "       ( 43, 8192., '2023-02-12'), ( 44, 3409., '2023-02-13'),\n",
       "       ( 45,  259., '2023-02-14'), ( 46, 1125., '2023-02-15'),\n",
       "       ( 47, 7806., '2023-02-16'), ( 48, 4590., '2023-02-17'),\n",
       "       ( 49, 5418., '2023-02-18'), ( 50, 8049., '2023-02-19'),\n",
       "       ( 51, 1891., '2023-02-20'), ( 52, 5373., '2023-02-21'),\n",
       "       ( 53,  435., '2023-02-22'), ( 54, 8311., '2023-02-23'),\n",
       "       ( 55, 6554., '2023-02-24'), ( 56, 8313., '2023-02-25'),\n",
       "       ( 57, 7835., '2023-02-26'), ( 58, 2727., '2023-02-27'),\n",
       "       ( 59, 8133., '2023-02-28'), ( 60, 6543., '2023-03-01'),\n",
       "       ( 61, 5370., '2023-03-02'), ( 62, 8246., '2023-03-03'),\n",
       "       ( 63, 1642., '2023-03-04'), ( 64,  680., '2023-03-05'),\n",
       "       ( 65, 8181., '2023-03-06'), ( 66, 3089., '2023-03-07'),\n",
       "       ( 67, 2213., '2023-03-08'), ( 68, 6271., '2023-03-09'),\n",
       "       ( 69, 4890., '2023-03-10'), ( 70, 1025., '2023-03-11'),\n",
       "       ( 71, 4021., '2023-03-12'), ( 72, 5096., '2023-03-13'),\n",
       "       ( 73, 3419., '2023-03-14'), ( 74, 6412., '2023-03-15'),\n",
       "       ( 75, 2564., '2023-03-16'), ( 76, 6241., '2023-03-17'),\n",
       "       ( 77, 4394., '2023-03-18'), ( 78, 6998., '2023-03-19'),\n",
       "       ( 79, 9111., '2023-03-20'), ( 80, 3670., '2023-03-21'),\n",
       "       ( 81, 8000., '2023-03-22'), ( 82, 4710., '2023-03-23'),\n",
       "       ( 83, 8413., '2023-03-24'), ( 84, 4597., '2023-03-25'),\n",
       "       ( 85, 8419., '2023-03-26'), ( 86, 2572., '2023-03-27'),\n",
       "       ( 87, 1244., '2023-03-28'), ( 88,  311., '2023-03-29'),\n",
       "       ( 89, 4917., '2023-03-30'), ( 90, 3292., '2023-03-31'),\n",
       "       ( 91, 7518., '2023-04-01'), ( 92, 3045., '2023-04-02'),\n",
       "       ( 93, 6719., '2023-04-03'), ( 94,  923., '2023-04-04'),\n",
       "       ( 95, 3369., '2023-04-05'), ( 96, 2896., '2023-04-06'),\n",
       "       ( 97,  314., '2023-04-07'), ( 98, 6783., '2023-04-08'),\n",
       "       ( 99, 7318., '2023-04-09'), (100, 5732., '2023-04-10'),\n",
       "       (101,  345., '2023-04-11'), (102, 5053., '2023-04-12'),\n",
       "       (103, 4928., '2023-04-13'), (104, 2695., '2023-04-14'),\n",
       "       (105, 2107., '2023-04-15'), (106, 1860., '2023-04-16'),\n",
       "       (107, 8618., '2023-04-17'), (108, 5299., '2023-04-18'),\n",
       "       (109, 2265., '2023-04-19'), (110, 9108., '2023-04-20'),\n",
       "       (111, 5826., '2023-04-21'), (112, 4985., '2023-04-22'),\n",
       "       (113, 4247., '2023-04-23'), (114, 5467., '2023-04-24'),\n",
       "       (115, 1537., '2023-04-25'), (116, 1687., '2023-04-26'),\n",
       "       (117, 1431., '2023-04-27'), (118,  290., '2023-04-28'),\n",
       "       (119, 3980., '2023-04-29'), (120, 7284., '2023-04-30'),\n",
       "       (121, 7309., '2023-05-01'), (122, 8940., '2023-05-02'),\n",
       "       (123,   60., '2023-05-03'), (124, 6594., '2023-05-04'),\n",
       "       (125, 1291., '2023-05-05'), (126,  881., '2023-05-06'),\n",
       "       (127, 4002., '2023-05-07'), (128, 6068., '2023-05-08'),\n",
       "       (129, 1591., '2023-05-09'), (130, 3047., '2023-05-10'),\n",
       "       (131, 4879., '2023-05-11'), (132, 1824., '2023-05-12'),\n",
       "       (133, 7045., '2023-05-13'), (134, 1447., '2023-05-14'),\n",
       "       (135, 2848., '2023-05-15'), (136, 3274., '2023-05-16'),\n",
       "       (137, 4954., '2023-05-17'), (138, 8589., '2023-05-18'),\n",
       "       (139, 3348., '2023-05-19'), (140, 7047., '2023-05-20'),\n",
       "       (141, 4742., '2023-05-21'), (142, 3563., '2023-05-22'),\n",
       "       (143, 4909., '2023-05-23'), (144, 7935., '2023-05-24'),\n",
       "       (145, 3869., '2023-05-25'), (146, 8634., '2023-05-26'),\n",
       "       (147, 1292., '2023-05-27'), (148, 2370., '2023-05-28'),\n",
       "       (149, 1539., '2023-05-29'), (150, 5191., '2023-05-30'),\n",
       "       (151, 6911., '2023-05-31'), (152, 7782., '2023-06-01'),\n",
       "       (153, 3763., '2023-06-02'), (154, 6024., '2023-06-03'),\n",
       "       (155, 6457., '2023-06-04'), (156, 1619., '2023-06-05'),\n",
       "       (157, 6975., '2023-06-06'), (158, 7602., '2023-06-07'),\n",
       "       (159, 8829., '2023-06-08'), (160,   39., '2023-06-09'),\n",
       "       (161, 3103., '2023-06-10'), (162, 3666., '2023-06-11'),\n",
       "       (163, 3054., '2023-06-12'), (164, 5820., '2023-06-13'),\n",
       "       (165, 8660., '2023-06-14'), (166, 6613., '2023-06-15'),\n",
       "       (167,  445., '2023-06-16'), (168, 1118., '2023-06-17'),\n",
       "       (169, 2308., '2023-06-18'), (170, 7713., '2023-06-19'),\n",
       "       (171, 1191., '2023-06-20'), (172, 6308., '2023-06-21'),\n",
       "       (173, 1877., '2023-06-22'), (174,  760., '2023-06-23'),\n",
       "       (175, 5343., '2023-06-24'), (176, 8535., '2023-06-25'),\n",
       "       (177,  990., '2023-06-26'), (178, 8728., '2023-06-27'),\n",
       "       (179, 3883., '2023-06-28'), (180, 3972., '2023-06-29'),\n",
       "       (181, 7380., '2023-06-30'), (182, 6874., '2023-07-01'),\n",
       "       (183, 1074., '2023-07-02'), (184, 5099., '2023-07-03'),\n",
       "       (185, 3591., '2023-07-04'), (186, 8934., '2023-07-05'),\n",
       "       (187, 1681., '2023-07-06'), (188, 3744., '2023-07-07'),\n",
       "       (189, 8797., '2023-07-08'), (190,  815., '2023-07-09'),\n",
       "       (191, 3308., '2023-07-10'), (192, 7087., '2023-07-11'),\n",
       "       (193,  761., '2023-07-12'), (194, 5324., '2023-07-13'),\n",
       "       (195, 6126., '2023-07-14'), (196, 3893., '2023-07-15'),\n",
       "       (197, 2402., '2023-07-16'), (198, 6579., '2023-07-17'),\n",
       "       (199, 7108., '2023-07-18'), (200, 7080., '2023-07-19'),\n",
       "       (201, 1825., '2023-07-20'), (202, 4229., '2023-07-21'),\n",
       "       (203,  611., '2023-07-22'), (204, 5285., '2023-07-23'),\n",
       "       (205, 3887., '2023-07-24'), (206, 7411., '2023-07-25'),\n",
       "       (207, 3642., '2023-07-26'), (208, 1350., '2023-07-27'),\n",
       "       (209, 7030., '2023-07-28'), (210, 4744., '2023-07-29'),\n",
       "       (211, 8764., '2023-07-30'), (212,  807., '2023-07-31'),\n",
       "       (213, 6888., '2023-08-01'), (214, 5176., '2023-08-02'),\n",
       "       (215, 1955., '2023-08-03'), (216, 1884., '2023-08-04'),\n",
       "       (217, 5502., '2023-08-05'), (218, 8096., '2023-08-06'),\n",
       "       (219, 8529., '2023-08-07'), (220, 6168., '2023-08-08'),\n",
       "       (221, 4144., '2023-08-09'), (222, 6234., '2023-08-10'),\n",
       "       (223, 6628., '2023-08-11'), (224, 3551., '2023-08-12'),\n",
       "       (225, 4891., '2023-08-13'), (226,  879., '2023-08-14'),\n",
       "       (227, 6758., '2023-08-15'), (228, 6329., '2023-08-16'),\n",
       "       (229, 6929., '2023-08-17'), (230, 4166., '2023-08-18'),\n",
       "       (231, 7410., '2023-08-19'), (232, 8862., '2023-08-20'),\n",
       "       (233, 8864., '2023-08-21'), (234, 7105., '2023-08-22'),\n",
       "       (235, 8312., '2023-08-23'), (236,  186., '2023-08-24'),\n",
       "       (237, 6321., '2023-08-25'), (238, 7634., '2023-08-26'),\n",
       "       (239, 8230., '2023-08-27'), (240, 1243., '2023-08-28'),\n",
       "       (241, 4097., '2023-08-29'), (242, 5412., '2023-08-30'),\n",
       "       (243, 1350., '2023-08-31'), (244, 6625., '2023-09-01'),\n",
       "       (245, 6523., '2023-09-02'), (246, 1560., '2023-09-03'),\n",
       "       (247, 4786., '2023-09-04'), (248, 4251., '2023-09-05'),\n",
       "       (249, 3860., '2023-09-06'), (250, 9083., '2023-09-07'),\n",
       "       (251, 2073., '2023-09-08'), (252,  142., '2023-09-09'),\n",
       "       (253, 4081., '2023-09-10'), (254, 7356., '2023-09-11'),\n",
       "       (255, 8113., '2023-09-12'), (256, 4795., '2023-09-13'),\n",
       "       (257, 5599., '2023-09-14'), (258, 2304., '2023-09-15'),\n",
       "       (259,  408., '2023-09-16'), (260, 5403., '2023-09-17'),\n",
       "       (261, 4493., '2023-09-18'), (262, 8733., '2023-09-19'),\n",
       "       (263,   11., '2023-09-20'), (264, 8412., '2023-09-21'),\n",
       "       (265, 5794., '2023-09-22'), (266, 4013., '2023-09-23'),\n",
       "       (267, 1055., '2023-09-24'), (268, 6373., '2023-09-25'),\n",
       "       (269, 1027., '2023-09-26'), (270, 2482., '2023-09-27'),\n",
       "       (271,  428., '2023-09-28'), (272, 5941., '2023-09-29'),\n",
       "       (273, 4281., '2023-09-30'), (274, 1194., '2023-10-01'),\n",
       "       (275, 4789., '2023-10-02'), (276,  491., '2023-10-03'),\n",
       "       (277, 3183., '2023-10-04'), (278, 4770., '2023-10-05'),\n",
       "       (279, 4186., '2023-10-06'), (280, 1186., '2023-10-07'),\n",
       "       (281, 7613., '2023-10-08'), (282, 7203., '2023-10-09'),\n",
       "       (283, 3789., '2023-10-10'), (284, 8111., '2023-10-11'),\n",
       "       (285, 6817., '2023-10-12'), (286, 7689., '2023-10-13'),\n",
       "       (287, 3124., '2023-10-14'), (288, 7334., '2023-10-15'),\n",
       "       (289, 4559., '2023-10-16'), (290, 1768., '2023-10-17'),\n",
       "       (291, 1165., '2023-10-18'), (292,  212., '2023-10-19'),\n",
       "       (293,  709., '2023-10-20'), (294, 6834., '2023-10-21'),\n",
       "       (295, 7451., '2023-10-22'), (296, 4623., '2023-10-23'),\n",
       "       (297, 3134., '2023-10-24'), (298, 5142., '2023-10-25'),\n",
       "       (299, 3112., '2023-10-26'), (300, 6373., '2023-10-27'),\n",
       "       (301, 3063., '2023-10-28'), (302, 3194., '2023-10-29'),\n",
       "       (303,  738., '2023-10-30'), (304, 8038., '2023-10-31'),\n",
       "       (305, 4978., '2023-11-01'), (306, 6128., '2023-11-02'),\n",
       "       (307, 2633., '2023-11-03'), (308, 9068., '2023-11-04'),\n",
       "       (309,  178., '2023-11-05'), (310, 4977., '2023-11-06'),\n",
       "       (311, 4903., '2023-11-07'), (312,  707., '2023-11-08'),\n",
       "       (313, 8191., '2023-11-09'), (314, 6488., '2023-11-10'),\n",
       "       (315, 7345., '2023-11-11'), (316, 4923., '2023-11-12'),\n",
       "       (317, 1743., '2023-11-13'), (318, 4015., '2023-11-14'),\n",
       "       (319, 5214., '2023-11-15'), (320, 5826., '2023-11-16'),\n",
       "       (321, 3095., '2023-11-17'), (322,  517., '2023-11-18'),\n",
       "       (323, 2705., '2023-11-19'), (324, 7841., '2023-11-20'),\n",
       "       (325, 8444., '2023-11-21'), (326, 5823., '2023-11-22'),\n",
       "       (327, 7767., '2023-11-23'), (328, 8575., '2023-11-24'),\n",
       "       (329,  363., '2023-11-25'), (330, 5489., '2023-11-26'),\n",
       "       (331, 2847., '2023-11-27'), (332, 5974., '2023-11-28'),\n",
       "       (333, 6046., '2023-11-29'), (334, 4808., '2023-11-30'),\n",
       "       (335,  125., '2023-12-01'), (336, 2187., '2023-12-02'),\n",
       "       (337, 7316., '2023-12-03'), (338, 1632., '2023-12-04'),\n",
       "       (339, 4727., '2023-12-05'), (340, 2510., '2023-12-06'),\n",
       "       (341, 3277., '2023-12-07'), (342, 1939., '2023-12-08'),\n",
       "       (343, 6630., '2023-12-09'), (344, 6864., '2023-12-10'),\n",
       "       (345, 4477., '2023-12-11'), (346, 2739., '2023-12-12'),\n",
       "       (347, 1537., '2023-12-13'), (348, 1924., '2023-12-14'),\n",
       "       (349, 1066., '2023-12-15'), (350, 1126., '2023-12-16'),\n",
       "       (351, 4612., '2023-12-17'), (352, 2811., '2023-12-18'),\n",
       "       (353, 2814., '2023-12-19'), (354, 7269., '2023-12-20'),\n",
       "       (355, 1141., '2023-12-21'), (356, 2151., '2023-12-22'),\n",
       "       (357,  150., '2023-12-23'), (358, 1654., '2023-12-24'),\n",
       "       (359, 1831., '2023-12-25'), (360, 1078., '2023-12-26'),\n",
       "       (361, 7797., '2023-12-27'), (362, 6883., '2023-12-28'),\n",
       "       (363, 3952., '2023-12-29'), (364, 5055., '2023-12-30'),\n",
       "       (365, 2716., '2023-12-31')],\n",
       "      dtype=[('id', '<i4'), ('value', '<f4'), ('date', '<U20')])"
      ]
     },
     "execution_count": 21,
     "metadata": {},
     "output_type": "execute_result"
    }
   ],
   "source": [
    "structured_array = np.array(\n",
    "    list(zip(id_, value_, date_)),\n",
    "    dtype=[\n",
    "        ('id', 'i4'),\n",
    "        ('value', 'f4'),\n",
    "        ('date', 'U20')\n",
    "    ]\n",
    ")\n",
    "structured_array"
   ]
  },
  {
   "cell_type": "code",
   "execution_count": 24,
   "metadata": {},
   "outputs": [
    {
     "ename": "ValueError",
     "evalue": "array-shape mismatch in array 1 (\"value\")",
     "output_type": "error",
     "traceback": [
      "\u001b[1;31m---------------------------------------------------------------------------\u001b[0m",
      "\u001b[1;31mValueError\u001b[0m                                Traceback (most recent call last)",
      "\u001b[1;32mc:\\Users\\Amir\\Desktop\\Pytopia ML 2022\\00-Practices\\3-numpy.ipynb Cell 287\u001b[0m line \u001b[0;36m1\n\u001b[1;32m----> <a href='vscode-notebook-cell:/c%3A/Users/Amir/Desktop/Pytopia%20ML%202022/00-Practices/3-numpy.ipynb#Y556sZmlsZQ%3D%3D?line=0'>1</a>\u001b[0m np\u001b[39m.\u001b[39;49mcore\u001b[39m.\u001b[39;49mrecords\u001b[39m.\u001b[39;49mfromarrays(\n\u001b[0;32m      <a href='vscode-notebook-cell:/c%3A/Users/Amir/Desktop/Pytopia%20ML%202022/00-Practices/3-numpy.ipynb#Y556sZmlsZQ%3D%3D?line=1'>2</a>\u001b[0m     [id_, value_, date_],\n\u001b[0;32m      <a href='vscode-notebook-cell:/c%3A/Users/Amir/Desktop/Pytopia%20ML%202022/00-Practices/3-numpy.ipynb#Y556sZmlsZQ%3D%3D?line=2'>3</a>\u001b[0m     names\u001b[39m=\u001b[39;49m\u001b[39m'\u001b[39;49m\u001b[39mid, value, date\u001b[39;49m\u001b[39m'\u001b[39;49m,\n\u001b[0;32m      <a href='vscode-notebook-cell:/c%3A/Users/Amir/Desktop/Pytopia%20ML%202022/00-Practices/3-numpy.ipynb#Y556sZmlsZQ%3D%3D?line=3'>4</a>\u001b[0m     formats\u001b[39m=\u001b[39;49m\u001b[39m'\u001b[39;49m\u001b[39mi4, f4, U20\u001b[39;49m\u001b[39m'\u001b[39;49m\n\u001b[0;32m      <a href='vscode-notebook-cell:/c%3A/Users/Amir/Desktop/Pytopia%20ML%202022/00-Practices/3-numpy.ipynb#Y556sZmlsZQ%3D%3D?line=4'>5</a>\u001b[0m )\n",
      "File \u001b[1;32md:\\dev\\venv\\Lib\\site-packages\\numpy\\core\\records.py:676\u001b[0m, in \u001b[0;36mfromarrays\u001b[1;34m(arrayList, dtype, shape, formats, names, titles, aligned, byteorder)\u001b[0m\n\u001b[0;32m    674\u001b[0m     name \u001b[39m=\u001b[39m _names[k]\n\u001b[0;32m    675\u001b[0m     \u001b[39mif\u001b[39;00m testshape \u001b[39m!=\u001b[39m shape:\n\u001b[1;32m--> 676\u001b[0m         \u001b[39mraise\u001b[39;00m \u001b[39mValueError\u001b[39;00m(\u001b[39mf\u001b[39m\u001b[39m'\u001b[39m\u001b[39marray-shape mismatch in array \u001b[39m\u001b[39m{\u001b[39;00mk\u001b[39m}\u001b[39;00m\u001b[39m (\u001b[39m\u001b[39m\"\u001b[39m\u001b[39m{\u001b[39;00mname\u001b[39m}\u001b[39;00m\u001b[39m\"\u001b[39m\u001b[39m)\u001b[39m\u001b[39m'\u001b[39m)\n\u001b[0;32m    678\u001b[0m     _array[name] \u001b[39m=\u001b[39m obj\n\u001b[0;32m    680\u001b[0m \u001b[39mreturn\u001b[39;00m _array\n",
      "\u001b[1;31mValueError\u001b[0m: array-shape mismatch in array 1 (\"value\")"
     ]
    }
   ],
   "source": [
    "np.core.records.fromarrays(\n",
    "    [id_, value_, date_],\n",
    "    names='id, value, date',\n",
    "    formats='i4, f4, U20'\n",
    ")"
   ]
  },
  {
   "cell_type": "code",
   "execution_count": 28,
   "metadata": {},
   "outputs": [],
   "source": [
    "np.savetxt('./records.csv', structured_array, fmt='%i, %04f, %s')"
   ]
  },
  {
   "cell_type": "code",
   "execution_count": 4,
   "metadata": {},
   "outputs": [
    {
     "data": {
      "text/plain": [
       "<function numpy.genfromtxt(fname, dtype=<class 'float'>, comments='#', delimiter=None, skip_header=0, skip_footer=0, converters=None, missing_values=None, filling_values=None, usecols=None, names=None, excludelist=None, deletechars=\" !#$%&'()*+,-./:;<=>?@[\\\\]^{|}~\", replace_space='_', autostrip=False, case_sensitive=True, defaultfmt='f%i', unpack=None, usemask=False, loose=True, invalid_raise=True, max_rows=None, encoding='bytes', *, ndmin=0, like=None)>"
      ]
     },
     "execution_count": 4,
     "metadata": {},
     "output_type": "execute_result"
    }
   ],
   "source": [
    "import numpy as np\n",
    "np.genfromtxt"
   ]
  },
  {
   "cell_type": "code",
   "execution_count": 5,
   "metadata": {},
   "outputs": [
    {
     "data": {
      "text/plain": [
       "array([(-1, nan, '2023-01-01'), (-1, nan, '2023-01-02'),\n",
       "       (-1, nan, '2023-01-03'), (-1, nan, '2023-01-04'),\n",
       "       (-1, nan, '2023-01-05'), (-1, nan, '2023-01-06'),\n",
       "       (-1, nan, '2023-01-07'), (-1, nan, '2023-01-08'),\n",
       "       (-1, nan, '2023-01-09'), (-1, nan, '2023-01-10'),\n",
       "       (-1, nan, '2023-01-11'), (-1, nan, '2023-01-12'),\n",
       "       (-1, nan, '2023-01-13'), (-1, nan, '2023-01-14'),\n",
       "       (-1, nan, '2023-01-15'), (-1, nan, '2023-01-16'),\n",
       "       (-1, nan, '2023-01-17'), (-1, nan, '2023-01-18'),\n",
       "       (-1, nan, '2023-01-19'), (-1, nan, '2023-01-20'),\n",
       "       (-1, nan, '2023-01-21'), (-1, nan, '2023-01-22'),\n",
       "       (-1, nan, '2023-01-23'), (-1, nan, '2023-01-24'),\n",
       "       (-1, nan, '2023-01-25'), (-1, nan, '2023-01-26'),\n",
       "       (-1, nan, '2023-01-27'), (-1, nan, '2023-01-28'),\n",
       "       (-1, nan, '2023-01-29'), (-1, nan, '2023-01-30'),\n",
       "       (-1, nan, '2023-01-31'), (-1, nan, '2023-02-01'),\n",
       "       (-1, nan, '2023-02-02'), (-1, nan, '2023-02-03'),\n",
       "       (-1, nan, '2023-02-04'), (-1, nan, '2023-02-05'),\n",
       "       (-1, nan, '2023-02-06'), (-1, nan, '2023-02-07'),\n",
       "       (-1, nan, '2023-02-08'), (-1, nan, '2023-02-09'),\n",
       "       (-1, nan, '2023-02-10'), (-1, nan, '2023-02-11'),\n",
       "       (-1, nan, '2023-02-12'), (-1, nan, '2023-02-13'),\n",
       "       (-1, nan, '2023-02-14'), (-1, nan, '2023-02-15'),\n",
       "       (-1, nan, '2023-02-16'), (-1, nan, '2023-02-17'),\n",
       "       (-1, nan, '2023-02-18'), (-1, nan, '2023-02-19'),\n",
       "       (-1, nan, '2023-02-20'), (-1, nan, '2023-02-21'),\n",
       "       (-1, nan, '2023-02-22'), (-1, nan, '2023-02-23'),\n",
       "       (-1, nan, '2023-02-24'), (-1, nan, '2023-02-25'),\n",
       "       (-1, nan, '2023-02-26'), (-1, nan, '2023-02-27'),\n",
       "       (-1, nan, '2023-02-28'), (-1, nan, '2023-03-01'),\n",
       "       (-1, nan, '2023-03-02'), (-1, nan, '2023-03-03'),\n",
       "       (-1, nan, '2023-03-04'), (-1, nan, '2023-03-05'),\n",
       "       (-1, nan, '2023-03-06'), (-1, nan, '2023-03-07'),\n",
       "       (-1, nan, '2023-03-08'), (-1, nan, '2023-03-09'),\n",
       "       (-1, nan, '2023-03-10'), (-1, nan, '2023-03-11'),\n",
       "       (-1, nan, '2023-03-12'), (-1, nan, '2023-03-13'),\n",
       "       (-1, nan, '2023-03-14'), (-1, nan, '2023-03-15'),\n",
       "       (-1, nan, '2023-03-16'), (-1, nan, '2023-03-17'),\n",
       "       (-1, nan, '2023-03-18'), (-1, nan, '2023-03-19'),\n",
       "       (-1, nan, '2023-03-20'), (-1, nan, '2023-03-21'),\n",
       "       (-1, nan, '2023-03-22'), (-1, nan, '2023-03-23'),\n",
       "       (-1, nan, '2023-03-24'), (-1, nan, '2023-03-25'),\n",
       "       (-1, nan, '2023-03-26'), (-1, nan, '2023-03-27'),\n",
       "       (-1, nan, '2023-03-28'), (-1, nan, '2023-03-29'),\n",
       "       (-1, nan, '2023-03-30'), (-1, nan, '2023-03-31'),\n",
       "       (-1, nan, '2023-04-01'), (-1, nan, '2023-04-02'),\n",
       "       (-1, nan, '2023-04-03'), (-1, nan, '2023-04-04'),\n",
       "       (-1, nan, '2023-04-05'), (-1, nan, '2023-04-06'),\n",
       "       (-1, nan, '2023-04-07'), (-1, nan, '2023-04-08'),\n",
       "       (-1, nan, '2023-04-09'), (-1, nan, '2023-04-10'),\n",
       "       (-1, nan, '2023-04-11'), (-1, nan, '2023-04-12'),\n",
       "       (-1, nan, '2023-04-13'), (-1, nan, '2023-04-14'),\n",
       "       (-1, nan, '2023-04-15'), (-1, nan, '2023-04-16'),\n",
       "       (-1, nan, '2023-04-17'), (-1, nan, '2023-04-18'),\n",
       "       (-1, nan, '2023-04-19'), (-1, nan, '2023-04-20'),\n",
       "       (-1, nan, '2023-04-21'), (-1, nan, '2023-04-22'),\n",
       "       (-1, nan, '2023-04-23'), (-1, nan, '2023-04-24'),\n",
       "       (-1, nan, '2023-04-25'), (-1, nan, '2023-04-26'),\n",
       "       (-1, nan, '2023-04-27'), (-1, nan, '2023-04-28'),\n",
       "       (-1, nan, '2023-04-29'), (-1, nan, '2023-04-30'),\n",
       "       (-1, nan, '2023-05-01'), (-1, nan, '2023-05-02'),\n",
       "       (-1, nan, '2023-05-03'), (-1, nan, '2023-05-04'),\n",
       "       (-1, nan, '2023-05-05'), (-1, nan, '2023-05-06'),\n",
       "       (-1, nan, '2023-05-07'), (-1, nan, '2023-05-08'),\n",
       "       (-1, nan, '2023-05-09'), (-1, nan, '2023-05-10'),\n",
       "       (-1, nan, '2023-05-11'), (-1, nan, '2023-05-12'),\n",
       "       (-1, nan, '2023-05-13'), (-1, nan, '2023-05-14'),\n",
       "       (-1, nan, '2023-05-15'), (-1, nan, '2023-05-16'),\n",
       "       (-1, nan, '2023-05-17'), (-1, nan, '2023-05-18'),\n",
       "       (-1, nan, '2023-05-19'), (-1, nan, '2023-05-20'),\n",
       "       (-1, nan, '2023-05-21'), (-1, nan, '2023-05-22'),\n",
       "       (-1, nan, '2023-05-23'), (-1, nan, '2023-05-24'),\n",
       "       (-1, nan, '2023-05-25'), (-1, nan, '2023-05-26'),\n",
       "       (-1, nan, '2023-05-27'), (-1, nan, '2023-05-28'),\n",
       "       (-1, nan, '2023-05-29'), (-1, nan, '2023-05-30'),\n",
       "       (-1, nan, '2023-05-31'), (-1, nan, '2023-06-01'),\n",
       "       (-1, nan, '2023-06-02'), (-1, nan, '2023-06-03'),\n",
       "       (-1, nan, '2023-06-04'), (-1, nan, '2023-06-05'),\n",
       "       (-1, nan, '2023-06-06'), (-1, nan, '2023-06-07'),\n",
       "       (-1, nan, '2023-06-08'), (-1, nan, '2023-06-09'),\n",
       "       (-1, nan, '2023-06-10'), (-1, nan, '2023-06-11'),\n",
       "       (-1, nan, '2023-06-12'), (-1, nan, '2023-06-13'),\n",
       "       (-1, nan, '2023-06-14'), (-1, nan, '2023-06-15'),\n",
       "       (-1, nan, '2023-06-16'), (-1, nan, '2023-06-17'),\n",
       "       (-1, nan, '2023-06-18'), (-1, nan, '2023-06-19'),\n",
       "       (-1, nan, '2023-06-20'), (-1, nan, '2023-06-21'),\n",
       "       (-1, nan, '2023-06-22'), (-1, nan, '2023-06-23'),\n",
       "       (-1, nan, '2023-06-24'), (-1, nan, '2023-06-25'),\n",
       "       (-1, nan, '2023-06-26'), (-1, nan, '2023-06-27'),\n",
       "       (-1, nan, '2023-06-28'), (-1, nan, '2023-06-29'),\n",
       "       (-1, nan, '2023-06-30'), (-1, nan, '2023-07-01'),\n",
       "       (-1, nan, '2023-07-02'), (-1, nan, '2023-07-03'),\n",
       "       (-1, nan, '2023-07-04'), (-1, nan, '2023-07-05'),\n",
       "       (-1, nan, '2023-07-06'), (-1, nan, '2023-07-07'),\n",
       "       (-1, nan, '2023-07-08'), (-1, nan, '2023-07-09'),\n",
       "       (-1, nan, '2023-07-10'), (-1, nan, '2023-07-11'),\n",
       "       (-1, nan, '2023-07-12'), (-1, nan, '2023-07-13'),\n",
       "       (-1, nan, '2023-07-14'), (-1, nan, '2023-07-15'),\n",
       "       (-1, nan, '2023-07-16'), (-1, nan, '2023-07-17'),\n",
       "       (-1, nan, '2023-07-18'), (-1, nan, '2023-07-19'),\n",
       "       (-1, nan, '2023-07-20'), (-1, nan, '2023-07-21'),\n",
       "       (-1, nan, '2023-07-22'), (-1, nan, '2023-07-23'),\n",
       "       (-1, nan, '2023-07-24'), (-1, nan, '2023-07-25'),\n",
       "       (-1, nan, '2023-07-26'), (-1, nan, '2023-07-27'),\n",
       "       (-1, nan, '2023-07-28'), (-1, nan, '2023-07-29'),\n",
       "       (-1, nan, '2023-07-30'), (-1, nan, '2023-07-31'),\n",
       "       (-1, nan, '2023-08-01'), (-1, nan, '2023-08-02'),\n",
       "       (-1, nan, '2023-08-03'), (-1, nan, '2023-08-04'),\n",
       "       (-1, nan, '2023-08-05'), (-1, nan, '2023-08-06'),\n",
       "       (-1, nan, '2023-08-07'), (-1, nan, '2023-08-08'),\n",
       "       (-1, nan, '2023-08-09'), (-1, nan, '2023-08-10'),\n",
       "       (-1, nan, '2023-08-11'), (-1, nan, '2023-08-12'),\n",
       "       (-1, nan, '2023-08-13'), (-1, nan, '2023-08-14'),\n",
       "       (-1, nan, '2023-08-15'), (-1, nan, '2023-08-16'),\n",
       "       (-1, nan, '2023-08-17'), (-1, nan, '2023-08-18'),\n",
       "       (-1, nan, '2023-08-19'), (-1, nan, '2023-08-20'),\n",
       "       (-1, nan, '2023-08-21'), (-1, nan, '2023-08-22'),\n",
       "       (-1, nan, '2023-08-23'), (-1, nan, '2023-08-24'),\n",
       "       (-1, nan, '2023-08-25'), (-1, nan, '2023-08-26'),\n",
       "       (-1, nan, '2023-08-27'), (-1, nan, '2023-08-28'),\n",
       "       (-1, nan, '2023-08-29'), (-1, nan, '2023-08-30'),\n",
       "       (-1, nan, '2023-08-31'), (-1, nan, '2023-09-01'),\n",
       "       (-1, nan, '2023-09-02'), (-1, nan, '2023-09-03'),\n",
       "       (-1, nan, '2023-09-04'), (-1, nan, '2023-09-05'),\n",
       "       (-1, nan, '2023-09-06'), (-1, nan, '2023-09-07'),\n",
       "       (-1, nan, '2023-09-08'), (-1, nan, '2023-09-09'),\n",
       "       (-1, nan, '2023-09-10'), (-1, nan, '2023-09-11'),\n",
       "       (-1, nan, '2023-09-12'), (-1, nan, '2023-09-13'),\n",
       "       (-1, nan, '2023-09-14'), (-1, nan, '2023-09-15'),\n",
       "       (-1, nan, '2023-09-16'), (-1, nan, '2023-09-17'),\n",
       "       (-1, nan, '2023-09-18'), (-1, nan, '2023-09-19'),\n",
       "       (-1, nan, '2023-09-20'), (-1, nan, '2023-09-21'),\n",
       "       (-1, nan, '2023-09-22'), (-1, nan, '2023-09-23'),\n",
       "       (-1, nan, '2023-09-24'), (-1, nan, '2023-09-25'),\n",
       "       (-1, nan, '2023-09-26'), (-1, nan, '2023-09-27'),\n",
       "       (-1, nan, '2023-09-28'), (-1, nan, '2023-09-29'),\n",
       "       (-1, nan, '2023-09-30'), (-1, nan, '2023-10-01'),\n",
       "       (-1, nan, '2023-10-02'), (-1, nan, '2023-10-03'),\n",
       "       (-1, nan, '2023-10-04'), (-1, nan, '2023-10-05'),\n",
       "       (-1, nan, '2023-10-06'), (-1, nan, '2023-10-07'),\n",
       "       (-1, nan, '2023-10-08'), (-1, nan, '2023-10-09'),\n",
       "       (-1, nan, '2023-10-10'), (-1, nan, '2023-10-11'),\n",
       "       (-1, nan, '2023-10-12'), (-1, nan, '2023-10-13'),\n",
       "       (-1, nan, '2023-10-14'), (-1, nan, '2023-10-15'),\n",
       "       (-1, nan, '2023-10-16'), (-1, nan, '2023-10-17'),\n",
       "       (-1, nan, '2023-10-18'), (-1, nan, '2023-10-19'),\n",
       "       (-1, nan, '2023-10-20'), (-1, nan, '2023-10-21'),\n",
       "       (-1, nan, '2023-10-22'), (-1, nan, '2023-10-23'),\n",
       "       (-1, nan, '2023-10-24'), (-1, nan, '2023-10-25'),\n",
       "       (-1, nan, '2023-10-26'), (-1, nan, '2023-10-27'),\n",
       "       (-1, nan, '2023-10-28'), (-1, nan, '2023-10-29'),\n",
       "       (-1, nan, '2023-10-30'), (-1, nan, '2023-10-31'),\n",
       "       (-1, nan, '2023-11-01'), (-1, nan, '2023-11-02'),\n",
       "       (-1, nan, '2023-11-03'), (-1, nan, '2023-11-04'),\n",
       "       (-1, nan, '2023-11-05'), (-1, nan, '2023-11-06'),\n",
       "       (-1, nan, '2023-11-07'), (-1, nan, '2023-11-08'),\n",
       "       (-1, nan, '2023-11-09'), (-1, nan, '2023-11-10'),\n",
       "       (-1, nan, '2023-11-11'), (-1, nan, '2023-11-12'),\n",
       "       (-1, nan, '2023-11-13'), (-1, nan, '2023-11-14'),\n",
       "       (-1, nan, '2023-11-15'), (-1, nan, '2023-11-16'),\n",
       "       (-1, nan, '2023-11-17'), (-1, nan, '2023-11-18'),\n",
       "       (-1, nan, '2023-11-19'), (-1, nan, '2023-11-20'),\n",
       "       (-1, nan, '2023-11-21'), (-1, nan, '2023-11-22'),\n",
       "       (-1, nan, '2023-11-23'), (-1, nan, '2023-11-24'),\n",
       "       (-1, nan, '2023-11-25'), (-1, nan, '2023-11-26'),\n",
       "       (-1, nan, '2023-11-27'), (-1, nan, '2023-11-28'),\n",
       "       (-1, nan, '2023-11-29'), (-1, nan, '2023-11-30'),\n",
       "       (-1, nan, '2023-12-01'), (-1, nan, '2023-12-02'),\n",
       "       (-1, nan, '2023-12-03'), (-1, nan, '2023-12-04'),\n",
       "       (-1, nan, '2023-12-05'), (-1, nan, '2023-12-06'),\n",
       "       (-1, nan, '2023-12-07'), (-1, nan, '2023-12-08'),\n",
       "       (-1, nan, '2023-12-09'), (-1, nan, '2023-12-10'),\n",
       "       (-1, nan, '2023-12-11'), (-1, nan, '2023-12-12'),\n",
       "       (-1, nan, '2023-12-13'), (-1, nan, '2023-12-14'),\n",
       "       (-1, nan, '2023-12-15'), (-1, nan, '2023-12-16'),\n",
       "       (-1, nan, '2023-12-17'), (-1, nan, '2023-12-18'),\n",
       "       (-1, nan, '2023-12-19'), (-1, nan, '2023-12-20'),\n",
       "       (-1, nan, '2023-12-21'), (-1, nan, '2023-12-22'),\n",
       "       (-1, nan, '2023-12-23'), (-1, nan, '2023-12-24'),\n",
       "       (-1, nan, '2023-12-25'), (-1, nan, '2023-12-26'),\n",
       "       (-1, nan, '2023-12-27'), (-1, nan, '2023-12-28'),\n",
       "       (-1, nan, '2023-12-29'), (-1, nan, '2023-12-30'),\n",
       "       (-1, nan, '2023-12-31')],\n",
       "      dtype=[('f0', '<i4'), ('f1', '<f4'), ('f2', '<U20')])"
      ]
     },
     "execution_count": 5,
     "metadata": {},
     "output_type": "execute_result"
    }
   ],
   "source": [
    "np.genfromtxt(\n",
    "    './records.csv',\n",
    "    dtype='i4, f4, U20'\n",
    ")"
   ]
  },
  {
   "cell_type": "code",
   "execution_count": 6,
   "metadata": {},
   "outputs": [
    {
     "data": {
      "text/plain": [
       "array([(  1, 6721., ' 2023-01-01'), (  2, 7290., ' 2023-01-02'),\n",
       "       (  3, 5553., ' 2023-01-03'), (  4, 6987., ' 2023-01-04'),\n",
       "       (  5, 2025., ' 2023-01-05'), (  6, 7893., ' 2023-01-06'),\n",
       "       (  7, 1907., ' 2023-01-07'), (  8,  647., ' 2023-01-08'),\n",
       "       (  9,   35., ' 2023-01-09'), ( 10, 1589., ' 2023-01-10'),\n",
       "       ( 11, 3421., ' 2023-01-11'), ( 12, 6451., ' 2023-01-12'),\n",
       "       ( 13, 1440., ' 2023-01-13'), ( 14,  879., ' 2023-01-14'),\n",
       "       ( 15, 3475., ' 2023-01-15'), ( 16, 3203., ' 2023-01-16'),\n",
       "       ( 17, 5864., ' 2023-01-17'), ( 18, 3115., ' 2023-01-18'),\n",
       "       ( 19,  808., ' 2023-01-19'), ( 20, 2958., ' 2023-01-20'),\n",
       "       ( 21, 2422., ' 2023-01-21'), ( 22, 1813., ' 2023-01-22'),\n",
       "       ( 23,  784., ' 2023-01-23'), ( 24,  401., ' 2023-01-24'),\n",
       "       ( 25, 1955., ' 2023-01-25'), ( 26, 2702., ' 2023-01-26'),\n",
       "       ( 27, 1361., ' 2023-01-27'), ( 28, 8280., ' 2023-01-28'),\n",
       "       ( 29, 5444., ' 2023-01-29'), ( 30,  436., ' 2023-01-30'),\n",
       "       ( 31,  467., ' 2023-01-31'), ( 32, 1911., ' 2023-02-01'),\n",
       "       ( 33, 3226., ' 2023-02-02'), ( 34, 4184., ' 2023-02-03'),\n",
       "       ( 35, 5155., ' 2023-02-04'), ( 36,  602., ' 2023-02-05'),\n",
       "       ( 37, 8814., ' 2023-02-06'), ( 38,  640., ' 2023-02-07'),\n",
       "       ( 39, 7994., ' 2023-02-08'), ( 40, 3710., ' 2023-02-09'),\n",
       "       ( 41, 4340., ' 2023-02-10'), ( 42, 7008., ' 2023-02-11'),\n",
       "       ( 43, 8192., ' 2023-02-12'), ( 44, 3409., ' 2023-02-13'),\n",
       "       ( 45,  259., ' 2023-02-14'), ( 46, 1125., ' 2023-02-15'),\n",
       "       ( 47, 7806., ' 2023-02-16'), ( 48, 4590., ' 2023-02-17'),\n",
       "       ( 49, 5418., ' 2023-02-18'), ( 50, 8049., ' 2023-02-19'),\n",
       "       ( 51, 1891., ' 2023-02-20'), ( 52, 5373., ' 2023-02-21'),\n",
       "       ( 53,  435., ' 2023-02-22'), ( 54, 8311., ' 2023-02-23'),\n",
       "       ( 55, 6554., ' 2023-02-24'), ( 56, 8313., ' 2023-02-25'),\n",
       "       ( 57, 7835., ' 2023-02-26'), ( 58, 2727., ' 2023-02-27'),\n",
       "       ( 59, 8133., ' 2023-02-28'), ( 60, 6543., ' 2023-03-01'),\n",
       "       ( 61, 5370., ' 2023-03-02'), ( 62, 8246., ' 2023-03-03'),\n",
       "       ( 63, 1642., ' 2023-03-04'), ( 64,  680., ' 2023-03-05'),\n",
       "       ( 65, 8181., ' 2023-03-06'), ( 66, 3089., ' 2023-03-07'),\n",
       "       ( 67, 2213., ' 2023-03-08'), ( 68, 6271., ' 2023-03-09'),\n",
       "       ( 69, 4890., ' 2023-03-10'), ( 70, 1025., ' 2023-03-11'),\n",
       "       ( 71, 4021., ' 2023-03-12'), ( 72, 5096., ' 2023-03-13'),\n",
       "       ( 73, 3419., ' 2023-03-14'), ( 74, 6412., ' 2023-03-15'),\n",
       "       ( 75, 2564., ' 2023-03-16'), ( 76, 6241., ' 2023-03-17'),\n",
       "       ( 77, 4394., ' 2023-03-18'), ( 78, 6998., ' 2023-03-19'),\n",
       "       ( 79, 9111., ' 2023-03-20'), ( 80, 3670., ' 2023-03-21'),\n",
       "       ( 81, 8000., ' 2023-03-22'), ( 82, 4710., ' 2023-03-23'),\n",
       "       ( 83, 8413., ' 2023-03-24'), ( 84, 4597., ' 2023-03-25'),\n",
       "       ( 85, 8419., ' 2023-03-26'), ( 86, 2572., ' 2023-03-27'),\n",
       "       ( 87, 1244., ' 2023-03-28'), ( 88,  311., ' 2023-03-29'),\n",
       "       ( 89, 4917., ' 2023-03-30'), ( 90, 3292., ' 2023-03-31'),\n",
       "       ( 91, 7518., ' 2023-04-01'), ( 92, 3045., ' 2023-04-02'),\n",
       "       ( 93, 6719., ' 2023-04-03'), ( 94,  923., ' 2023-04-04'),\n",
       "       ( 95, 3369., ' 2023-04-05'), ( 96, 2896., ' 2023-04-06'),\n",
       "       ( 97,  314., ' 2023-04-07'), ( 98, 6783., ' 2023-04-08'),\n",
       "       ( 99, 7318., ' 2023-04-09'), (100, 5732., ' 2023-04-10'),\n",
       "       (101,  345., ' 2023-04-11'), (102, 5053., ' 2023-04-12'),\n",
       "       (103, 4928., ' 2023-04-13'), (104, 2695., ' 2023-04-14'),\n",
       "       (105, 2107., ' 2023-04-15'), (106, 1860., ' 2023-04-16'),\n",
       "       (107, 8618., ' 2023-04-17'), (108, 5299., ' 2023-04-18'),\n",
       "       (109, 2265., ' 2023-04-19'), (110, 9108., ' 2023-04-20'),\n",
       "       (111, 5826., ' 2023-04-21'), (112, 4985., ' 2023-04-22'),\n",
       "       (113, 4247., ' 2023-04-23'), (114, 5467., ' 2023-04-24'),\n",
       "       (115, 1537., ' 2023-04-25'), (116, 1687., ' 2023-04-26'),\n",
       "       (117, 1431., ' 2023-04-27'), (118,  290., ' 2023-04-28'),\n",
       "       (119, 3980., ' 2023-04-29'), (120, 7284., ' 2023-04-30'),\n",
       "       (121, 7309., ' 2023-05-01'), (122, 8940., ' 2023-05-02'),\n",
       "       (123,   60., ' 2023-05-03'), (124, 6594., ' 2023-05-04'),\n",
       "       (125, 1291., ' 2023-05-05'), (126,  881., ' 2023-05-06'),\n",
       "       (127, 4002., ' 2023-05-07'), (128, 6068., ' 2023-05-08'),\n",
       "       (129, 1591., ' 2023-05-09'), (130, 3047., ' 2023-05-10'),\n",
       "       (131, 4879., ' 2023-05-11'), (132, 1824., ' 2023-05-12'),\n",
       "       (133, 7045., ' 2023-05-13'), (134, 1447., ' 2023-05-14'),\n",
       "       (135, 2848., ' 2023-05-15'), (136, 3274., ' 2023-05-16'),\n",
       "       (137, 4954., ' 2023-05-17'), (138, 8589., ' 2023-05-18'),\n",
       "       (139, 3348., ' 2023-05-19'), (140, 7047., ' 2023-05-20'),\n",
       "       (141, 4742., ' 2023-05-21'), (142, 3563., ' 2023-05-22'),\n",
       "       (143, 4909., ' 2023-05-23'), (144, 7935., ' 2023-05-24'),\n",
       "       (145, 3869., ' 2023-05-25'), (146, 8634., ' 2023-05-26'),\n",
       "       (147, 1292., ' 2023-05-27'), (148, 2370., ' 2023-05-28'),\n",
       "       (149, 1539., ' 2023-05-29'), (150, 5191., ' 2023-05-30'),\n",
       "       (151, 6911., ' 2023-05-31'), (152, 7782., ' 2023-06-01'),\n",
       "       (153, 3763., ' 2023-06-02'), (154, 6024., ' 2023-06-03'),\n",
       "       (155, 6457., ' 2023-06-04'), (156, 1619., ' 2023-06-05'),\n",
       "       (157, 6975., ' 2023-06-06'), (158, 7602., ' 2023-06-07'),\n",
       "       (159, 8829., ' 2023-06-08'), (160,   39., ' 2023-06-09'),\n",
       "       (161, 3103., ' 2023-06-10'), (162, 3666., ' 2023-06-11'),\n",
       "       (163, 3054., ' 2023-06-12'), (164, 5820., ' 2023-06-13'),\n",
       "       (165, 8660., ' 2023-06-14'), (166, 6613., ' 2023-06-15'),\n",
       "       (167,  445., ' 2023-06-16'), (168, 1118., ' 2023-06-17'),\n",
       "       (169, 2308., ' 2023-06-18'), (170, 7713., ' 2023-06-19'),\n",
       "       (171, 1191., ' 2023-06-20'), (172, 6308., ' 2023-06-21'),\n",
       "       (173, 1877., ' 2023-06-22'), (174,  760., ' 2023-06-23'),\n",
       "       (175, 5343., ' 2023-06-24'), (176, 8535., ' 2023-06-25'),\n",
       "       (177,  990., ' 2023-06-26'), (178, 8728., ' 2023-06-27'),\n",
       "       (179, 3883., ' 2023-06-28'), (180, 3972., ' 2023-06-29'),\n",
       "       (181, 7380., ' 2023-06-30'), (182, 6874., ' 2023-07-01'),\n",
       "       (183, 1074., ' 2023-07-02'), (184, 5099., ' 2023-07-03'),\n",
       "       (185, 3591., ' 2023-07-04'), (186, 8934., ' 2023-07-05'),\n",
       "       (187, 1681., ' 2023-07-06'), (188, 3744., ' 2023-07-07'),\n",
       "       (189, 8797., ' 2023-07-08'), (190,  815., ' 2023-07-09'),\n",
       "       (191, 3308., ' 2023-07-10'), (192, 7087., ' 2023-07-11'),\n",
       "       (193,  761., ' 2023-07-12'), (194, 5324., ' 2023-07-13'),\n",
       "       (195, 6126., ' 2023-07-14'), (196, 3893., ' 2023-07-15'),\n",
       "       (197, 2402., ' 2023-07-16'), (198, 6579., ' 2023-07-17'),\n",
       "       (199, 7108., ' 2023-07-18'), (200, 7080., ' 2023-07-19'),\n",
       "       (201, 1825., ' 2023-07-20'), (202, 4229., ' 2023-07-21'),\n",
       "       (203,  611., ' 2023-07-22'), (204, 5285., ' 2023-07-23'),\n",
       "       (205, 3887., ' 2023-07-24'), (206, 7411., ' 2023-07-25'),\n",
       "       (207, 3642., ' 2023-07-26'), (208, 1350., ' 2023-07-27'),\n",
       "       (209, 7030., ' 2023-07-28'), (210, 4744., ' 2023-07-29'),\n",
       "       (211, 8764., ' 2023-07-30'), (212,  807., ' 2023-07-31'),\n",
       "       (213, 6888., ' 2023-08-01'), (214, 5176., ' 2023-08-02'),\n",
       "       (215, 1955., ' 2023-08-03'), (216, 1884., ' 2023-08-04'),\n",
       "       (217, 5502., ' 2023-08-05'), (218, 8096., ' 2023-08-06'),\n",
       "       (219, 8529., ' 2023-08-07'), (220, 6168., ' 2023-08-08'),\n",
       "       (221, 4144., ' 2023-08-09'), (222, 6234., ' 2023-08-10'),\n",
       "       (223, 6628., ' 2023-08-11'), (224, 3551., ' 2023-08-12'),\n",
       "       (225, 4891., ' 2023-08-13'), (226,  879., ' 2023-08-14'),\n",
       "       (227, 6758., ' 2023-08-15'), (228, 6329., ' 2023-08-16'),\n",
       "       (229, 6929., ' 2023-08-17'), (230, 4166., ' 2023-08-18'),\n",
       "       (231, 7410., ' 2023-08-19'), (232, 8862., ' 2023-08-20'),\n",
       "       (233, 8864., ' 2023-08-21'), (234, 7105., ' 2023-08-22'),\n",
       "       (235, 8312., ' 2023-08-23'), (236,  186., ' 2023-08-24'),\n",
       "       (237, 6321., ' 2023-08-25'), (238, 7634., ' 2023-08-26'),\n",
       "       (239, 8230., ' 2023-08-27'), (240, 1243., ' 2023-08-28'),\n",
       "       (241, 4097., ' 2023-08-29'), (242, 5412., ' 2023-08-30'),\n",
       "       (243, 1350., ' 2023-08-31'), (244, 6625., ' 2023-09-01'),\n",
       "       (245, 6523., ' 2023-09-02'), (246, 1560., ' 2023-09-03'),\n",
       "       (247, 4786., ' 2023-09-04'), (248, 4251., ' 2023-09-05'),\n",
       "       (249, 3860., ' 2023-09-06'), (250, 9083., ' 2023-09-07'),\n",
       "       (251, 2073., ' 2023-09-08'), (252,  142., ' 2023-09-09'),\n",
       "       (253, 4081., ' 2023-09-10'), (254, 7356., ' 2023-09-11'),\n",
       "       (255, 8113., ' 2023-09-12'), (256, 4795., ' 2023-09-13'),\n",
       "       (257, 5599., ' 2023-09-14'), (258, 2304., ' 2023-09-15'),\n",
       "       (259,  408., ' 2023-09-16'), (260, 5403., ' 2023-09-17'),\n",
       "       (261, 4493., ' 2023-09-18'), (262, 8733., ' 2023-09-19'),\n",
       "       (263,   11., ' 2023-09-20'), (264, 8412., ' 2023-09-21'),\n",
       "       (265, 5794., ' 2023-09-22'), (266, 4013., ' 2023-09-23'),\n",
       "       (267, 1055., ' 2023-09-24'), (268, 6373., ' 2023-09-25'),\n",
       "       (269, 1027., ' 2023-09-26'), (270, 2482., ' 2023-09-27'),\n",
       "       (271,  428., ' 2023-09-28'), (272, 5941., ' 2023-09-29'),\n",
       "       (273, 4281., ' 2023-09-30'), (274, 1194., ' 2023-10-01'),\n",
       "       (275, 4789., ' 2023-10-02'), (276,  491., ' 2023-10-03'),\n",
       "       (277, 3183., ' 2023-10-04'), (278, 4770., ' 2023-10-05'),\n",
       "       (279, 4186., ' 2023-10-06'), (280, 1186., ' 2023-10-07'),\n",
       "       (281, 7613., ' 2023-10-08'), (282, 7203., ' 2023-10-09'),\n",
       "       (283, 3789., ' 2023-10-10'), (284, 8111., ' 2023-10-11'),\n",
       "       (285, 6817., ' 2023-10-12'), (286, 7689., ' 2023-10-13'),\n",
       "       (287, 3124., ' 2023-10-14'), (288, 7334., ' 2023-10-15'),\n",
       "       (289, 4559., ' 2023-10-16'), (290, 1768., ' 2023-10-17'),\n",
       "       (291, 1165., ' 2023-10-18'), (292,  212., ' 2023-10-19'),\n",
       "       (293,  709., ' 2023-10-20'), (294, 6834., ' 2023-10-21'),\n",
       "       (295, 7451., ' 2023-10-22'), (296, 4623., ' 2023-10-23'),\n",
       "       (297, 3134., ' 2023-10-24'), (298, 5142., ' 2023-10-25'),\n",
       "       (299, 3112., ' 2023-10-26'), (300, 6373., ' 2023-10-27'),\n",
       "       (301, 3063., ' 2023-10-28'), (302, 3194., ' 2023-10-29'),\n",
       "       (303,  738., ' 2023-10-30'), (304, 8038., ' 2023-10-31'),\n",
       "       (305, 4978., ' 2023-11-01'), (306, 6128., ' 2023-11-02'),\n",
       "       (307, 2633., ' 2023-11-03'), (308, 9068., ' 2023-11-04'),\n",
       "       (309,  178., ' 2023-11-05'), (310, 4977., ' 2023-11-06'),\n",
       "       (311, 4903., ' 2023-11-07'), (312,  707., ' 2023-11-08'),\n",
       "       (313, 8191., ' 2023-11-09'), (314, 6488., ' 2023-11-10'),\n",
       "       (315, 7345., ' 2023-11-11'), (316, 4923., ' 2023-11-12'),\n",
       "       (317, 1743., ' 2023-11-13'), (318, 4015., ' 2023-11-14'),\n",
       "       (319, 5214., ' 2023-11-15'), (320, 5826., ' 2023-11-16'),\n",
       "       (321, 3095., ' 2023-11-17'), (322,  517., ' 2023-11-18'),\n",
       "       (323, 2705., ' 2023-11-19'), (324, 7841., ' 2023-11-20'),\n",
       "       (325, 8444., ' 2023-11-21'), (326, 5823., ' 2023-11-22'),\n",
       "       (327, 7767., ' 2023-11-23'), (328, 8575., ' 2023-11-24'),\n",
       "       (329,  363., ' 2023-11-25'), (330, 5489., ' 2023-11-26'),\n",
       "       (331, 2847., ' 2023-11-27'), (332, 5974., ' 2023-11-28'),\n",
       "       (333, 6046., ' 2023-11-29'), (334, 4808., ' 2023-11-30'),\n",
       "       (335,  125., ' 2023-12-01'), (336, 2187., ' 2023-12-02'),\n",
       "       (337, 7316., ' 2023-12-03'), (338, 1632., ' 2023-12-04'),\n",
       "       (339, 4727., ' 2023-12-05'), (340, 2510., ' 2023-12-06'),\n",
       "       (341, 3277., ' 2023-12-07'), (342, 1939., ' 2023-12-08'),\n",
       "       (343, 6630., ' 2023-12-09'), (344, 6864., ' 2023-12-10'),\n",
       "       (345, 4477., ' 2023-12-11'), (346, 2739., ' 2023-12-12'),\n",
       "       (347, 1537., ' 2023-12-13'), (348, 1924., ' 2023-12-14'),\n",
       "       (349, 1066., ' 2023-12-15'), (350, 1126., ' 2023-12-16'),\n",
       "       (351, 4612., ' 2023-12-17'), (352, 2811., ' 2023-12-18'),\n",
       "       (353, 2814., ' 2023-12-19'), (354, 7269., ' 2023-12-20'),\n",
       "       (355, 1141., ' 2023-12-21'), (356, 2151., ' 2023-12-22'),\n",
       "       (357,  150., ' 2023-12-23'), (358, 1654., ' 2023-12-24'),\n",
       "       (359, 1831., ' 2023-12-25'), (360, 1078., ' 2023-12-26'),\n",
       "       (361, 7797., ' 2023-12-27'), (362, 6883., ' 2023-12-28'),\n",
       "       (363, 3952., ' 2023-12-29'), (364, 5055., ' 2023-12-30'),\n",
       "       (365, 2716., ' 2023-12-31')],\n",
       "      dtype=[('f0', '<i4'), ('f1', '<f4'), ('f2', '<U20')])"
      ]
     },
     "execution_count": 6,
     "metadata": {},
     "output_type": "execute_result"
    }
   ],
   "source": [
    "np.genfromtxt(\n",
    "    './records.csv',\n",
    "    dtype='i4, f4, U20',\n",
    "    delimiter=','\n",
    ")"
   ]
  },
  {
   "cell_type": "code",
   "execution_count": 8,
   "metadata": {},
   "outputs": [
    {
     "data": {
      "text/plain": [
       "array([( 11, 3421., ' 2023-01-11'), ( 12, 6451., ' 2023-01-12'),\n",
       "       ( 13, 1440., ' 2023-01-13'), ( 14,  879., ' 2023-01-14'),\n",
       "       ( 15, 3475., ' 2023-01-15'), ( 16, 3203., ' 2023-01-16'),\n",
       "       ( 17, 5864., ' 2023-01-17'), ( 18, 3115., ' 2023-01-18'),\n",
       "       ( 19,  808., ' 2023-01-19'), ( 20, 2958., ' 2023-01-20'),\n",
       "       ( 21, 2422., ' 2023-01-21'), ( 22, 1813., ' 2023-01-22'),\n",
       "       ( 23,  784., ' 2023-01-23'), ( 24,  401., ' 2023-01-24'),\n",
       "       ( 25, 1955., ' 2023-01-25'), ( 26, 2702., ' 2023-01-26'),\n",
       "       ( 27, 1361., ' 2023-01-27'), ( 28, 8280., ' 2023-01-28'),\n",
       "       ( 29, 5444., ' 2023-01-29'), ( 30,  436., ' 2023-01-30'),\n",
       "       ( 31,  467., ' 2023-01-31'), ( 32, 1911., ' 2023-02-01'),\n",
       "       ( 33, 3226., ' 2023-02-02'), ( 34, 4184., ' 2023-02-03'),\n",
       "       ( 35, 5155., ' 2023-02-04'), ( 36,  602., ' 2023-02-05'),\n",
       "       ( 37, 8814., ' 2023-02-06'), ( 38,  640., ' 2023-02-07'),\n",
       "       ( 39, 7994., ' 2023-02-08'), ( 40, 3710., ' 2023-02-09'),\n",
       "       ( 41, 4340., ' 2023-02-10'), ( 42, 7008., ' 2023-02-11'),\n",
       "       ( 43, 8192., ' 2023-02-12'), ( 44, 3409., ' 2023-02-13'),\n",
       "       ( 45,  259., ' 2023-02-14'), ( 46, 1125., ' 2023-02-15'),\n",
       "       ( 47, 7806., ' 2023-02-16'), ( 48, 4590., ' 2023-02-17'),\n",
       "       ( 49, 5418., ' 2023-02-18'), ( 50, 8049., ' 2023-02-19'),\n",
       "       ( 51, 1891., ' 2023-02-20'), ( 52, 5373., ' 2023-02-21'),\n",
       "       ( 53,  435., ' 2023-02-22'), ( 54, 8311., ' 2023-02-23'),\n",
       "       ( 55, 6554., ' 2023-02-24'), ( 56, 8313., ' 2023-02-25'),\n",
       "       ( 57, 7835., ' 2023-02-26'), ( 58, 2727., ' 2023-02-27'),\n",
       "       ( 59, 8133., ' 2023-02-28'), ( 60, 6543., ' 2023-03-01'),\n",
       "       ( 61, 5370., ' 2023-03-02'), ( 62, 8246., ' 2023-03-03'),\n",
       "       ( 63, 1642., ' 2023-03-04'), ( 64,  680., ' 2023-03-05'),\n",
       "       ( 65, 8181., ' 2023-03-06'), ( 66, 3089., ' 2023-03-07'),\n",
       "       ( 67, 2213., ' 2023-03-08'), ( 68, 6271., ' 2023-03-09'),\n",
       "       ( 69, 4890., ' 2023-03-10'), ( 70, 1025., ' 2023-03-11'),\n",
       "       ( 71, 4021., ' 2023-03-12'), ( 72, 5096., ' 2023-03-13'),\n",
       "       ( 73, 3419., ' 2023-03-14'), ( 74, 6412., ' 2023-03-15'),\n",
       "       ( 75, 2564., ' 2023-03-16'), ( 76, 6241., ' 2023-03-17'),\n",
       "       ( 77, 4394., ' 2023-03-18'), ( 78, 6998., ' 2023-03-19'),\n",
       "       ( 79, 9111., ' 2023-03-20'), ( 80, 3670., ' 2023-03-21'),\n",
       "       ( 81, 8000., ' 2023-03-22'), ( 82, 4710., ' 2023-03-23'),\n",
       "       ( 83, 8413., ' 2023-03-24'), ( 84, 4597., ' 2023-03-25'),\n",
       "       ( 85, 8419., ' 2023-03-26'), ( 86, 2572., ' 2023-03-27'),\n",
       "       ( 87, 1244., ' 2023-03-28'), ( 88,  311., ' 2023-03-29'),\n",
       "       ( 89, 4917., ' 2023-03-30'), ( 90, 3292., ' 2023-03-31'),\n",
       "       ( 91, 7518., ' 2023-04-01'), ( 92, 3045., ' 2023-04-02'),\n",
       "       ( 93, 6719., ' 2023-04-03'), ( 94,  923., ' 2023-04-04'),\n",
       "       ( 95, 3369., ' 2023-04-05'), ( 96, 2896., ' 2023-04-06'),\n",
       "       ( 97,  314., ' 2023-04-07'), ( 98, 6783., ' 2023-04-08'),\n",
       "       ( 99, 7318., ' 2023-04-09'), (100, 5732., ' 2023-04-10'),\n",
       "       (101,  345., ' 2023-04-11'), (102, 5053., ' 2023-04-12'),\n",
       "       (103, 4928., ' 2023-04-13'), (104, 2695., ' 2023-04-14'),\n",
       "       (105, 2107., ' 2023-04-15'), (106, 1860., ' 2023-04-16'),\n",
       "       (107, 8618., ' 2023-04-17'), (108, 5299., ' 2023-04-18'),\n",
       "       (109, 2265., ' 2023-04-19'), (110, 9108., ' 2023-04-20'),\n",
       "       (111, 5826., ' 2023-04-21'), (112, 4985., ' 2023-04-22'),\n",
       "       (113, 4247., ' 2023-04-23'), (114, 5467., ' 2023-04-24'),\n",
       "       (115, 1537., ' 2023-04-25'), (116, 1687., ' 2023-04-26'),\n",
       "       (117, 1431., ' 2023-04-27'), (118,  290., ' 2023-04-28'),\n",
       "       (119, 3980., ' 2023-04-29'), (120, 7284., ' 2023-04-30'),\n",
       "       (121, 7309., ' 2023-05-01'), (122, 8940., ' 2023-05-02'),\n",
       "       (123,   60., ' 2023-05-03'), (124, 6594., ' 2023-05-04'),\n",
       "       (125, 1291., ' 2023-05-05'), (126,  881., ' 2023-05-06'),\n",
       "       (127, 4002., ' 2023-05-07'), (128, 6068., ' 2023-05-08'),\n",
       "       (129, 1591., ' 2023-05-09'), (130, 3047., ' 2023-05-10'),\n",
       "       (131, 4879., ' 2023-05-11'), (132, 1824., ' 2023-05-12'),\n",
       "       (133, 7045., ' 2023-05-13'), (134, 1447., ' 2023-05-14'),\n",
       "       (135, 2848., ' 2023-05-15'), (136, 3274., ' 2023-05-16'),\n",
       "       (137, 4954., ' 2023-05-17'), (138, 8589., ' 2023-05-18'),\n",
       "       (139, 3348., ' 2023-05-19'), (140, 7047., ' 2023-05-20'),\n",
       "       (141, 4742., ' 2023-05-21'), (142, 3563., ' 2023-05-22'),\n",
       "       (143, 4909., ' 2023-05-23'), (144, 7935., ' 2023-05-24'),\n",
       "       (145, 3869., ' 2023-05-25'), (146, 8634., ' 2023-05-26'),\n",
       "       (147, 1292., ' 2023-05-27'), (148, 2370., ' 2023-05-28'),\n",
       "       (149, 1539., ' 2023-05-29'), (150, 5191., ' 2023-05-30'),\n",
       "       (151, 6911., ' 2023-05-31'), (152, 7782., ' 2023-06-01'),\n",
       "       (153, 3763., ' 2023-06-02'), (154, 6024., ' 2023-06-03'),\n",
       "       (155, 6457., ' 2023-06-04'), (156, 1619., ' 2023-06-05'),\n",
       "       (157, 6975., ' 2023-06-06'), (158, 7602., ' 2023-06-07'),\n",
       "       (159, 8829., ' 2023-06-08'), (160,   39., ' 2023-06-09'),\n",
       "       (161, 3103., ' 2023-06-10'), (162, 3666., ' 2023-06-11'),\n",
       "       (163, 3054., ' 2023-06-12'), (164, 5820., ' 2023-06-13'),\n",
       "       (165, 8660., ' 2023-06-14'), (166, 6613., ' 2023-06-15'),\n",
       "       (167,  445., ' 2023-06-16'), (168, 1118., ' 2023-06-17'),\n",
       "       (169, 2308., ' 2023-06-18'), (170, 7713., ' 2023-06-19'),\n",
       "       (171, 1191., ' 2023-06-20'), (172, 6308., ' 2023-06-21'),\n",
       "       (173, 1877., ' 2023-06-22'), (174,  760., ' 2023-06-23'),\n",
       "       (175, 5343., ' 2023-06-24'), (176, 8535., ' 2023-06-25'),\n",
       "       (177,  990., ' 2023-06-26'), (178, 8728., ' 2023-06-27'),\n",
       "       (179, 3883., ' 2023-06-28'), (180, 3972., ' 2023-06-29'),\n",
       "       (181, 7380., ' 2023-06-30'), (182, 6874., ' 2023-07-01'),\n",
       "       (183, 1074., ' 2023-07-02'), (184, 5099., ' 2023-07-03'),\n",
       "       (185, 3591., ' 2023-07-04'), (186, 8934., ' 2023-07-05'),\n",
       "       (187, 1681., ' 2023-07-06'), (188, 3744., ' 2023-07-07'),\n",
       "       (189, 8797., ' 2023-07-08'), (190,  815., ' 2023-07-09'),\n",
       "       (191, 3308., ' 2023-07-10'), (192, 7087., ' 2023-07-11'),\n",
       "       (193,  761., ' 2023-07-12'), (194, 5324., ' 2023-07-13'),\n",
       "       (195, 6126., ' 2023-07-14'), (196, 3893., ' 2023-07-15'),\n",
       "       (197, 2402., ' 2023-07-16'), (198, 6579., ' 2023-07-17'),\n",
       "       (199, 7108., ' 2023-07-18'), (200, 7080., ' 2023-07-19'),\n",
       "       (201, 1825., ' 2023-07-20'), (202, 4229., ' 2023-07-21'),\n",
       "       (203,  611., ' 2023-07-22'), (204, 5285., ' 2023-07-23'),\n",
       "       (205, 3887., ' 2023-07-24'), (206, 7411., ' 2023-07-25'),\n",
       "       (207, 3642., ' 2023-07-26'), (208, 1350., ' 2023-07-27'),\n",
       "       (209, 7030., ' 2023-07-28'), (210, 4744., ' 2023-07-29'),\n",
       "       (211, 8764., ' 2023-07-30'), (212,  807., ' 2023-07-31'),\n",
       "       (213, 6888., ' 2023-08-01'), (214, 5176., ' 2023-08-02'),\n",
       "       (215, 1955., ' 2023-08-03'), (216, 1884., ' 2023-08-04'),\n",
       "       (217, 5502., ' 2023-08-05'), (218, 8096., ' 2023-08-06'),\n",
       "       (219, 8529., ' 2023-08-07'), (220, 6168., ' 2023-08-08'),\n",
       "       (221, 4144., ' 2023-08-09'), (222, 6234., ' 2023-08-10'),\n",
       "       (223, 6628., ' 2023-08-11'), (224, 3551., ' 2023-08-12'),\n",
       "       (225, 4891., ' 2023-08-13'), (226,  879., ' 2023-08-14'),\n",
       "       (227, 6758., ' 2023-08-15'), (228, 6329., ' 2023-08-16'),\n",
       "       (229, 6929., ' 2023-08-17'), (230, 4166., ' 2023-08-18'),\n",
       "       (231, 7410., ' 2023-08-19'), (232, 8862., ' 2023-08-20'),\n",
       "       (233, 8864., ' 2023-08-21'), (234, 7105., ' 2023-08-22'),\n",
       "       (235, 8312., ' 2023-08-23'), (236,  186., ' 2023-08-24'),\n",
       "       (237, 6321., ' 2023-08-25'), (238, 7634., ' 2023-08-26'),\n",
       "       (239, 8230., ' 2023-08-27'), (240, 1243., ' 2023-08-28'),\n",
       "       (241, 4097., ' 2023-08-29'), (242, 5412., ' 2023-08-30'),\n",
       "       (243, 1350., ' 2023-08-31'), (244, 6625., ' 2023-09-01'),\n",
       "       (245, 6523., ' 2023-09-02'), (246, 1560., ' 2023-09-03'),\n",
       "       (247, 4786., ' 2023-09-04'), (248, 4251., ' 2023-09-05'),\n",
       "       (249, 3860., ' 2023-09-06'), (250, 9083., ' 2023-09-07'),\n",
       "       (251, 2073., ' 2023-09-08'), (252,  142., ' 2023-09-09'),\n",
       "       (253, 4081., ' 2023-09-10'), (254, 7356., ' 2023-09-11'),\n",
       "       (255, 8113., ' 2023-09-12'), (256, 4795., ' 2023-09-13'),\n",
       "       (257, 5599., ' 2023-09-14'), (258, 2304., ' 2023-09-15'),\n",
       "       (259,  408., ' 2023-09-16'), (260, 5403., ' 2023-09-17'),\n",
       "       (261, 4493., ' 2023-09-18'), (262, 8733., ' 2023-09-19'),\n",
       "       (263,   11., ' 2023-09-20'), (264, 8412., ' 2023-09-21'),\n",
       "       (265, 5794., ' 2023-09-22'), (266, 4013., ' 2023-09-23'),\n",
       "       (267, 1055., ' 2023-09-24'), (268, 6373., ' 2023-09-25'),\n",
       "       (269, 1027., ' 2023-09-26'), (270, 2482., ' 2023-09-27'),\n",
       "       (271,  428., ' 2023-09-28'), (272, 5941., ' 2023-09-29'),\n",
       "       (273, 4281., ' 2023-09-30'), (274, 1194., ' 2023-10-01'),\n",
       "       (275, 4789., ' 2023-10-02'), (276,  491., ' 2023-10-03'),\n",
       "       (277, 3183., ' 2023-10-04'), (278, 4770., ' 2023-10-05'),\n",
       "       (279, 4186., ' 2023-10-06'), (280, 1186., ' 2023-10-07'),\n",
       "       (281, 7613., ' 2023-10-08'), (282, 7203., ' 2023-10-09'),\n",
       "       (283, 3789., ' 2023-10-10'), (284, 8111., ' 2023-10-11'),\n",
       "       (285, 6817., ' 2023-10-12'), (286, 7689., ' 2023-10-13'),\n",
       "       (287, 3124., ' 2023-10-14'), (288, 7334., ' 2023-10-15'),\n",
       "       (289, 4559., ' 2023-10-16'), (290, 1768., ' 2023-10-17'),\n",
       "       (291, 1165., ' 2023-10-18'), (292,  212., ' 2023-10-19'),\n",
       "       (293,  709., ' 2023-10-20'), (294, 6834., ' 2023-10-21'),\n",
       "       (295, 7451., ' 2023-10-22'), (296, 4623., ' 2023-10-23'),\n",
       "       (297, 3134., ' 2023-10-24'), (298, 5142., ' 2023-10-25'),\n",
       "       (299, 3112., ' 2023-10-26'), (300, 6373., ' 2023-10-27'),\n",
       "       (301, 3063., ' 2023-10-28'), (302, 3194., ' 2023-10-29'),\n",
       "       (303,  738., ' 2023-10-30'), (304, 8038., ' 2023-10-31'),\n",
       "       (305, 4978., ' 2023-11-01'), (306, 6128., ' 2023-11-02'),\n",
       "       (307, 2633., ' 2023-11-03'), (308, 9068., ' 2023-11-04'),\n",
       "       (309,  178., ' 2023-11-05'), (310, 4977., ' 2023-11-06'),\n",
       "       (311, 4903., ' 2023-11-07'), (312,  707., ' 2023-11-08'),\n",
       "       (313, 8191., ' 2023-11-09'), (314, 6488., ' 2023-11-10'),\n",
       "       (315, 7345., ' 2023-11-11'), (316, 4923., ' 2023-11-12'),\n",
       "       (317, 1743., ' 2023-11-13'), (318, 4015., ' 2023-11-14'),\n",
       "       (319, 5214., ' 2023-11-15'), (320, 5826., ' 2023-11-16'),\n",
       "       (321, 3095., ' 2023-11-17'), (322,  517., ' 2023-11-18'),\n",
       "       (323, 2705., ' 2023-11-19'), (324, 7841., ' 2023-11-20'),\n",
       "       (325, 8444., ' 2023-11-21'), (326, 5823., ' 2023-11-22'),\n",
       "       (327, 7767., ' 2023-11-23'), (328, 8575., ' 2023-11-24'),\n",
       "       (329,  363., ' 2023-11-25'), (330, 5489., ' 2023-11-26'),\n",
       "       (331, 2847., ' 2023-11-27'), (332, 5974., ' 2023-11-28'),\n",
       "       (333, 6046., ' 2023-11-29'), (334, 4808., ' 2023-11-30'),\n",
       "       (335,  125., ' 2023-12-01'), (336, 2187., ' 2023-12-02'),\n",
       "       (337, 7316., ' 2023-12-03'), (338, 1632., ' 2023-12-04'),\n",
       "       (339, 4727., ' 2023-12-05'), (340, 2510., ' 2023-12-06'),\n",
       "       (341, 3277., ' 2023-12-07'), (342, 1939., ' 2023-12-08'),\n",
       "       (343, 6630., ' 2023-12-09'), (344, 6864., ' 2023-12-10'),\n",
       "       (345, 4477., ' 2023-12-11'), (346, 2739., ' 2023-12-12'),\n",
       "       (347, 1537., ' 2023-12-13'), (348, 1924., ' 2023-12-14'),\n",
       "       (349, 1066., ' 2023-12-15'), (350, 1126., ' 2023-12-16'),\n",
       "       (351, 4612., ' 2023-12-17'), (352, 2811., ' 2023-12-18'),\n",
       "       (353, 2814., ' 2023-12-19'), (354, 7269., ' 2023-12-20'),\n",
       "       (355, 1141., ' 2023-12-21'), (356, 2151., ' 2023-12-22'),\n",
       "       (357,  150., ' 2023-12-23'), (358, 1654., ' 2023-12-24'),\n",
       "       (359, 1831., ' 2023-12-25'), (360, 1078., ' 2023-12-26'),\n",
       "       (361, 7797., ' 2023-12-27'), (362, 6883., ' 2023-12-28'),\n",
       "       (363, 3952., ' 2023-12-29'), (364, 5055., ' 2023-12-30'),\n",
       "       (365, 2716., ' 2023-12-31')],\n",
       "      dtype=[('f0', '<i4'), ('f1', '<f4'), ('f2', '<U20')])"
      ]
     },
     "execution_count": 8,
     "metadata": {},
     "output_type": "execute_result"
    }
   ],
   "source": [
    "np.genfromtxt(\n",
    "    './records.csv',\n",
    "    dtype='i4, f4, U20',\n",
    "    delimiter=',',\n",
    "    skip_header=10\n",
    ")"
   ]
  },
  {
   "cell_type": "code",
   "execution_count": 10,
   "metadata": {},
   "outputs": [],
   "source": [
    "stda = np.genfromtxt(\n",
    "    './records.csv',\n",
    "    dtype='i4, f4, U20',\n",
    "    delimiter=',',\n",
    "    skip_header=10\n",
    ")\n",
    "stda.dtype.names = ('id', 'value', 'date')"
   ]
  },
  {
   "cell_type": "code",
   "execution_count": 12,
   "metadata": {},
   "outputs": [
    {
     "data": {
      "text/plain": [
       "array([ 11,  12,  13,  14,  15,  16,  17,  18,  19,  20,  21,  22,  23,\n",
       "        24,  25,  26,  27,  28,  29,  30,  31,  32,  33,  34,  35,  36,\n",
       "        37,  38,  39,  40,  41,  42,  43,  44,  45,  46,  47,  48,  49,\n",
       "        50,  51,  52,  53,  54,  55,  56,  57,  58,  59,  60,  61,  62,\n",
       "        63,  64,  65,  66,  67,  68,  69,  70,  71,  72,  73,  74,  75,\n",
       "        76,  77,  78,  79,  80,  81,  82,  83,  84,  85,  86,  87,  88,\n",
       "        89,  90,  91,  92,  93,  94,  95,  96,  97,  98,  99, 100, 101,\n",
       "       102, 103, 104, 105, 106, 107, 108, 109, 110, 111, 112, 113, 114,\n",
       "       115, 116, 117, 118, 119, 120, 121, 122, 123, 124, 125, 126, 127,\n",
       "       128, 129, 130, 131, 132, 133, 134, 135, 136, 137, 138, 139, 140,\n",
       "       141, 142, 143, 144, 145, 146, 147, 148, 149, 150, 151, 152, 153,\n",
       "       154, 155, 156, 157, 158, 159, 160, 161, 162, 163, 164, 165, 166,\n",
       "       167, 168, 169, 170, 171, 172, 173, 174, 175, 176, 177, 178, 179,\n",
       "       180, 181, 182, 183, 184, 185, 186, 187, 188, 189, 190, 191, 192,\n",
       "       193, 194, 195, 196, 197, 198, 199, 200, 201, 202, 203, 204, 205,\n",
       "       206, 207, 208, 209, 210, 211, 212, 213, 214, 215, 216, 217, 218,\n",
       "       219, 220, 221, 222, 223, 224, 225, 226, 227, 228, 229, 230, 231,\n",
       "       232, 233, 234, 235, 236, 237, 238, 239, 240, 241, 242, 243, 244,\n",
       "       245, 246, 247, 248, 249, 250, 251, 252, 253, 254, 255, 256, 257,\n",
       "       258, 259, 260, 261, 262, 263, 264, 265, 266, 267, 268, 269, 270,\n",
       "       271, 272, 273, 274, 275, 276, 277, 278, 279, 280, 281, 282, 283,\n",
       "       284, 285, 286, 287, 288, 289, 290, 291, 292, 293, 294, 295, 296,\n",
       "       297, 298, 299, 300, 301, 302, 303, 304, 305, 306, 307, 308, 309,\n",
       "       310, 311, 312, 313, 314, 315, 316, 317, 318, 319, 320, 321, 322,\n",
       "       323, 324, 325, 326, 327, 328, 329, 330, 331, 332, 333, 334, 335,\n",
       "       336, 337, 338, 339, 340, 341, 342, 343, 344, 345, 346, 347, 348,\n",
       "       349, 350, 351, 352, 353, 354, 355, 356, 357, 358, 359, 360, 361,\n",
       "       362, 363, 364, 365])"
      ]
     },
     "execution_count": 12,
     "metadata": {},
     "output_type": "execute_result"
    }
   ],
   "source": [
    "stda['id']"
   ]
  },
  {
   "cell_type": "code",
   "execution_count": 13,
   "metadata": {},
   "outputs": [
    {
     "data": {
      "text/plain": [
       "array([' 2023-01-11', ' 2023-01-12', ' 2023-01-13', ' 2023-01-14',\n",
       "       ' 2023-01-15', ' 2023-01-16', ' 2023-01-17', ' 2023-01-18',\n",
       "       ' 2023-01-19', ' 2023-01-20', ' 2023-01-21', ' 2023-01-22',\n",
       "       ' 2023-01-23', ' 2023-01-24', ' 2023-01-25', ' 2023-01-26',\n",
       "       ' 2023-01-27', ' 2023-01-28', ' 2023-01-29', ' 2023-01-30',\n",
       "       ' 2023-01-31', ' 2023-02-01', ' 2023-02-02', ' 2023-02-03',\n",
       "       ' 2023-02-04', ' 2023-02-05', ' 2023-02-06', ' 2023-02-07',\n",
       "       ' 2023-02-08', ' 2023-02-09', ' 2023-02-10', ' 2023-02-11',\n",
       "       ' 2023-02-12', ' 2023-02-13', ' 2023-02-14', ' 2023-02-15',\n",
       "       ' 2023-02-16', ' 2023-02-17', ' 2023-02-18', ' 2023-02-19',\n",
       "       ' 2023-02-20', ' 2023-02-21', ' 2023-02-22', ' 2023-02-23',\n",
       "       ' 2023-02-24', ' 2023-02-25', ' 2023-02-26', ' 2023-02-27',\n",
       "       ' 2023-02-28', ' 2023-03-01', ' 2023-03-02', ' 2023-03-03',\n",
       "       ' 2023-03-04', ' 2023-03-05', ' 2023-03-06', ' 2023-03-07',\n",
       "       ' 2023-03-08', ' 2023-03-09', ' 2023-03-10', ' 2023-03-11',\n",
       "       ' 2023-03-12', ' 2023-03-13', ' 2023-03-14', ' 2023-03-15',\n",
       "       ' 2023-03-16', ' 2023-03-17', ' 2023-03-18', ' 2023-03-19',\n",
       "       ' 2023-03-20', ' 2023-03-21', ' 2023-03-22', ' 2023-03-23',\n",
       "       ' 2023-03-24', ' 2023-03-25', ' 2023-03-26', ' 2023-03-27',\n",
       "       ' 2023-03-28', ' 2023-03-29', ' 2023-03-30', ' 2023-03-31',\n",
       "       ' 2023-04-01', ' 2023-04-02', ' 2023-04-03', ' 2023-04-04',\n",
       "       ' 2023-04-05', ' 2023-04-06', ' 2023-04-07', ' 2023-04-08',\n",
       "       ' 2023-04-09', ' 2023-04-10', ' 2023-04-11', ' 2023-04-12',\n",
       "       ' 2023-04-13', ' 2023-04-14', ' 2023-04-15', ' 2023-04-16',\n",
       "       ' 2023-04-17', ' 2023-04-18', ' 2023-04-19', ' 2023-04-20',\n",
       "       ' 2023-04-21', ' 2023-04-22', ' 2023-04-23', ' 2023-04-24',\n",
       "       ' 2023-04-25', ' 2023-04-26', ' 2023-04-27', ' 2023-04-28',\n",
       "       ' 2023-04-29', ' 2023-04-30', ' 2023-05-01', ' 2023-05-02',\n",
       "       ' 2023-05-03', ' 2023-05-04', ' 2023-05-05', ' 2023-05-06',\n",
       "       ' 2023-05-07', ' 2023-05-08', ' 2023-05-09', ' 2023-05-10',\n",
       "       ' 2023-05-11', ' 2023-05-12', ' 2023-05-13', ' 2023-05-14',\n",
       "       ' 2023-05-15', ' 2023-05-16', ' 2023-05-17', ' 2023-05-18',\n",
       "       ' 2023-05-19', ' 2023-05-20', ' 2023-05-21', ' 2023-05-22',\n",
       "       ' 2023-05-23', ' 2023-05-24', ' 2023-05-25', ' 2023-05-26',\n",
       "       ' 2023-05-27', ' 2023-05-28', ' 2023-05-29', ' 2023-05-30',\n",
       "       ' 2023-05-31', ' 2023-06-01', ' 2023-06-02', ' 2023-06-03',\n",
       "       ' 2023-06-04', ' 2023-06-05', ' 2023-06-06', ' 2023-06-07',\n",
       "       ' 2023-06-08', ' 2023-06-09', ' 2023-06-10', ' 2023-06-11',\n",
       "       ' 2023-06-12', ' 2023-06-13', ' 2023-06-14', ' 2023-06-15',\n",
       "       ' 2023-06-16', ' 2023-06-17', ' 2023-06-18', ' 2023-06-19',\n",
       "       ' 2023-06-20', ' 2023-06-21', ' 2023-06-22', ' 2023-06-23',\n",
       "       ' 2023-06-24', ' 2023-06-25', ' 2023-06-26', ' 2023-06-27',\n",
       "       ' 2023-06-28', ' 2023-06-29', ' 2023-06-30', ' 2023-07-01',\n",
       "       ' 2023-07-02', ' 2023-07-03', ' 2023-07-04', ' 2023-07-05',\n",
       "       ' 2023-07-06', ' 2023-07-07', ' 2023-07-08', ' 2023-07-09',\n",
       "       ' 2023-07-10', ' 2023-07-11', ' 2023-07-12', ' 2023-07-13',\n",
       "       ' 2023-07-14', ' 2023-07-15', ' 2023-07-16', ' 2023-07-17',\n",
       "       ' 2023-07-18', ' 2023-07-19', ' 2023-07-20', ' 2023-07-21',\n",
       "       ' 2023-07-22', ' 2023-07-23', ' 2023-07-24', ' 2023-07-25',\n",
       "       ' 2023-07-26', ' 2023-07-27', ' 2023-07-28', ' 2023-07-29',\n",
       "       ' 2023-07-30', ' 2023-07-31', ' 2023-08-01', ' 2023-08-02',\n",
       "       ' 2023-08-03', ' 2023-08-04', ' 2023-08-05', ' 2023-08-06',\n",
       "       ' 2023-08-07', ' 2023-08-08', ' 2023-08-09', ' 2023-08-10',\n",
       "       ' 2023-08-11', ' 2023-08-12', ' 2023-08-13', ' 2023-08-14',\n",
       "       ' 2023-08-15', ' 2023-08-16', ' 2023-08-17', ' 2023-08-18',\n",
       "       ' 2023-08-19', ' 2023-08-20', ' 2023-08-21', ' 2023-08-22',\n",
       "       ' 2023-08-23', ' 2023-08-24', ' 2023-08-25', ' 2023-08-26',\n",
       "       ' 2023-08-27', ' 2023-08-28', ' 2023-08-29', ' 2023-08-30',\n",
       "       ' 2023-08-31', ' 2023-09-01', ' 2023-09-02', ' 2023-09-03',\n",
       "       ' 2023-09-04', ' 2023-09-05', ' 2023-09-06', ' 2023-09-07',\n",
       "       ' 2023-09-08', ' 2023-09-09', ' 2023-09-10', ' 2023-09-11',\n",
       "       ' 2023-09-12', ' 2023-09-13', ' 2023-09-14', ' 2023-09-15',\n",
       "       ' 2023-09-16', ' 2023-09-17', ' 2023-09-18', ' 2023-09-19',\n",
       "       ' 2023-09-20', ' 2023-09-21', ' 2023-09-22', ' 2023-09-23',\n",
       "       ' 2023-09-24', ' 2023-09-25', ' 2023-09-26', ' 2023-09-27',\n",
       "       ' 2023-09-28', ' 2023-09-29', ' 2023-09-30', ' 2023-10-01',\n",
       "       ' 2023-10-02', ' 2023-10-03', ' 2023-10-04', ' 2023-10-05',\n",
       "       ' 2023-10-06', ' 2023-10-07', ' 2023-10-08', ' 2023-10-09',\n",
       "       ' 2023-10-10', ' 2023-10-11', ' 2023-10-12', ' 2023-10-13',\n",
       "       ' 2023-10-14', ' 2023-10-15', ' 2023-10-16', ' 2023-10-17',\n",
       "       ' 2023-10-18', ' 2023-10-19', ' 2023-10-20', ' 2023-10-21',\n",
       "       ' 2023-10-22', ' 2023-10-23', ' 2023-10-24', ' 2023-10-25',\n",
       "       ' 2023-10-26', ' 2023-10-27', ' 2023-10-28', ' 2023-10-29',\n",
       "       ' 2023-10-30', ' 2023-10-31', ' 2023-11-01', ' 2023-11-02',\n",
       "       ' 2023-11-03', ' 2023-11-04', ' 2023-11-05', ' 2023-11-06',\n",
       "       ' 2023-11-07', ' 2023-11-08', ' 2023-11-09', ' 2023-11-10',\n",
       "       ' 2023-11-11', ' 2023-11-12', ' 2023-11-13', ' 2023-11-14',\n",
       "       ' 2023-11-15', ' 2023-11-16', ' 2023-11-17', ' 2023-11-18',\n",
       "       ' 2023-11-19', ' 2023-11-20', ' 2023-11-21', ' 2023-11-22',\n",
       "       ' 2023-11-23', ' 2023-11-24', ' 2023-11-25', ' 2023-11-26',\n",
       "       ' 2023-11-27', ' 2023-11-28', ' 2023-11-29', ' 2023-11-30',\n",
       "       ' 2023-12-01', ' 2023-12-02', ' 2023-12-03', ' 2023-12-04',\n",
       "       ' 2023-12-05', ' 2023-12-06', ' 2023-12-07', ' 2023-12-08',\n",
       "       ' 2023-12-09', ' 2023-12-10', ' 2023-12-11', ' 2023-12-12',\n",
       "       ' 2023-12-13', ' 2023-12-14', ' 2023-12-15', ' 2023-12-16',\n",
       "       ' 2023-12-17', ' 2023-12-18', ' 2023-12-19', ' 2023-12-20',\n",
       "       ' 2023-12-21', ' 2023-12-22', ' 2023-12-23', ' 2023-12-24',\n",
       "       ' 2023-12-25', ' 2023-12-26', ' 2023-12-27', ' 2023-12-28',\n",
       "       ' 2023-12-29', ' 2023-12-30', ' 2023-12-31'], dtype='<U20')"
      ]
     },
     "execution_count": 13,
     "metadata": {},
     "output_type": "execute_result"
    }
   ],
   "source": [
    "stda['date']"
   ]
  },
  {
   "cell_type": "code",
   "execution_count": 15,
   "metadata": {},
   "outputs": [],
   "source": [
    "import pickle\n",
    "pickle.dump([1,2,3,4,5], open('f.bin', 'wb'))"
   ]
  },
  {
   "cell_type": "code",
   "execution_count": 16,
   "metadata": {},
   "outputs": [
    {
     "data": {
      "text/plain": [
       "b'\\x80\\x04\\x95\\x0f\\x00\\x00\\x00\\x00\\x00\\x00\\x00]\\x94(K\\x01K\\x02K\\x03K\\x04K\\x05e.'"
      ]
     },
     "execution_count": 16,
     "metadata": {},
     "output_type": "execute_result"
    }
   ],
   "source": [
    "pickle.dumps([1,2,3,4,5])"
   ]
  },
  {
   "cell_type": "code",
   "execution_count": 17,
   "metadata": {},
   "outputs": [
    {
     "data": {
      "text/plain": [
       "[1, 2, 3, 4, 5]"
      ]
     },
     "execution_count": 17,
     "metadata": {},
     "output_type": "execute_result"
    }
   ],
   "source": [
    "pickle.load(open('f.bin', 'rb'))"
   ]
  },
  {
   "cell_type": "code",
   "execution_count": 18,
   "metadata": {},
   "outputs": [
    {
     "data": {
      "text/plain": [
       "<function _pickle.loads(data, /, *, fix_imports=True, encoding='ASCII', errors='strict', buffers=())>"
      ]
     },
     "execution_count": 18,
     "metadata": {},
     "output_type": "execute_result"
    }
   ],
   "source": [
    "pickle.loads"
   ]
  },
  {
   "cell_type": "code",
   "execution_count": 19,
   "metadata": {},
   "outputs": [],
   "source": [
    "a = np.array([1,2,3,4])\n",
    "np.save('myfile.npy', a)"
   ]
  },
  {
   "cell_type": "code",
   "execution_count": 20,
   "metadata": {},
   "outputs": [
    {
     "data": {
      "text/plain": [
       "array([1, 2, 3, 4])"
      ]
     },
     "execution_count": 20,
     "metadata": {},
     "output_type": "execute_result"
    }
   ],
   "source": [
    "np.load('myfile.npy')"
   ]
  },
  {
   "cell_type": "code",
   "execution_count": 21,
   "metadata": {},
   "outputs": [],
   "source": [
    "np.save('myfile.npy', a, allow_pickle=False) # by default is False"
   ]
  },
  {
   "cell_type": "code",
   "execution_count": 22,
   "metadata": {},
   "outputs": [],
   "source": [
    "np.savez(\n",
    "    'f.npz',\n",
    "    np.arange(10),\n",
    "    np.arange(30, 40),\n",
    ")"
   ]
  },
  {
   "cell_type": "code",
   "execution_count": 24,
   "metadata": {},
   "outputs": [
    {
     "data": {
      "text/plain": [
       "NpzFile 'f.npz' with keys: arr_0, arr_1"
      ]
     },
     "execution_count": 24,
     "metadata": {},
     "output_type": "execute_result"
    }
   ],
   "source": [
    "np.load('f.npz')"
   ]
  },
  {
   "cell_type": "code",
   "execution_count": 25,
   "metadata": {},
   "outputs": [
    {
     "data": {
      "text/plain": [
       "array([0, 1, 2, 3, 4, 5, 6, 7, 8, 9])"
      ]
     },
     "execution_count": 25,
     "metadata": {},
     "output_type": "execute_result"
    }
   ],
   "source": [
    "np.load('f.npz')['arr_0']"
   ]
  },
  {
   "cell_type": "code",
   "execution_count": 26,
   "metadata": {},
   "outputs": [],
   "source": [
    "np.savez(\n",
    "    'f.npz',\n",
    "    x=np.arange(10),\n",
    "    y=np.arange(30, 40),\n",
    ")"
   ]
  },
  {
   "cell_type": "code",
   "execution_count": 27,
   "metadata": {},
   "outputs": [
    {
     "data": {
      "text/plain": [
       "array([0, 1, 2, 3, 4, 5, 6, 7, 8, 9])"
      ]
     },
     "execution_count": 27,
     "metadata": {},
     "output_type": "execute_result"
    }
   ],
   "source": [
    "np.load('f.npz')['x']"
   ]
  },
  {
   "cell_type": "code",
   "execution_count": 30,
   "metadata": {},
   "outputs": [
    {
     "data": {
      "text/plain": [
       "(array([0, 1, 2, 3, 4, 5, 6, 7, 8, 9]),\n",
       " array([30, 31, 32, 33, 34, 35, 36, 37, 38, 39]))"
      ]
     },
     "execution_count": 30,
     "metadata": {},
     "output_type": "execute_result"
    }
   ],
   "source": [
    "f,t = np.load('f.npz').values()\n",
    "f, t"
   ]
  },
  {
   "cell_type": "code",
   "execution_count": 1,
   "metadata": {},
   "outputs": [],
   "source": [
    "# Linear Algebra"
   ]
  },
  {
   "cell_type": "code",
   "execution_count": 2,
   "metadata": {},
   "outputs": [],
   "source": [
    "import numpy as np"
   ]
  },
  {
   "cell_type": "code",
   "execution_count": 3,
   "metadata": {},
   "outputs": [
    {
     "data": {
      "text/plain": [
       "numpy.matrix"
      ]
     },
     "execution_count": 3,
     "metadata": {},
     "output_type": "execute_result"
    }
   ],
   "source": [
    "np.matrix # 2 Dimensional ndarray"
   ]
  },
  {
   "cell_type": "code",
   "execution_count": 4,
   "metadata": {},
   "outputs": [
    {
     "data": {
      "text/plain": [
       "matrix([[0, 1, 2],\n",
       "        [3, 4, 5],\n",
       "        [6, 7, 8]])"
      ]
     },
     "execution_count": 4,
     "metadata": {},
     "output_type": "execute_result"
    }
   ],
   "source": [
    "np.matrix( np.arange(9).reshape(3, 3) )"
   ]
  },
  {
   "cell_type": "code",
   "execution_count": 6,
   "metadata": {},
   "outputs": [
    {
     "data": {
      "text/plain": [
       "matrix([[0, 1, 2],\n",
       "        [3, 4, 5],\n",
       "        [6, 7, 8]])"
      ]
     },
     "execution_count": 6,
     "metadata": {},
     "output_type": "execute_result"
    }
   ],
   "source": [
    "np.mat( np.arange(9).reshape(3, 3) )"
   ]
  },
  {
   "cell_type": "code",
   "execution_count": 7,
   "metadata": {},
   "outputs": [
    {
     "data": {
      "text/plain": [
       "matrix([[0, 1, 2],\n",
       "        [3, 4, 5],\n",
       "        [6, 7, 8]])"
      ]
     },
     "execution_count": 7,
     "metadata": {},
     "output_type": "execute_result"
    }
   ],
   "source": [
    "np.mat('0,1,2; 3,4,5; 6,7,8')"
   ]
  },
  {
   "cell_type": "code",
   "execution_count": 9,
   "metadata": {},
   "outputs": [
    {
     "data": {
      "text/plain": [
       "matrix([[ 15,  18,  21],\n",
       "        [ 42,  54,  66],\n",
       "        [ 69,  90, 111]])"
      ]
     },
     "execution_count": 9,
     "metadata": {},
     "output_type": "execute_result"
    }
   ],
   "source": [
    "m = np.mat('0,1,2; 3,4,5; 6,7,8')\n",
    "m * m # zarbe matrisi hast va ba zarbe ndarray ha fargh mikone"
   ]
  },
  {
   "cell_type": "code",
   "execution_count": 10,
   "metadata": {},
   "outputs": [],
   "source": [
    "# . (dot) zarbe matrisi ast"
   ]
  },
  {
   "cell_type": "code",
   "execution_count": 12,
   "metadata": {},
   "outputs": [
    {
     "data": {
      "text/plain": [
       "matrix([[ 0,  1,  4],\n",
       "        [ 9, 16, 25],\n",
       "        [36, 49, 64]])"
      ]
     },
     "execution_count": 12,
     "metadata": {},
     "output_type": "execute_result"
    }
   ],
   "source": [
    "np.multiply(m, m) # zarbe be sorate narray na matrisi"
   ]
  },
  {
   "cell_type": "code",
   "execution_count": 13,
   "metadata": {},
   "outputs": [],
   "source": [
    "# @ ham zarbe matrisi ast"
   ]
  },
  {
   "cell_type": "code",
   "execution_count": 14,
   "metadata": {},
   "outputs": [
    {
     "data": {
      "text/plain": [
       "matrix([[ 15,  18,  21],\n",
       "        [ 42,  54,  66],\n",
       "        [ 69,  90, 111]])"
      ]
     },
     "execution_count": 14,
     "metadata": {},
     "output_type": "execute_result"
    }
   ],
   "source": [
    "m @ m"
   ]
  },
  {
   "cell_type": "code",
   "execution_count": 15,
   "metadata": {},
   "outputs": [
    {
     "data": {
      "text/plain": [
       "matrix([[ 15,  18,  21],\n",
       "        [ 42,  54,  66],\n",
       "        [ 69,  90, 111]])"
      ]
     },
     "execution_count": 15,
     "metadata": {},
     "output_type": "execute_result"
    }
   ],
   "source": [
    "m * m"
   ]
  },
  {
   "cell_type": "code",
   "execution_count": 16,
   "metadata": {},
   "outputs": [
    {
     "data": {
      "text/plain": [
       "matrix([[ 15,  18,  21],\n",
       "        [ 42,  54,  66],\n",
       "        [ 69,  90, 111]])"
      ]
     },
     "execution_count": 16,
     "metadata": {},
     "output_type": "execute_result"
    }
   ],
   "source": [
    "np.dot(m,m)"
   ]
  },
  {
   "cell_type": "code",
   "execution_count": 19,
   "metadata": {},
   "outputs": [
    {
     "data": {
      "text/plain": [
       "matrix([[0, 1, 2],\n",
       "        [3, 4, 5],\n",
       "        [6, 7, 8]])"
      ]
     },
     "execution_count": 19,
     "metadata": {},
     "output_type": "execute_result"
    }
   ],
   "source": [
    "m"
   ]
  },
  {
   "cell_type": "code",
   "execution_count": 20,
   "metadata": {},
   "outputs": [
    {
     "ename": "LinAlgError",
     "evalue": "Singular matrix",
     "output_type": "error",
     "traceback": [
      "\u001b[1;31m---------------------------------------------------------------------------\u001b[0m",
      "\u001b[1;31mLinAlgError\u001b[0m                               Traceback (most recent call last)",
      "\u001b[1;32mc:\\Users\\Amir\\Desktop\\Pytopia ML 2022\\00-Practices\\3-numpy.ipynb Cell 323\u001b[0m line \u001b[0;36m1\n\u001b[1;32m----> <a href='vscode-notebook-cell:/c%3A/Users/Amir/Desktop/Pytopia%20ML%202022/00-Practices/3-numpy.ipynb#Y644sZmlsZQ%3D%3D?line=0'>1</a>\u001b[0m m\u001b[39m.\u001b[39;49mI\n",
      "File \u001b[1;32md:\\dev\\venv\\Lib\\site-packages\\numpy\\matrixlib\\defmatrix.py:836\u001b[0m, in \u001b[0;36mmatrix.I\u001b[1;34m(self)\u001b[0m\n\u001b[0;32m    834\u001b[0m \u001b[39melse\u001b[39;00m:\n\u001b[0;32m    835\u001b[0m     \u001b[39mfrom\u001b[39;00m \u001b[39mnumpy\u001b[39;00m\u001b[39m.\u001b[39;00m\u001b[39mlinalg\u001b[39;00m \u001b[39mimport\u001b[39;00m pinv \u001b[39mas\u001b[39;00m func\n\u001b[1;32m--> 836\u001b[0m \u001b[39mreturn\u001b[39;00m asmatrix(func(\u001b[39mself\u001b[39;49m))\n",
      "File \u001b[1;32md:\\dev\\venv\\Lib\\site-packages\\numpy\\linalg\\linalg.py:561\u001b[0m, in \u001b[0;36minv\u001b[1;34m(a)\u001b[0m\n\u001b[0;32m    559\u001b[0m signature \u001b[39m=\u001b[39m \u001b[39m'\u001b[39m\u001b[39mD->D\u001b[39m\u001b[39m'\u001b[39m \u001b[39mif\u001b[39;00m isComplexType(t) \u001b[39melse\u001b[39;00m \u001b[39m'\u001b[39m\u001b[39md->d\u001b[39m\u001b[39m'\u001b[39m\n\u001b[0;32m    560\u001b[0m extobj \u001b[39m=\u001b[39m get_linalg_error_extobj(_raise_linalgerror_singular)\n\u001b[1;32m--> 561\u001b[0m ainv \u001b[39m=\u001b[39m _umath_linalg\u001b[39m.\u001b[39;49minv(a, signature\u001b[39m=\u001b[39;49msignature, extobj\u001b[39m=\u001b[39;49mextobj)\n\u001b[0;32m    562\u001b[0m \u001b[39mreturn\u001b[39;00m wrap(ainv\u001b[39m.\u001b[39mastype(result_t, copy\u001b[39m=\u001b[39m\u001b[39mFalse\u001b[39;00m))\n",
      "File \u001b[1;32md:\\dev\\venv\\Lib\\site-packages\\numpy\\linalg\\linalg.py:112\u001b[0m, in \u001b[0;36m_raise_linalgerror_singular\u001b[1;34m(err, flag)\u001b[0m\n\u001b[0;32m    111\u001b[0m \u001b[39mdef\u001b[39;00m \u001b[39m_raise_linalgerror_singular\u001b[39m(err, flag):\n\u001b[1;32m--> 112\u001b[0m     \u001b[39mraise\u001b[39;00m LinAlgError(\u001b[39m\"\u001b[39m\u001b[39mSingular matrix\u001b[39m\u001b[39m\"\u001b[39m)\n",
      "\u001b[1;31mLinAlgError\u001b[0m: Singular matrix"
     ]
    }
   ],
   "source": [
    "m.I"
   ]
  },
  {
   "cell_type": "code",
   "execution_count": 23,
   "metadata": {},
   "outputs": [
    {
     "data": {
      "text/plain": [
       "matrix([[0.70053799, 0.98505773, 0.20190764],\n",
       "        [0.35621783, 0.57978889, 0.17049653],\n",
       "        [0.16899429, 0.13878801, 0.3128785 ]])"
      ]
     },
     "execution_count": 23,
     "metadata": {},
     "output_type": "execute_result"
    }
   ],
   "source": [
    "# m.I # agar mesle yek seri bashe va beshe az ro ham hesab karedeshon masalan radife aval ro mishe az roye radife dovom va belaks hesab kard\n",
    "\n",
    "np.matrix( np.random.random(9).reshape(3,3) )"
   ]
  },
  {
   "cell_type": "code",
   "execution_count": 28,
   "metadata": {},
   "outputs": [
    {
     "data": {
      "text/plain": [
       "array([[4.16441290e-01, 1.45246942e-01, 1.03006216e-02],\n",
       "       [3.59746128e-01, 7.57595390e-01, 2.92995586e-01],\n",
       "       [3.72698340e-04, 7.47705163e-01, 1.72306727e-01]])"
      ]
     },
     "execution_count": 28,
     "metadata": {},
     "output_type": "execute_result"
    }
   ],
   "source": [
    "a = np.random.random(9).reshape(3, 3)\n",
    "a"
   ]
  },
  {
   "cell_type": "code",
   "execution_count": 29,
   "metadata": {},
   "outputs": [
    {
     "data": {
      "text/plain": [
       "array([[ 2.05468583,  0.40207403, -0.80652949],\n",
       "       [ 1.43601985, -1.6651778 ,  2.74567254],\n",
       "       [-6.23588675,  7.22497729, -6.10918077]])"
      ]
     },
     "execution_count": 29,
     "metadata": {},
     "output_type": "execute_result"
    }
   ],
   "source": [
    "np.linalg.inv(a)"
   ]
  },
  {
   "cell_type": "code",
   "execution_count": 33,
   "metadata": {},
   "outputs": [
    {
     "data": {
      "text/plain": [
       "array([0, 1, 2, 3, 4, 5, 6, 7, 8])"
      ]
     },
     "execution_count": 33,
     "metadata": {},
     "output_type": "execute_result"
    }
   ],
   "source": [
    "m.A1 # array shode mide flatten"
   ]
  },
  {
   "cell_type": "code",
   "execution_count": 34,
   "metadata": {},
   "outputs": [
    {
     "data": {
      "text/plain": [
       "array([[0, 1, 2],\n",
       "       [3, 4, 5],\n",
       "       [6, 7, 8]])"
      ]
     },
     "execution_count": 34,
     "metadata": {},
     "output_type": "execute_result"
    }
   ],
   "source": [
    "m.A"
   ]
  },
  {
   "cell_type": "code",
   "execution_count": 35,
   "metadata": {},
   "outputs": [
    {
     "data": {
      "text/plain": [
       "<function vdot at 0x000002883FE11EF0>"
      ]
     },
     "execution_count": 35,
     "metadata": {},
     "output_type": "execute_result"
    }
   ],
   "source": [
    "np.vdot # vertcal dot"
   ]
  },
  {
   "cell_type": "code",
   "execution_count": 36,
   "metadata": {},
   "outputs": [
    {
     "data": {
      "text/plain": [
       "<function dot at 0x000002883FE11D70>"
      ]
     },
     "execution_count": 36,
     "metadata": {},
     "output_type": "execute_result"
    }
   ],
   "source": [
    "np.dot"
   ]
  },
  {
   "cell_type": "code",
   "execution_count": 37,
   "metadata": {},
   "outputs": [
    {
     "data": {
      "text/plain": [
       "<function outer at 0x000002884E042630>"
      ]
     },
     "execution_count": 37,
     "metadata": {},
     "output_type": "execute_result"
    }
   ],
   "source": [
    "np.outer # outer product"
   ]
  },
  {
   "cell_type": "code",
   "execution_count": 38,
   "metadata": {},
   "outputs": [
    {
     "data": {
      "text/plain": [
       "<function cross at 0x000002884E042D30>"
      ]
     },
     "execution_count": 38,
     "metadata": {},
     "output_type": "execute_result"
    }
   ],
   "source": [
    "np.cross # do bordar -> yek bordar ke amode bar jofteshon"
   ]
  },
  {
   "cell_type": "code",
   "execution_count": 39,
   "metadata": {},
   "outputs": [
    {
     "data": {
      "text/plain": [
       "<function det at 0x000002884E14AD30>"
      ]
     },
     "execution_count": 39,
     "metadata": {},
     "output_type": "execute_result"
    }
   ],
   "source": [
    "np.linalg.det # determinan"
   ]
  },
  {
   "cell_type": "code",
   "execution_count": 41,
   "metadata": {},
   "outputs": [
    {
     "data": {
      "text/plain": [
       "0.0"
      ]
     },
     "execution_count": 41,
     "metadata": {},
     "output_type": "execute_result"
    }
   ],
   "source": [
    "np.linalg.det(m)"
   ]
  },
  {
   "cell_type": "code",
   "execution_count": 42,
   "metadata": {},
   "outputs": [
    {
     "data": {
      "text/plain": [
       "-0.04308957071148012"
      ]
     },
     "execution_count": 42,
     "metadata": {},
     "output_type": "execute_result"
    }
   ],
   "source": [
    "np.linalg.det(a)"
   ]
  },
  {
   "cell_type": "code",
   "execution_count": 43,
   "metadata": {},
   "outputs": [
    {
     "data": {
      "text/plain": [
       "<function solve at 0x000002884E0411B0>"
      ]
     },
     "execution_count": 43,
     "metadata": {},
     "output_type": "execute_result"
    }
   ],
   "source": [
    "np.linalg.solve"
   ]
  },
  {
   "cell_type": "code",
   "execution_count": 46,
   "metadata": {},
   "outputs": [
    {
     "data": {
      "text/plain": [
       "<function eig at 0x000002884E14A4B0>"
      ]
     },
     "execution_count": 46,
     "metadata": {},
     "output_type": "execute_result"
    }
   ],
   "source": [
    "np.linalg.eig # maghadire vizhe"
   ]
  },
  {
   "cell_type": "code",
   "execution_count": 48,
   "metadata": {},
   "outputs": [
    {
     "data": {
      "text/plain": [
       "SVDResult(U=matrix([[-0.13511895,  0.90281571,  0.40824829],\n",
       "        [-0.49633514,  0.29493179, -0.81649658],\n",
       "        [-0.85755134, -0.31295213,  0.40824829]]), S=array([1.42267074e+01, 1.26522599e+00, 5.89938022e-16]), Vh=matrix([[-0.4663281 , -0.57099079, -0.67565348],\n",
       "        [-0.78477477, -0.08545673,  0.61386131],\n",
       "        [-0.40824829,  0.81649658, -0.40824829]]))"
      ]
     },
     "execution_count": 48,
     "metadata": {},
     "output_type": "execute_result"
    }
   ],
   "source": [
    "np.linalg.svd(m)"
   ]
  },
  {
   "cell_type": "code",
   "execution_count": 49,
   "metadata": {},
   "outputs": [
    {
     "data": {
      "text/plain": [
       "<function allclose at 0x000002884E043130>"
      ]
     },
     "execution_count": 49,
     "metadata": {},
     "output_type": "execute_result"
    }
   ],
   "source": [
    "np.allclose"
   ]
  },
  {
   "cell_type": "code",
   "execution_count": 50,
   "metadata": {},
   "outputs": [
    {
     "data": {
      "text/plain": [
       "<function qr at 0x000002884E14A170>"
      ]
     },
     "execution_count": 50,
     "metadata": {},
     "output_type": "execute_result"
    }
   ],
   "source": [
    "np.linalg.qr"
   ]
  },
  {
   "cell_type": "code",
   "execution_count": 51,
   "metadata": {},
   "outputs": [
    {
     "data": {
      "text/plain": [
       "<function inv at 0x000002884E149D70>"
      ]
     },
     "execution_count": 51,
     "metadata": {},
     "output_type": "execute_result"
    }
   ],
   "source": [
    "np.linalg.inv"
   ]
  },
  {
   "cell_type": "code",
   "execution_count": 52,
   "metadata": {},
   "outputs": [
    {
     "data": {
      "text/plain": [
       "<function poly at 0x000002884E1A14F0>"
      ]
     },
     "execution_count": 52,
     "metadata": {},
     "output_type": "execute_result"
    }
   ],
   "source": [
    "np.poly # chand jomle ey"
   ]
  },
  {
   "cell_type": "code",
   "execution_count": 54,
   "metadata": {},
   "outputs": [
    {
     "data": {
      "text/plain": [
       "<function roots at 0x000002884E1A1670>"
      ]
     },
     "execution_count": 54,
     "metadata": {},
     "output_type": "execute_result"
    }
   ],
   "source": [
    "np.roots # rishe haye ye moadeleye chand jomle ey ro mide"
   ]
  },
  {
   "cell_type": "code",
   "execution_count": 55,
   "metadata": {},
   "outputs": [
    {
     "data": {
      "text/plain": [
       "array([0.48])"
      ]
     },
     "execution_count": 55,
     "metadata": {},
     "output_type": "execute_result"
    }
   ],
   "source": [
    "np.roots([-50, 24]) # -50x + 24 -> x=24/50=12/25"
   ]
  },
  {
   "cell_type": "code",
   "execution_count": 56,
   "metadata": {},
   "outputs": [
    {
     "data": {
      "text/plain": [
       "<function polyval at 0x000002884E1A1BF0>"
      ]
     },
     "execution_count": 56,
     "metadata": {},
     "output_type": "execute_result"
    }
   ],
   "source": [
    "np.polyval # mohasebeye x"
   ]
  },
  {
   "cell_type": "code",
   "execution_count": 58,
   "metadata": {},
   "outputs": [
    {
     "data": {
      "text/plain": [
       "265"
      ]
     },
     "execution_count": 58,
     "metadata": {},
     "output_type": "execute_result"
    }
   ],
   "source": [
    "np.polyval([3, -5], 90) # 3x -5 = 90 -> x=265"
   ]
  },
  {
   "cell_type": "code",
   "execution_count": 60,
   "metadata": {},
   "outputs": [
    {
     "data": {
      "text/plain": [
       "<function polyint at 0x000002884E1A17F0>"
      ]
     },
     "execution_count": 60,
     "metadata": {},
     "output_type": "execute_result"
    }
   ],
   "source": [
    "np.polyint # integral"
   ]
  },
  {
   "cell_type": "code",
   "execution_count": 61,
   "metadata": {},
   "outputs": [
    {
     "data": {
      "text/plain": [
       "<function polyder at 0x000002884E1A1970>"
      ]
     },
     "execution_count": 61,
     "metadata": {},
     "output_type": "execute_result"
    }
   ],
   "source": [
    "np.polyder # derevitive"
   ]
  },
  {
   "cell_type": "code",
   "execution_count": 63,
   "metadata": {},
   "outputs": [
    {
     "name": "stdout",
     "output_type": "stream",
     "text": [
      "\n",
      "Discrete Fourier Transform (:mod:`numpy.fft`)\n",
      "=============================================\n",
      "\n",
      ".. currentmodule:: numpy.fft\n",
      "\n",
      "The SciPy module `scipy.fft` is a more comprehensive superset\n",
      "of ``numpy.fft``, which includes only a basic set of routines.\n",
      "\n",
      "Standard FFTs\n",
      "-------------\n",
      "\n",
      ".. autosummary::\n",
      "   :toctree: generated/\n",
      "\n",
      "   fft       Discrete Fourier transform.\n",
      "   ifft      Inverse discrete Fourier transform.\n",
      "   fft2      Discrete Fourier transform in two dimensions.\n",
      "   ifft2     Inverse discrete Fourier transform in two dimensions.\n",
      "   fftn      Discrete Fourier transform in N-dimensions.\n",
      "   ifftn     Inverse discrete Fourier transform in N dimensions.\n",
      "\n",
      "Real FFTs\n",
      "---------\n",
      "\n",
      ".. autosummary::\n",
      "   :toctree: generated/\n",
      "\n",
      "   rfft      Real discrete Fourier transform.\n",
      "   irfft     Inverse real discrete Fourier transform.\n",
      "   rfft2     Real discrete Fourier transform in two dimensions.\n",
      "   irfft2    Inverse real discrete Fourier transform in two dimensions.\n",
      "   rfftn     Real discrete Fourier transform in N dimensions.\n",
      "   irfftn    Inverse real discrete Fourier transform in N dimensions.\n",
      "\n",
      "Hermitian FFTs\n",
      "--------------\n",
      "\n",
      ".. autosummary::\n",
      "   :toctree: generated/\n",
      "\n",
      "   hfft      Hermitian discrete Fourier transform.\n",
      "   ihfft     Inverse Hermitian discrete Fourier transform.\n",
      "\n",
      "Helper routines\n",
      "---------------\n",
      "\n",
      ".. autosummary::\n",
      "   :toctree: generated/\n",
      "\n",
      "   fftfreq   Discrete Fourier Transform sample frequencies.\n",
      "   rfftfreq  DFT sample frequencies (for usage with rfft, irfft).\n",
      "   fftshift  Shift zero-frequency component to center of spectrum.\n",
      "   ifftshift Inverse of fftshift.\n",
      "\n",
      "\n",
      "Background information\n",
      "----------------------\n",
      "\n",
      "Fourier analysis is fundamentally a method for expressing a function as a\n",
      "sum of periodic components, and for recovering the function from those\n",
      "components.  When both the function and its Fourier transform are\n",
      "replaced with discretized counterparts, it is called the discrete Fourier\n",
      "transform (DFT).  The DFT has become a mainstay of numerical computing in\n",
      "part because of a very fast algorithm for computing it, called the Fast\n",
      "Fourier Transform (FFT), which was known to Gauss (1805) and was brought\n",
      "to light in its current form by Cooley and Tukey [CT]_.  Press et al. [NR]_\n",
      "provide an accessible introduction to Fourier analysis and its\n",
      "applications.\n",
      "\n",
      "Because the discrete Fourier transform separates its input into\n",
      "components that contribute at discrete frequencies, it has a great number\n",
      "of applications in digital signal processing, e.g., for filtering, and in\n",
      "this context the discretized input to the transform is customarily\n",
      "referred to as a *signal*, which exists in the *time domain*.  The output\n",
      "is called a *spectrum* or *transform* and exists in the *frequency\n",
      "domain*.\n",
      "\n",
      "Implementation details\n",
      "----------------------\n",
      "\n",
      "There are many ways to define the DFT, varying in the sign of the\n",
      "exponent, normalization, etc.  In this implementation, the DFT is defined\n",
      "as\n",
      "\n",
      ".. math::\n",
      "   A_k =  \\sum_{m=0}^{n-1} a_m \\exp\\left\\{-2\\pi i{mk \\over n}\\right\\}\n",
      "   \\qquad k = 0,\\ldots,n-1.\n",
      "\n",
      "The DFT is in general defined for complex inputs and outputs, and a\n",
      "single-frequency component at linear frequency :math:`f` is\n",
      "represented by a complex exponential\n",
      ":math:`a_m = \\exp\\{2\\pi i\\,f m\\Delta t\\}`, where :math:`\\Delta t`\n",
      "is the sampling interval.\n",
      "\n",
      "The values in the result follow so-called \"standard\" order: If ``A =\n",
      "fft(a, n)``, then ``A[0]`` contains the zero-frequency term (the sum of\n",
      "the signal), which is always purely real for real inputs. Then ``A[1:n/2]``\n",
      "contains the positive-frequency terms, and ``A[n/2+1:]`` contains the\n",
      "negative-frequency terms, in order of decreasingly negative frequency.\n",
      "For an even number of input points, ``A[n/2]`` represents both positive and\n",
      "negative Nyquist frequency, and is also purely real for real input.  For\n",
      "an odd number of input points, ``A[(n-1)/2]`` contains the largest positive\n",
      "frequency, while ``A[(n+1)/2]`` contains the largest negative frequency.\n",
      "The routine ``np.fft.fftfreq(n)`` returns an array giving the frequencies\n",
      "of corresponding elements in the output.  The routine\n",
      "``np.fft.fftshift(A)`` shifts transforms and their frequencies to put the\n",
      "zero-frequency components in the middle, and ``np.fft.ifftshift(A)`` undoes\n",
      "that shift.\n",
      "\n",
      "When the input `a` is a time-domain signal and ``A = fft(a)``, ``np.abs(A)``\n",
      "is its amplitude spectrum and ``np.abs(A)**2`` is its power spectrum.\n",
      "The phase spectrum is obtained by ``np.angle(A)``.\n",
      "\n",
      "The inverse DFT is defined as\n",
      "\n",
      ".. math::\n",
      "   a_m = \\frac{1}{n}\\sum_{k=0}^{n-1}A_k\\exp\\left\\{2\\pi i{mk\\over n}\\right\\}\n",
      "   \\qquad m = 0,\\ldots,n-1.\n",
      "\n",
      "It differs from the forward transform by the sign of the exponential\n",
      "argument and the default normalization by :math:`1/n`.\n",
      "\n",
      "Type Promotion\n",
      "--------------\n",
      "\n",
      "`numpy.fft` promotes ``float32`` and ``complex64`` arrays to ``float64`` and\n",
      "``complex128`` arrays respectively. For an FFT implementation that does not\n",
      "promote input arrays, see `scipy.fftpack`.\n",
      "\n",
      "Normalization\n",
      "-------------\n",
      "\n",
      "The argument ``norm`` indicates which direction of the pair of direct/inverse\n",
      "transforms is scaled and with what normalization factor.\n",
      "The default normalization (``\"backward\"``) has the direct (forward) transforms\n",
      "unscaled and the inverse (backward) transforms scaled by :math:`1/n`. It is\n",
      "possible to obtain unitary transforms by setting the keyword argument ``norm``\n",
      "to ``\"ortho\"`` so that both direct and inverse transforms are scaled by\n",
      ":math:`1/\\sqrt{n}`. Finally, setting the keyword argument ``norm`` to\n",
      "``\"forward\"`` has the direct transforms scaled by :math:`1/n` and the inverse\n",
      "transforms unscaled (i.e. exactly opposite to the default ``\"backward\"``).\n",
      "`None` is an alias of the default option ``\"backward\"`` for backward\n",
      "compatibility.\n",
      "\n",
      "Real and Hermitian transforms\n",
      "-----------------------------\n",
      "\n",
      "When the input is purely real, its transform is Hermitian, i.e., the\n",
      "component at frequency :math:`f_k` is the complex conjugate of the\n",
      "component at frequency :math:`-f_k`, which means that for real\n",
      "inputs there is no information in the negative frequency components that\n",
      "is not already available from the positive frequency components.\n",
      "The family of `rfft` functions is\n",
      "designed to operate on real inputs, and exploits this symmetry by\n",
      "computing only the positive frequency components, up to and including the\n",
      "Nyquist frequency.  Thus, ``n`` input points produce ``n/2+1`` complex\n",
      "output points.  The inverses of this family assumes the same symmetry of\n",
      "its input, and for an output of ``n`` points uses ``n/2+1`` input points.\n",
      "\n",
      "Correspondingly, when the spectrum is purely real, the signal is\n",
      "Hermitian.  The `hfft` family of functions exploits this symmetry by\n",
      "using ``n/2+1`` complex points in the input (time) domain for ``n`` real\n",
      "points in the frequency domain.\n",
      "\n",
      "In higher dimensions, FFTs are used, e.g., for image analysis and\n",
      "filtering.  The computational efficiency of the FFT means that it can\n",
      "also be a faster way to compute large convolutions, using the property\n",
      "that a convolution in the time domain is equivalent to a point-by-point\n",
      "multiplication in the frequency domain.\n",
      "\n",
      "Higher dimensions\n",
      "-----------------\n",
      "\n",
      "In two dimensions, the DFT is defined as\n",
      "\n",
      ".. math::\n",
      "   A_{kl} =  \\sum_{m=0}^{M-1} \\sum_{n=0}^{N-1}\n",
      "   a_{mn}\\exp\\left\\{-2\\pi i \\left({mk\\over M}+{nl\\over N}\\right)\\right\\}\n",
      "   \\qquad k = 0, \\ldots, M-1;\\quad l = 0, \\ldots, N-1,\n",
      "\n",
      "which extends in the obvious way to higher dimensions, and the inverses\n",
      "in higher dimensions also extend in the same way.\n",
      "\n",
      "References\n",
      "----------\n",
      "\n",
      ".. [CT] Cooley, James W., and John W. Tukey, 1965, \"An algorithm for the\n",
      "        machine calculation of complex Fourier series,\" *Math. Comput.*\n",
      "        19: 297-301.\n",
      "\n",
      ".. [NR] Press, W., Teukolsky, S., Vetterline, W.T., and Flannery, B.P.,\n",
      "        2007, *Numerical Recipes: The Art of Scientific Computing*, ch.\n",
      "        12-13.  Cambridge Univ. Press, Cambridge, UK.\n",
      "\n",
      "Examples\n",
      "--------\n",
      "\n",
      "For examples, see the various functions.\n",
      "\n",
      "\n"
     ]
    }
   ],
   "source": [
    "print(np.fft.__doc__) # Fourier Transform"
   ]
  },
  {
   "cell_type": "code",
   "execution_count": null,
   "metadata": {},
   "outputs": [],
   "source": []
  }
 ],
 "metadata": {
  "kernelspec": {
   "display_name": "venv",
   "language": "python",
   "name": "python3"
  },
  "language_info": {
   "codemirror_mode": {
    "name": "ipython",
    "version": 3
   },
   "file_extension": ".py",
   "mimetype": "text/x-python",
   "name": "python",
   "nbconvert_exporter": "python",
   "pygments_lexer": "ipython3",
   "version": "3.11.0"
  },
  "orig_nbformat": 4
 },
 "nbformat": 4,
 "nbformat_minor": 2
}
