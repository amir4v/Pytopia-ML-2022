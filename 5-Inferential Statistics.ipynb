{
 "cells": [
  {
   "cell_type": "code",
   "execution_count": 1,
   "metadata": {},
   "outputs": [],
   "source": [
    "# Population and Sample"
   ]
  },
  {
   "cell_type": "code",
   "execution_count": 2,
   "metadata": {},
   "outputs": [],
   "source": [
    "# Probability"
   ]
  },
  {
   "cell_type": "code",
   "execution_count": 3,
   "metadata": {},
   "outputs": [],
   "source": [
    "# Proportion = tanason\n",
    "# Fraction = kasr"
   ]
  },
  {
   "cell_type": "code",
   "execution_count": 4,
   "metadata": {},
   "outputs": [],
   "source": [
    "# Probability Distribution = tozie ehtemali"
   ]
  },
  {
   "cell_type": "code",
   "execution_count": 5,
   "metadata": {},
   "outputs": [],
   "source": [
    "# Addition Rule\n",
    "# Multiplication Rule"
   ]
  },
  {
   "cell_type": "code",
   "execution_count": 6,
   "metadata": {},
   "outputs": [],
   "source": [
    "# Addition Rule\n",
    "# they are mutually exclusive events\n",
    "# Pr(A or B) = pr(A) + Pr(B)"
   ]
  },
  {
   "cell_type": "code",
   "execution_count": 7,
   "metadata": {},
   "outputs": [],
   "source": [
    "# Multiplication Rule\n",
    "# they are indipendent events\n",
    "# Pr(A and B) = pr(A) * Pr(B)"
   ]
  },
  {
   "cell_type": "code",
   "execution_count": 8,
   "metadata": {},
   "outputs": [],
   "source": [
    "# Dependent Events\n",
    "# Conditional Probabilities"
   ]
  },
  {
   "cell_type": "code",
   "execution_count": 9,
   "metadata": {},
   "outputs": [],
   "source": [
    "# Sampling Distribution of the Mean"
   ]
  },
  {
   "cell_type": "code",
   "execution_count": 10,
   "metadata": {},
   "outputs": [
    {
     "data": {
      "text/plain": [
       "'\\nagar ma yek population dashte bashim va az in population masalan 50 bar va har bar 30 ta item bardarim\\nva az in sample ha mean begirim in mean ha distribution shon normal khahad bod!\\n'"
      ]
     },
     "execution_count": 10,
     "metadata": {},
     "output_type": "execute_result"
    }
   ],
   "source": [
    "\"\"\"\n",
    "agar ma yek population dashte bashim va az in population masalan 50 bar va har bar 30 ta item bardarim\n",
    "va az in sample ha mean begirim in mean ha distribution shon normal khahad bod!\n",
    "\"\"\""
   ]
  },
  {
   "cell_type": "code",
   "execution_count": 11,
   "metadata": {},
   "outputs": [
    {
     "data": {
      "text/plain": [
       "'\\nSample -> Mean=Xbar , Standard Deviation=s\\nPopulation -> Mean=mo(μ) , Standard Deviation=sigma(σ)\\nSampling Distribution of the Mean -> Mean=MoOfXbar(μ(of)Xbar) , Standard Deviation=SigmaOfXbar(σ(of)Xbar)\\n'"
      ]
     },
     "execution_count": 11,
     "metadata": {},
     "output_type": "execute_result"
    }
   ],
   "source": [
    "# Type of Distribution\n",
    "\"\"\"\n",
    "Sample -> Mean=Xbar , Standard Deviation=s\n",
    "Population -> Mean=mo(μ) , Standard Deviation=sigma(σ)\n",
    "Sampling Distribution of the Mean -> Mean=MoOfXbar(μ(of)Xbar) , Standard Deviation(Standard Error of the Mean)=SigmaOfXbar(σ(of)Xbar)\n",
    "\"\"\""
   ]
  },
  {
   "cell_type": "code",
   "execution_count": 12,
   "metadata": {},
   "outputs": [],
   "source": [
    "# μ(of)Xbar = μ"
   ]
  },
  {
   "cell_type": "code",
   "execution_count": 14,
   "metadata": {},
   "outputs": [],
   "source": [
    "# SigmaOfXbar(σ(of)Xbar) = σ / ./(n)"
   ]
  },
  {
   "cell_type": "code",
   "execution_count": 15,
   "metadata": {},
   "outputs": [],
   "source": [
    "# Standard Deviation = Enheraf meiar"
   ]
  },
  {
   "cell_type": "code",
   "execution_count": 16,
   "metadata": {},
   "outputs": [],
   "source": [
    "# Introduction to Hypothesis Testing: The Z Test / The T Test"
   ]
  },
  {
   "cell_type": "code",
   "execution_count": 17,
   "metadata": {},
   "outputs": [],
   "source": [
    "# Hypothesis Testing\n",
    "# Z Test"
   ]
  },
  {
   "cell_type": "code",
   "execution_count": 18,
   "metadata": {},
   "outputs": [],
   "source": [
    "# Z Score\n",
    "# ye joraee be nesbat\n",
    "# Standard Core = RawScore-Mean / StandardDeviation"
   ]
  },
  {
   "cell_type": "code",
   "execution_count": 22,
   "metadata": {},
   "outputs": [],
   "source": [
    "# Z Ratio for a single population mean\n",
    "# Z Score\n",
    "# z = Xbar-μ(hyp) / σ(Xbar)\n",
    "# masalan mige be in andaze az enheraf meiar fasele dare"
   ]
  },
  {
   "cell_type": "code",
   "execution_count": 23,
   "metadata": {},
   "outputs": [],
   "source": [
    "# Assumptions of zTest"
   ]
  },
  {
   "cell_type": "code",
   "execution_count": 24,
   "metadata": {},
   "outputs": [],
   "source": [
    "# Statements of the research problem"
   ]
  },
  {
   "cell_type": "code",
   "execution_count": 31,
   "metadata": {},
   "outputs": [],
   "source": [
    "# Null Htpothesis\n",
    "# Alternative Hypothesis"
   ]
  },
  {
   "cell_type": "code",
   "execution_count": 32,
   "metadata": {},
   "outputs": [],
   "source": [
    "# Critical Z Score"
   ]
  },
  {
   "cell_type": "code",
   "execution_count": 34,
   "metadata": {},
   "outputs": [],
   "source": [
    "# Level of Significance = Proportion of Total Area as Rare Outcome\n"
   ]
  },
  {
   "cell_type": "code",
   "execution_count": 35,
   "metadata": {},
   "outputs": [],
   "source": [
    "# More about Hypothesis Trsting"
   ]
  },
  {
   "cell_type": "code",
   "execution_count": 37,
   "metadata": {},
   "outputs": [],
   "source": [
    "# H0 = tasiri nadashte on expierements ya azamayesh ya test ke in ro ha mige ke nemidonim doroste ya na ya H1 nist\n",
    "# H1 = tasir dashte moaser bode ya probabiliy is true"
   ]
  },
  {
   "cell_type": "code",
   "execution_count": 39,
   "metadata": {},
   "outputs": [],
   "source": [
    "# H0 = Null Hypothsis\n",
    "# H1 = Research Hypothesis"
   ]
  },
  {
   "cell_type": "code",
   "execution_count": 40,
   "metadata": {},
   "outputs": [],
   "source": [
    "# from H0 to H1 is a Strong Descision\n",
    "# from H1 to H0 is a Weak Descision"
   ]
  },
  {
   "cell_type": "code",
   "execution_count": 41,
   "metadata": {},
   "outputs": [],
   "source": [
    "# Error type1 = false alarm\n",
    "# Error type2 = miss"
   ]
  },
  {
   "cell_type": "code",
   "execution_count": 42,
   "metadata": {},
   "outputs": [],
   "source": [
    "# Confidence Interval"
   ]
  },
  {
   "cell_type": "code",
   "execution_count": 43,
   "metadata": {},
   "outputs": [],
   "source": [
    "# z = 1.96\n",
    "# Xbar +- ZofConfidence * SigmaOfXbar\n",
    "# Xbar +- ZofConfidence * σ(Xbar)"
   ]
  },
  {
   "cell_type": "code",
   "execution_count": null,
   "metadata": {},
   "outputs": [],
   "source": []
  }
 ],
 "metadata": {
  "kernelspec": {
   "display_name": "venv",
   "language": "python",
   "name": "python3"
  },
  "language_info": {
   "codemirror_mode": {
    "name": "ipython",
    "version": 3
   },
   "file_extension": ".py",
   "mimetype": "text/x-python",
   "name": "python",
   "nbconvert_exporter": "python",
   "pygments_lexer": "ipython3",
   "version": "3.11.0"
  }
 },
 "nbformat": 4,
 "nbformat_minor": 2
}
