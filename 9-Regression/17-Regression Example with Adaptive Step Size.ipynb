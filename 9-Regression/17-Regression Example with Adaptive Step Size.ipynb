{
 "cells": [
  {
   "cell_type": "code",
   "execution_count": 1,
   "metadata": {},
   "outputs": [],
   "source": [
    "import numpy as np"
   ]
  },
  {
   "cell_type": "code",
   "execution_count": 2,
   "metadata": {},
   "outputs": [],
   "source": [
    "np.random.seed(0)"
   ]
  },
  {
   "cell_type": "code",
   "execution_count": 3,
   "metadata": {},
   "outputs": [
    {
     "data": {
      "text/plain": [
       "0.5488135039273248"
      ]
     },
     "execution_count": 3,
     "metadata": {},
     "output_type": "execute_result"
    }
   ],
   "source": [
    "np.random.rand()"
   ]
  },
  {
   "cell_type": "code",
   "execution_count": 5,
   "metadata": {},
   "outputs": [],
   "source": [
    "X = np.random.rand(100, 3)\n",
    "w = np.array([1,2,3])"
   ]
  },
  {
   "cell_type": "code",
   "execution_count": 6,
   "metadata": {},
   "outputs": [
    {
     "data": {
      "text/plain": [
       "array([1, 2, 3])"
      ]
     },
     "execution_count": 6,
     "metadata": {},
     "output_type": "execute_result"
    }
   ],
   "source": [
    "w"
   ]
  },
  {
   "cell_type": "code",
   "execution_count": 8,
   "metadata": {},
   "outputs": [
    {
     "data": {
      "text/plain": [
       "array([[1],\n",
       "       [2],\n",
       "       [3]])"
      ]
     },
     "execution_count": 8,
     "metadata": {},
     "output_type": "execute_result"
    }
   ],
   "source": [
    "w.reshape(-1, 1) # -1 means guess the dimension"
   ]
  },
  {
   "cell_type": "code",
   "execution_count": 13,
   "metadata": {},
   "outputs": [],
   "source": [
    "error = np.random.rand(100, 1)"
   ]
  },
  {
   "cell_type": "code",
   "execution_count": 14,
   "metadata": {},
   "outputs": [
    {
     "data": {
      "text/plain": [
       "array([[1.90650562],\n",
       "       [1.34970436],\n",
       "       [1.62420921],\n",
       "       [1.52443673],\n",
       "       [2.26981434],\n",
       "       [4.38197027],\n",
       "       [1.72829793],\n",
       "       [1.5105309 ],\n",
       "       [4.76585575],\n",
       "       [1.7489459 ],\n",
       "       [3.5529158 ],\n",
       "       [3.88523376],\n",
       "       [2.82388768],\n",
       "       [2.29789789],\n",
       "       [2.07466955],\n",
       "       [3.2980684 ],\n",
       "       [2.88489523],\n",
       "       [3.40840892],\n",
       "       [2.404646  ],\n",
       "       [3.61790145],\n",
       "       [4.28954193],\n",
       "       [4.00070479],\n",
       "       [5.17288046],\n",
       "       [4.01796757],\n",
       "       [2.47609057],\n",
       "       [4.77992594],\n",
       "       [4.66544857],\n",
       "       [5.32496061],\n",
       "       [3.38267937],\n",
       "       [2.11496899],\n",
       "       [3.86490447],\n",
       "       [3.38228845],\n",
       "       [1.20596537],\n",
       "       [3.05465742],\n",
       "       [4.72850573],\n",
       "       [2.91292353],\n",
       "       [1.8750537 ],\n",
       "       [1.35281909],\n",
       "       [0.71125561],\n",
       "       [4.32201981],\n",
       "       [3.26804791],\n",
       "       [4.59146213],\n",
       "       [2.67554854],\n",
       "       [2.91748407],\n",
       "       [3.05411272],\n",
       "       [4.13041147],\n",
       "       [4.34153889],\n",
       "       [2.68125248],\n",
       "       [5.44256216],\n",
       "       [3.96894087],\n",
       "       [2.35807036],\n",
       "       [4.41791663],\n",
       "       [4.68569663],\n",
       "       [2.42064627],\n",
       "       [2.61736083],\n",
       "       [3.94771458],\n",
       "       [4.07165489],\n",
       "       [5.4368906 ],\n",
       "       [5.37204519],\n",
       "       [2.96943096],\n",
       "       [2.30846573],\n",
       "       [2.9325364 ],\n",
       "       [4.8077322 ],\n",
       "       [5.03024601],\n",
       "       [3.27087498],\n",
       "       [2.99600194],\n",
       "       [2.62247389],\n",
       "       [3.99283033],\n",
       "       [3.58674632],\n",
       "       [2.13548636],\n",
       "       [4.11510396],\n",
       "       [2.87466956],\n",
       "       [4.49793519],\n",
       "       [2.12253974],\n",
       "       [2.13821891],\n",
       "       [3.09633802],\n",
       "       [1.97635951],\n",
       "       [2.5877884 ],\n",
       "       [4.2000287 ],\n",
       "       [2.71686152],\n",
       "       [4.04110432],\n",
       "       [3.92881585],\n",
       "       [3.65322096],\n",
       "       [2.41384669],\n",
       "       [2.33690574],\n",
       "       [3.22244534],\n",
       "       [2.6003566 ],\n",
       "       [4.65697689],\n",
       "       [4.88264548],\n",
       "       [6.09403622],\n",
       "       [1.7995388 ],\n",
       "       [2.63003653],\n",
       "       [4.62024592],\n",
       "       [3.77914062],\n",
       "       [3.14417053],\n",
       "       [0.73453667],\n",
       "       [5.32386646],\n",
       "       [2.89419948],\n",
       "       [3.61768075],\n",
       "       [2.90126699]])"
      ]
     },
     "execution_count": 14,
     "metadata": {},
     "output_type": "execute_result"
    }
   ],
   "source": [
    "y = X @ w.reshape(-1, 1) + error\n",
    "y"
   ]
  },
  {
   "cell_type": "code",
   "execution_count": 16,
   "metadata": {},
   "outputs": [],
   "source": [
    "X = np.hstack((np.ones((100, 1)), X))"
   ]
  },
  {
   "cell_type": "code",
   "execution_count": 27,
   "metadata": {},
   "outputs": [
    {
     "data": {
      "text/plain": [
       "array([[1.28557305],\n",
       "       [0.95627329],\n",
       "       [1.41008758],\n",
       "       [1.93967216]])"
      ]
     },
     "execution_count": 27,
     "metadata": {},
     "output_type": "execute_result"
    }
   ],
   "source": [
    "def cost_function(X, y, w):\n",
    "    y_pred = X @ w\n",
    "    n, d = X.shape\n",
    "    cost = np.sum((y - y_pred) ** 2) / (2 * n)\n",
    "    return cost\n",
    "\n",
    "def line_search(X, y, w, tolerance=0.001):\n",
    "    old_cost = cost_function(X, y, w)\n",
    "    step_size = 0.1\n",
    "    grad = gradient(X, y, w)\n",
    "    while cost_function(X, y, w - step_size * grad) > (old_cost + tolerance):\n",
    "        step_size = step_size * 0.5\n",
    "    return step_size\n",
    "\n",
    "def gradient(X, y, w):\n",
    "    n, d = X.shape\n",
    "    grad = X.T @ ((X @ w) - y) / n\n",
    "    return grad\n",
    "\n",
    "def gradient_descent(X, y, num_iter=100):\n",
    "    n, d = X.shape\n",
    "    w = np.zeros((d, 1))\n",
    "    \n",
    "    for _ in range(num_iter):\n",
    "        step_size = line_search(X, y, w)\n",
    "        w = w - step_size * gradient(X, y, w)\n",
    "    \n",
    "    return w\n",
    "\n",
    "gradient_descent(X, y)"
   ]
  },
  {
   "cell_type": "code",
   "execution_count": null,
   "metadata": {},
   "outputs": [],
   "source": []
  },
  {
   "cell_type": "code",
   "execution_count": null,
   "metadata": {},
   "outputs": [],
   "source": []
  }
 ],
 "metadata": {
  "kernelspec": {
   "display_name": "venv",
   "language": "python",
   "name": "python3"
  },
  "language_info": {
   "codemirror_mode": {
    "name": "ipython",
    "version": 3
   },
   "file_extension": ".py",
   "mimetype": "text/x-python",
   "name": "python",
   "nbconvert_exporter": "python",
   "pygments_lexer": "ipython3",
   "version": "3.11.0"
  }
 },
 "nbformat": 4,
 "nbformat_minor": 2
}
